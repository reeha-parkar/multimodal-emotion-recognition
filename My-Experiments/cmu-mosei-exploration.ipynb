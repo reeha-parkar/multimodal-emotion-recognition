{
 "cells": [
  {
   "cell_type": "markdown",
   "id": "9528a7af",
   "metadata": {},
   "source": [
    "## Directory Structure in HPC\n",
    "\n",
    "```\n",
    "cmu-mosei-experiments/\n",
    "├── .ipynb_checkpoints/\n",
    "├── CMU-MultimodalSDK/\n",
    "├── CMU-MultimodalSDK-Tutorials/\n",
    "│   ├── .ipynb_checkpoints/\n",
    "│   ├── constants/\n",
    "│   └── data/\n",
    "│       ├── CMU_MOSEI_COVAREP.csd\n",
    "│       ├── CMU_MOSEI_Labels.csd\n",
    "│       ├── CMU_MOSEI_OpenFace2.csd\n",
    "│       ├── CMU_MOSEI_TimestampedPhones.csd\n",
    "│       ├── CMU_MOSEI_TimestampedWords.csd\n",
    "│       ├── CMU_MOSEI_TimestampedWordVectors.csd\n",
    "│       └── CMU_MOSEI_VisualFacet42.csd\n",
    "├── debug_mmsdk.py\n",
    "├── README.md\n",
    "├── text_LSTM.py\n",
    "└── tutorial_interactive.ipynb\n",
    "```\n",
    "\n",
    "### Description of Data .csd Files:\n",
    "\n",
    "- **data/**: Contains the CMU-MOSEI dataset files in `.csd` format\n",
    "  - `CMU_MOSEI_COVAREP.csd`: Acoustic features\n",
    "  - `CMU_MOSEI_Labels.csd`: Emotion labels and annotations\n",
    "  - `CMU_MOSEI_OpenFace2.csd`: Visual facial features\n",
    "  - `CMU_MOSEI_TimestampedPhones.csd`: Phone-level timestamps\n",
    "  - `CMU_MOSEI_TimestampedWords.csd`: Word-level text features\n",
    "  - `CMU_MOSEI_TimestampedWordVectors.csd`: Word vector embeddings\n",
    "  - `CMU_MOSEI_VisualFacet42.csd`: 42-dimensional visual features\n",
    "\n",
    "- **constants/**: Configuration and path constants\n",
    "- **CMU-MultimodalSDK/**: Core SDK for multimodal data processing\n",
    "- **CMU-MultimodalSDK-Tutorials/**: Tutorial notebooks and examples (Reference: https://github.com/Justin1904/CMU-MultimodalSDK-Tutorials)"
   ]
  },
  {
   "cell_type": "markdown",
   "id": "a6c3ff4f",
   "metadata": {},
   "source": [
    "## Steps for this analysis:\n",
    "1. Connect to jupyter kernel of KCL HPC Create\n",
    "2. And cd to the Tutorials directory, that's where the data is stored"
   ]
  },
  {
   "cell_type": "code",
   "execution_count": 2,
   "id": "f9164ddf",
   "metadata": {},
   "outputs": [
    {
     "data": {
      "text/plain": [
       "'/cephfs/volumes/hpc_data_usr/k24083007/2070c87e-fe07-4f03-a6c4-cae0de8ce617'"
      ]
     },
     "execution_count": 2,
     "metadata": {},
     "output_type": "execute_result"
    }
   ],
   "source": [
    "%pwd"
   ]
  },
  {
   "cell_type": "code",
   "execution_count": 3,
   "id": "5c8a6d72",
   "metadata": {},
   "outputs": [
    {
     "name": "stdout",
     "output_type": "stream",
     "text": [
      "/cephfs/volumes/hpc_data_usr/k24083007/2070c87e-fe07-4f03-a6c4-cae0de8ce617/cmu-mosei-experiments/CMU-MultimodalSDK-Tutorials\n"
     ]
    }
   ],
   "source": [
    "%cd cmu-mosei-experiments/CMU-MultimodalSDK-Tutorials/"
   ]
  },
  {
   "cell_type": "code",
   "execution_count": 4,
   "id": "583be278",
   "metadata": {},
   "outputs": [],
   "source": [
    "import mmsdk\n",
    "import os\n",
    "import re\n",
    "import numpy as np\n",
    "from mmsdk import mmdatasdk as md\n",
    "\n",
    "import sys\n",
    "import requests\n",
    "from constants.paths import SDK_PATH, DATA_PATH"
   ]
  },
  {
   "cell_type": "code",
   "execution_count": 5,
   "id": "ad83339a",
   "metadata": {},
   "outputs": [
    {
     "name": "stdout",
     "output_type": "stream",
     "text": [
      "Tue Jul  1 19:15:26 2025       \n",
      "+---------------------------------------------------------------------------------------+\n",
      "| NVIDIA-SMI 535.230.02             Driver Version: 535.230.02   CUDA Version: 12.2     |\n",
      "|-----------------------------------------+----------------------+----------------------+\n",
      "| GPU  Name                 Persistence-M | Bus-Id        Disp.A | Volatile Uncorr. ECC |\n",
      "| Fan  Temp   Perf          Pwr:Usage/Cap |         Memory-Usage | GPU-Util  Compute M. |\n",
      "|                                         |                      |               MIG M. |\n",
      "|=========================================+======================+======================|\n",
      "|   0  NVIDIA A100-SXM4-40GB          On  | 00000000:B1:00.0 Off |                    0 |\n",
      "| N/A   27C    P0              47W / 400W |      0MiB / 40960MiB |      0%      Default |\n",
      "|                                         |                      |             Disabled |\n",
      "+-----------------------------------------+----------------------+----------------------+\n",
      "                                                                                         \n",
      "+---------------------------------------------------------------------------------------+\n",
      "| Processes:                                                                            |\n",
      "|  GPU   GI   CI        PID   Type   Process name                            GPU Memory |\n",
      "|        ID   ID                                                             Usage      |\n",
      "|=======================================================================================|\n",
      "|  No running processes found                                                           |\n",
      "+---------------------------------------------------------------------------------------+\n"
     ]
    }
   ],
   "source": [
    "!nvidia-smi"
   ]
  },
  {
   "cell_type": "code",
   "execution_count": 6,
   "id": "24c8d274",
   "metadata": {},
   "outputs": [
    {
     "name": "stdout",
     "output_type": "stream",
     "text": [
      "Available data files:\n",
      "CMU_MOSEI_COVAREP.csd\n",
      "CMU_MOSEI_TimestampedWords.csd\n",
      "CMU_MOSEI_OpenFace2.csd\n",
      "CMU_MOSEI_VisualFacet42.csd\n",
      "CMU_MOSEI_TimestampedWordVectors.csd\n",
      "CMU_MOSEI_TimestampedPhones.csd\n",
      "CMU_MOSEI_Labels.csd\n"
     ]
    }
   ],
   "source": [
    "# Ensure SDK is in path\n",
    "sys.path.append(SDK_PATH)\n",
    "\n",
    "# Make sure DATA_PATH exists\n",
    "if not os.path.exists(DATA_PATH):\n",
    "    print(f\"Error: DATA_PATH does not exist: {DATA_PATH}\")\n",
    "    print(\"Please modify DATA_PATH to point to your .csd files directory\")\n",
    "    # os.makedirs(DATA_PATH, exist_ok=True)\n",
    "else:\n",
    "    data_files = os.listdir(DATA_PATH)\n",
    "    print(\"Available data files:\")\n",
    "    print('\\n'.join(data_files))"
   ]
  },
  {
   "cell_type": "markdown",
   "id": "38628bd7",
   "metadata": {},
   "source": [
    "### Viewing the features\n",
    "Loading the multimodal dataset"
   ]
  },
  {
   "cell_type": "code",
   "execution_count": 8,
   "id": "3ba986e1",
   "metadata": {},
   "outputs": [
    {
     "name": "stdout",
     "output_type": "stream",
     "text": [
      "\u001b[92m\u001b[1m[2025-07-01 18:19:14.848] | Success | \u001b[0mComputational sequence read from file ./data/CMU_MOSEI_TimestampedWordVectors.csd ...\n",
      "\u001b[94m\u001b[1m[2025-07-01 18:19:51.934] | Status  | \u001b[0mChecking the integrity of the <glove_vectors> computational sequence ...\n",
      "\u001b[94m\u001b[1m[2025-07-01 18:19:51.934] | Status  | \u001b[0mChecking the format of the data in <glove_vectors> computational sequence ...\n"
     ]
    },
    {
     "name": "stderr",
     "output_type": "stream",
     "text": [
      "                                                                                  \r"
     ]
    },
    {
     "name": "stdout",
     "output_type": "stream",
     "text": [
      "\u001b[92m\u001b[1m[2025-07-01 18:19:52.891] | Success | \u001b[0m<glove_vectors> computational sequence data in correct format.\n",
      "\u001b[94m\u001b[1m[2025-07-01 18:19:52.891] | Status  | \u001b[0mChecking the format of the metadata in <glove_vectors> computational sequence ...\n",
      "\u001b[93m\u001b[1m[2025-07-01 18:19:52.891] | Warning | \u001b[0m<glove_vectors> computational sequence does not have all the required metadata ... continuing \n",
      "\u001b[92m\u001b[1m[2025-07-01 18:19:52.892] | Success | \u001b[0mComputational sequence read from file ./data/CMU_MOSEI_VisualFacet42.csd ...\n",
      "\u001b[94m\u001b[1m[2025-07-01 18:19:52.962] | Status  | \u001b[0mChecking the integrity of the <FACET 4.2> computational sequence ...\n",
      "\u001b[94m\u001b[1m[2025-07-01 18:19:52.962] | Status  | \u001b[0mChecking the format of the data in <FACET 4.2> computational sequence ...\n"
     ]
    },
    {
     "name": "stderr",
     "output_type": "stream",
     "text": [
      "                                                                                  \r"
     ]
    },
    {
     "name": "stdout",
     "output_type": "stream",
     "text": [
      "\u001b[92m\u001b[1m[2025-07-01 18:19:53.847] | Success | \u001b[0m<FACET 4.2> computational sequence data in correct format.\n",
      "\u001b[94m\u001b[1m[2025-07-01 18:19:53.847] | Status  | \u001b[0mChecking the format of the metadata in <FACET 4.2> computational sequence ...\n",
      "\u001b[93m\u001b[1m[2025-07-01 18:19:53.847] | Warning | \u001b[0m<FACET 4.2> computational sequence does not have all the required metadata ... continuing \n",
      "\u001b[92m\u001b[1m[2025-07-01 18:19:53.847] | Success | \u001b[0mComputational sequence read from file ./data/CMU_MOSEI_COVAREP.csd ...\n",
      "\u001b[94m\u001b[1m[2025-07-01 18:20:18.470] | Status  | \u001b[0mChecking the integrity of the <COVAREP> computational sequence ...\n",
      "\u001b[94m\u001b[1m[2025-07-01 18:20:18.470] | Status  | \u001b[0mChecking the format of the data in <COVAREP> computational sequence ...\n"
     ]
    },
    {
     "name": "stderr",
     "output_type": "stream",
     "text": [
      "                                                                                 "
     ]
    },
    {
     "name": "stdout",
     "output_type": "stream",
     "text": [
      "\u001b[92m\u001b[1m[2025-07-01 18:20:49.290] | Success | \u001b[0m<COVAREP> computational sequence data in correct format.\n",
      "\u001b[94m\u001b[1m[2025-07-01 18:20:49.290] | Status  | \u001b[0mChecking the format of the metadata in <COVAREP> computational sequence ...\n",
      "\u001b[93m\u001b[1m[2025-07-01 18:20:49.290] | Warning | \u001b[0m<COVAREP> computational sequence does not have all the required metadata ... continuing \n",
      "\u001b[92m\u001b[1m[2025-07-01 18:20:49.290] | Success | \u001b[0mDataset initialized successfully ... \n",
      "Dataset loaded successfully!\n"
     ]
    },
    {
     "name": "stderr",
     "output_type": "stream",
     "text": [
      "\r"
     ]
    }
   ],
   "source": [
    "text_field = 'CMU_MOSEI_TimestampedWordVectors'\n",
    "visual_field = 'CMU_MOSEI_VisualFacet42'\n",
    "acoustic_field = 'CMU_MOSEI_COVAREP'\n",
    "\n",
    "# Define the features to load\n",
    "features = [\n",
    "    text_field, \n",
    "    visual_field, \n",
    "    acoustic_field\n",
    "]\n",
    "\n",
    "recipe = {feat: os.path.join(DATA_PATH, feat) + '.csd' for feat in features}\n",
    "\n",
    "# Load the dataset\n",
    "try:\n",
    "    dataset = md.mmdataset(recipe)\n",
    "    print(\"Dataset loaded successfully!\")\n",
    "except Exception as e:\n",
    "    print(f\"Error loading dataset: {e}\")\n",
    "    print(\"Available files:\", data_files)"
   ]
  },
  {
   "cell_type": "code",
   "execution_count": null,
   "id": "757d17af",
   "metadata": {},
   "outputs": [
    {
     "name": "stdout",
     "output_type": "stream",
     "text": [
      "Dataset keys: ['CMU_MOSEI_TimestampedWords', 'CMU_MOSEI_VisualFacet42', 'CMU_MOSEI_COVAREP']\n",
      "================================================================================\n",
      "Number of videos: 3837\n",
      "First 10 video IDs: ['--qXJuDtHPw', '-3g5yACwYnA', '-3nNcZdcdvU', '-571d8cVauQ', '-6rXp3zJ3kc', '-9YyBTjo1zo', '-9y-fZ3swSY', '-AUZQgSxyPQ', '-Alixo7euuU', '-Eqdz5y4pEY']\n",
      "================================================================================\n",
      "Examining video: -IqSFQePnpU\n",
      "Available data for this video: ['features', 'intervals']\n",
      "================================================================================\n",
      "Visual features shape: (3658, 35)\n",
      "Visual intervals shape: (3658, 2)\n",
      "Text features shape: (321, 1)\n",
      "Acoustic features shape: (12209, 74)\n"
     ]
    }
   ],
   "source": [
    "# Explore the dataset structure\n",
    "print(\"Dataset keys:\", list(dataset.keys()))\n",
    "print(\"=\" * 80)\n",
    "\n",
    "# Get video IDs from one modality\n",
    "video_ids = list(dataset[visual_field].keys())\n",
    "print(f\"Number of videos: {len(video_ids)}\")\n",
    "print(\"First 10 video IDs:\", video_ids[:10])\n",
    "print(\"=\" * 80)\n",
    "\n",
    "# Examine a specific video\n",
    "some_id = video_ids[15] if len(video_ids) > 15 else video_ids[0]\n",
    "print(f\"Examining video: {some_id}\")\n",
    "print(\"Available data for this video:\", list(dataset[visual_field][some_id].keys()))\n",
    "print(\"=\" * 80)\n",
    "\n",
    "# Check shapes of different modalities for this video\n",
    "print(\"Visual features shape:\", dataset[visual_field][some_id]['features'].shape) # (time_steps or intervals, feature_dim)\n",
    "print(\"Visual intervals shape:\", dataset[visual_field][some_id]['intervals'].shape) # (time_steps or intervals, 2) 2 because start and end times\n",
    "print(\"Text features shape:\", dataset[text_field][some_id]['features'].shape)\n",
    "print(\"Acoustic features shape:\", dataset[acoustic_field][some_id]['features'].shape)"
   ]
  },
  {
   "cell_type": "markdown",
   "id": "2e545c4c",
   "metadata": {},
   "source": [
    "Different modalities have different number of time steps"
   ]
  },
  {
   "cell_type": "code",
   "execution_count": null,
   "id": "2c76dd2f",
   "metadata": {},
   "outputs": [
    {
     "name": "stdout",
     "output_type": "stream",
     "text": [
      "Aligning modalities to text...\n",
      "\u001b[94m\u001b[1m[2025-06-30 09:18:18.174] | Status  | \u001b[0mUnify was called ...\n",
      "\u001b[93m\u001b[1m[2025-06-30 09:18:18.177] | Warning | \u001b[0mPEBwwe0PLZ8 entry is not shared among all sequences, removing it ...\n",
      "\u001b[92m\u001b[1m[2025-06-30 09:18:18.178] | Success | \u001b[0mUnify completed ...\n",
      "\u001b[94m\u001b[1m[2025-06-30 09:18:18.178] | Status  | \u001b[0mPre-alignment based on <CMU_MOSEI_TimestampedWords> computational sequence started ...\n",
      "\u001b[94m\u001b[1m[2025-06-30 09:20:17.774] | Status  | \u001b[0mPre-alignment done for <CMU_MOSEI_COVAREP> ...\n",
      "\u001b[94m\u001b[1m[2025-06-30 09:20:33.170] | Status  | \u001b[0mPre-alignment done for <CMU_MOSEI_VisualFacet42> ...\n",
      "\u001b[94m\u001b[1m[2025-06-30 09:20:33.642] | Status  | \u001b[0mAlignment starting ...\n"
     ]
    },
    {
     "name": "stderr",
     "output_type": "stream",
     "text": [
      "                                                                                                   \r"
     ]
    },
    {
     "name": "stdout",
     "output_type": "stream",
     "text": [
      "\u001b[92m\u001b[1m[2025-06-30 09:56:28.641] | Success | \u001b[0mAlignment to <CMU_MOSEI_TimestampedWords> complete.\n",
      "\u001b[94m\u001b[1m[2025-06-30 09:56:28.641] | Status  | \u001b[0mReplacing dataset content with aligned computational sequences\n",
      "\u001b[92m\u001b[1m[2025-06-30 09:56:28.730] | Success | \u001b[0mInitialized empty <CMU_MOSEI_TimestampedWords> computational sequence.\n",
      "\u001b[94m\u001b[1m[2025-06-30 09:56:28.736] | Status  | \u001b[0mChecking the format of the data in <CMU_MOSEI_TimestampedWords> computational sequence ...\n"
     ]
    },
    {
     "name": "stderr",
     "output_type": "stream",
     "text": [
      "                                                                                          \r"
     ]
    },
    {
     "name": "stdout",
     "output_type": "stream",
     "text": [
      "\u001b[92m\u001b[1m[2025-06-30 09:56:30.746] | Success | \u001b[0m<CMU_MOSEI_TimestampedWords> computational sequence data in correct format.\n",
      "\u001b[94m\u001b[1m[2025-06-30 09:56:30.800] | Status  | \u001b[0mChecking the format of the metadata in <CMU_MOSEI_TimestampedWords> computational sequence ...\n",
      "\u001b[93m\u001b[1m[2025-06-30 09:56:30.803] | Warning | \u001b[0m<CMU_MOSEI_TimestampedWords> computational sequence does not have all the required metadata ... continuing \n",
      "\u001b[92m\u001b[1m[2025-06-30 09:56:30.806] | Success | \u001b[0mInitialized empty <CMU_MOSEI_VisualFacet42> computational sequence.\n",
      "\u001b[94m\u001b[1m[2025-06-30 09:56:30.941] | Status  | \u001b[0mChecking the format of the data in <CMU_MOSEI_VisualFacet42> computational sequence ...\n"
     ]
    },
    {
     "name": "stderr",
     "output_type": "stream",
     "text": [
      "                                                                                          \r"
     ]
    },
    {
     "name": "stdout",
     "output_type": "stream",
     "text": [
      "\u001b[92m\u001b[1m[2025-06-30 09:56:32.492] | Success | \u001b[0m<CMU_MOSEI_VisualFacet42> computational sequence data in correct format.\n",
      "\u001b[94m\u001b[1m[2025-06-30 09:56:32.492] | Status  | \u001b[0mChecking the format of the metadata in <CMU_MOSEI_VisualFacet42> computational sequence ...\n",
      "\u001b[93m\u001b[1m[2025-06-30 09:56:32.492] | Warning | \u001b[0m<CMU_MOSEI_VisualFacet42> computational sequence does not have all the required metadata ... continuing \n",
      "\u001b[92m\u001b[1m[2025-06-30 09:56:32.492] | Success | \u001b[0mInitialized empty <CMU_MOSEI_COVAREP> computational sequence.\n",
      "\u001b[94m\u001b[1m[2025-06-30 09:56:32.492] | Status  | \u001b[0mChecking the format of the data in <CMU_MOSEI_COVAREP> computational sequence ...\n"
     ]
    },
    {
     "name": "stderr",
     "output_type": "stream",
     "text": [
      "                                                                                          "
     ]
    },
    {
     "name": "stdout",
     "output_type": "stream",
     "text": [
      "\u001b[92m\u001b[1m[2025-06-30 09:56:33.845] | Success | \u001b[0m<CMU_MOSEI_COVAREP> computational sequence data in correct format.\n",
      "\u001b[94m\u001b[1m[2025-06-30 09:56:33.845] | Status  | \u001b[0mChecking the format of the metadata in <CMU_MOSEI_COVAREP> computational sequence ...\n",
      "\u001b[93m\u001b[1m[2025-06-30 09:56:33.845] | Warning | \u001b[0m<CMU_MOSEI_COVAREP> computational sequence does not have all the required metadata ... continuing \n",
      "Alignment completed!\n"
     ]
    },
    {
     "name": "stderr",
     "output_type": "stream",
     "text": [
      "\r"
     ]
    }
   ],
   "source": [
    "# Align the modalities (following the tutorial approach)\n",
    "def avg(intervals: np.array, features: np.array) -> np.array:\n",
    "    \"\"\"Simple averaging function that does not depend on intervals\"\"\"\n",
    "    try:\n",
    "        return np.average(features, axis=0)\n",
    "    except:\n",
    "        return features\n",
    "\n",
    "# Align to words with averaging\n",
    "print(\"Aligning modalities to text...\")\n",
    "dataset.align(text_field, collapse_functions=[avg])\n",
    "print(\"Alignment completed!\")"
   ]
  },
  {
   "cell_type": "code",
   "execution_count": null,
   "id": "982cd173",
   "metadata": {},
   "outputs": [
    {
     "name": "stdout",
     "output_type": "stream",
     "text": [
      "\u001b[93m\u001b[1m[2025-06-30 12:02:05.724] | Warning | \u001b[0mDataset already contains <CMU_MOSEI_Labels> computational sequence ...\n",
      "\u001b[92m\u001b[1m[2025-06-30 12:02:05.725] | Success | \u001b[0mComputational sequence read from file ./data/CMU_MOSEI_Labels.csd ...\n",
      "\u001b[94m\u001b[1m[2025-06-30 12:02:05.799] | Status  | \u001b[0mChecking the integrity of the <All Labels> computational sequence ...\n",
      "\u001b[94m\u001b[1m[2025-06-30 12:02:05.800] | Status  | \u001b[0mChecking the format of the data in <All Labels> computational sequence ...\n"
     ]
    },
    {
     "name": "stderr",
     "output_type": "stream",
     "text": [
      "                                                                                  \r"
     ]
    },
    {
     "name": "stdout",
     "output_type": "stream",
     "text": [
      "\u001b[92m\u001b[1m[2025-06-30 12:02:06.613] | Success | \u001b[0m<All Labels> computational sequence data in correct format.\n",
      "\u001b[94m\u001b[1m[2025-06-30 12:02:06.613] | Status  | \u001b[0mChecking the format of the metadata in <All Labels> computational sequence ...\n",
      "\u001b[93m\u001b[1m[2025-06-30 12:02:06.613] | Warning | \u001b[0m<All Labels> computational sequence does not have all the required metadata ... continuing \n",
      "\u001b[94m\u001b[1m[2025-06-30 12:02:06.698] | Status  | \u001b[0mUnify was called ...\n",
      "\u001b[93m\u001b[1m[2025-06-30 12:02:06.863] | Warning | \u001b[0mHuIKyKkEL0Q entry is not shared among all sequences, removing it ...\n",
      "\u001b[93m\u001b[1m[2025-06-30 12:02:06.872] | Warning | \u001b[0mPEBwwe0PLZ8 entry is not shared among all sequences, removing it ...\n",
      "\u001b[92m\u001b[1m[2025-06-30 12:02:06.880] | Success | \u001b[0mUnify completed ...\n",
      "\u001b[94m\u001b[1m[2025-06-30 12:02:06.881] | Status  | \u001b[0mPre-alignment based on <CMU_MOSEI_Labels> computational sequence started ...\n",
      "\u001b[94m\u001b[1m[2025-06-30 12:02:07.120] | Status  | \u001b[0mPre-alignment done for <CMU_MOSEI_TimestampedWords> ...\n",
      "\u001b[94m\u001b[1m[2025-06-30 12:02:07.538] | Status  | \u001b[0mPre-alignment done for <CMU_MOSEI_COVAREP> ...\n",
      "\u001b[94m\u001b[1m[2025-06-30 12:02:07.892] | Status  | \u001b[0mPre-alignment done for <CMU_MOSEI_VisualFacet42> ...\n",
      "\u001b[94m\u001b[1m[2025-06-30 12:02:07.896] | Status  | \u001b[0mAlignment starting ...\n"
     ]
    },
    {
     "name": "stderr",
     "output_type": "stream",
     "text": [
      "Overall Progress:  51%|█████     | 1664/3291 [00:18<00:13, 116.47 Computational Sequence Entries/s]\n",
      "IOPub message rate exceeded.\n",
      "The Jupyter server will temporarily stop sending output\n",
      "to the client in order to avoid crashing it.\n",
      "To change this limit, set the config variable\n",
      "`--ServerApp.iopub_msg_rate_limit`.\n",
      "\n",
      "Current values:\n",
      "ServerApp.iopub_msg_rate_limit=1000.0 (msgs/sec)\n",
      "ServerApp.rate_limit_window=3.0 (secs)\n",
      "                                                                                                   \r"
     ]
    },
    {
     "name": "stdout",
     "output_type": "stream",
     "text": [
      "\u001b[92m\u001b[1m[2025-06-30 12:02:42.057] | Success | \u001b[0mAlignment to <CMU_MOSEI_Labels> complete.\n",
      "\u001b[94m\u001b[1m[2025-06-30 12:02:42.057] | Status  | \u001b[0mReplacing dataset content with aligned computational sequences\n",
      "\u001b[92m\u001b[1m[2025-06-30 12:02:42.160] | Success | \u001b[0mInitialized empty <CMU_MOSEI_TimestampedWords> computational sequence.\n",
      "\u001b[94m\u001b[1m[2025-06-30 12:02:42.196] | Status  | \u001b[0mChecking the format of the data in <CMU_MOSEI_TimestampedWords> computational sequence ...\n"
     ]
    },
    {
     "name": "stderr",
     "output_type": "stream",
     "text": [
      "                                                                      \r"
     ]
    },
    {
     "name": "stdout",
     "output_type": "stream",
     "text": [
      "\u001b[92m\u001b[1m[2025-06-30 12:02:42.259] | Success | \u001b[0m<CMU_MOSEI_TimestampedWords> computational sequence data in correct format.\n",
      "\u001b[94m\u001b[1m[2025-06-30 12:02:42.279] | Status  | \u001b[0mChecking the format of the metadata in <CMU_MOSEI_TimestampedWords> computational sequence ...\n",
      "\u001b[93m\u001b[1m[2025-06-30 12:02:42.307] | Warning | \u001b[0m<CMU_MOSEI_TimestampedWords> computational sequence does not have all the required metadata ... continuing \n",
      "\u001b[92m\u001b[1m[2025-06-30 12:02:42.326] | Success | \u001b[0mInitialized empty <CMU_MOSEI_VisualFacet42> computational sequence.\n",
      "\u001b[94m\u001b[1m[2025-06-30 12:02:42.344] | Status  | \u001b[0mChecking the format of the data in <CMU_MOSEI_VisualFacet42> computational sequence ...\n"
     ]
    },
    {
     "name": "stderr",
     "output_type": "stream",
     "text": [
      "                                                                      \r"
     ]
    },
    {
     "name": "stdout",
     "output_type": "stream",
     "text": [
      "\u001b[92m\u001b[1m[2025-06-30 12:02:42.382] | Success | \u001b[0m<CMU_MOSEI_VisualFacet42> computational sequence data in correct format.\n",
      "\u001b[94m\u001b[1m[2025-06-30 12:02:42.382] | Status  | \u001b[0mChecking the format of the metadata in <CMU_MOSEI_VisualFacet42> computational sequence ...\n",
      "\u001b[93m\u001b[1m[2025-06-30 12:02:42.423] | Warning | \u001b[0m<CMU_MOSEI_VisualFacet42> computational sequence does not have all the required metadata ... continuing \n",
      "\u001b[92m\u001b[1m[2025-06-30 12:02:42.440] | Success | \u001b[0mInitialized empty <CMU_MOSEI_COVAREP> computational sequence.\n",
      "\u001b[94m\u001b[1m[2025-06-30 12:02:42.462] | Status  | \u001b[0mChecking the format of the data in <CMU_MOSEI_COVAREP> computational sequence ...\n"
     ]
    },
    {
     "name": "stderr",
     "output_type": "stream",
     "text": [
      "                                                                      \r"
     ]
    },
    {
     "name": "stdout",
     "output_type": "stream",
     "text": [
      "\u001b[92m\u001b[1m[2025-06-30 12:02:42.528] | Success | \u001b[0m<CMU_MOSEI_COVAREP> computational sequence data in correct format.\n",
      "\u001b[94m\u001b[1m[2025-06-30 12:02:42.552] | Status  | \u001b[0mChecking the format of the metadata in <CMU_MOSEI_COVAREP> computational sequence ...\n",
      "\u001b[93m\u001b[1m[2025-06-30 12:02:42.556] | Warning | \u001b[0m<CMU_MOSEI_COVAREP> computational sequence does not have all the required metadata ... continuing \n",
      "\u001b[92m\u001b[1m[2025-06-30 12:02:42.572] | Success | \u001b[0mInitialized empty <CMU_MOSEI_Labels> computational sequence.\n",
      "\u001b[94m\u001b[1m[2025-06-30 12:02:42.582] | Status  | \u001b[0mChecking the format of the data in <CMU_MOSEI_Labels> computational sequence ...\n"
     ]
    },
    {
     "name": "stderr",
     "output_type": "stream",
     "text": [
      "                                                                      "
     ]
    },
    {
     "name": "stdout",
     "output_type": "stream",
     "text": [
      "\u001b[92m\u001b[1m[2025-06-30 12:02:42.623] | Success | \u001b[0m<CMU_MOSEI_Labels> computational sequence data in correct format.\n",
      "\u001b[94m\u001b[1m[2025-06-30 12:02:42.623] | Status  | \u001b[0mChecking the format of the metadata in <CMU_MOSEI_Labels> computational sequence ...\n",
      "\u001b[93m\u001b[1m[2025-06-30 12:02:42.623] | Warning | \u001b[0m<CMU_MOSEI_Labels> computational sequence does not have all the required metadata ... continuing \n",
      "After alignment, keys changed to format: -HwX2H8Z4hY[4]\n",
      "Total number of segments: 23247\n"
     ]
    },
    {
     "name": "stderr",
     "output_type": "stream",
     "text": [
      "\r"
     ]
    }
   ],
   "source": [
    "# Add labels and align to them\n",
    "label_field = 'CMU_MOSEI_Labels'\n",
    "\n",
    "# Add labels to the dataset\n",
    "label_recipe = {label_field: os.path.join(DATA_PATH, label_field + '.csd')}\n",
    "dataset.add_computational_sequences(label_recipe, destination=None)\n",
    "\n",
    "# Align to labels to get labeled segments\n",
    "dataset.align(label_field)\n",
    "\n",
    "# Check the new keys format\n",
    "new_keys = list(dataset[text_field].keys())\n",
    "print(f\"After alignment, keys changed to format: {new_keys[55]}\")\n",
    "print(f\"Total number of segments: {len(new_keys)}\")"
   ]
  },
  {
   "cell_type": "code",
   "execution_count": null,
   "id": "c0269597",
   "metadata": {},
   "outputs": [
    {
     "name": "stdout",
     "output_type": "stream",
     "text": [
      "----------------------------------- DATA ANALYSIS -----------------------------------\n",
      "Text segments: 23248\n",
      "Visual segments: 23240\n",
      "Acoustic segments: 23248\n",
      "Label segments: 23248\n",
      "\n",
      "Segment: --qXJuDtHPw[0]\n",
      "  Text: (22, 1), Visual: (22, 35), Acoustic: (22, 74), Label: (1, 7)\n",
      "  Label value: [[1.        0.6666667 0.        0.        0.        0.        0.       ]]\n",
      "\n",
      "Segment: -3g5yACwYnA[0]\n",
      "  Text: (55, 1), Visual: (55, 35), Acoustic: (55, 74), Label: (1, 7)\n",
      "  Label value: [[1.        0.6666667 0.6666667 0.        0.        0.        0.6666667]]\n",
      "\n",
      "Segment: -3g5yACwYnA[1]\n",
      "  Text: (22, 1), Visual: (22, 35), Acoustic: (22, 74), Label: (1, 7)\n",
      "  Label value: [[0.6666667 0.        0.        0.        0.        0.        0.       ]]\n",
      "\n",
      "Segment: -3g5yACwYnA[2]\n",
      "  Text: (23, 1), Visual: (23, 35), Acoustic: (23, 74), Label: (1, 7)\n",
      "  Label value: [[0.         0.6666667  0.6666667  0.         0.         0.\n",
      "  0.33333334]]\n",
      "\n",
      "Segment: -3g5yACwYnA[3]\n",
      "  Text: (42, 1), Visual: (42, 35), Acoustic: (42, 74), Label: (1, 7)\n",
      "  Label value: [[0.         0.33333334 0.33333334 0.         0.         0.\n",
      "  0.        ]]\n"
     ]
    }
   ],
   "source": [
    "# Analyze the data statistics\n",
    "print(\"----------------------------------- DATA ANALYSIS -----------------------------------\")\n",
    "\n",
    "# Count segments per modality\n",
    "text_segments = len(list(dataset[text_field].keys()))\n",
    "visual_segments = len(list(dataset[visual_field].keys()))\n",
    "acoustic_segments = len(list(dataset[acoustic_field].keys()))\n",
    "label_segments = len(list(dataset[label_field].keys()))\n",
    "\n",
    "print(f\"Text segments: {text_segments}\")\n",
    "print(f\"Visual segments: {visual_segments}\")\n",
    "print(f\"Acoustic segments: {acoustic_segments}\")\n",
    "print(f\"Label segments: {label_segments}\")\n",
    "\n",
    "# Sample a few segments to check data\n",
    "sample_segments = list(dataset[label_field].keys())[:5]\n",
    "for segment in sample_segments:\n",
    "    try:\n",
    "        text_shape = dataset[text_field][segment]['features'].shape\n",
    "        visual_shape = dataset[visual_field][segment]['features'].shape\n",
    "        acoustic_shape = dataset[acoustic_field][segment]['features'].shape\n",
    "        label_shape = dataset[label_field][segment]['features'].shape\n",
    "        \n",
    "        print(f\"\\nSegment: {segment}\")\n",
    "        print(f\"  Text: {text_shape}, Visual: {visual_shape}, Acoustic: {acoustic_shape}, Label: {label_shape}\")\n",
    "        print(f\"  Label value: {dataset[label_field][segment]['features']}\")\n",
    "    except KeyError as e:\n",
    "        print(f\"Missing data for segment {segment}: {e}\")"
   ]
  },
  {
   "cell_type": "markdown",
   "id": "7bae3194",
   "metadata": {},
   "source": [
    "## Downloading the alternate glove vectors (ref: sdk) \n",
    "(Not able to download, host server is down)"
   ]
  },
  {
   "cell_type": "code",
   "execution_count": null,
   "id": "da76bf29",
   "metadata": {},
   "outputs": [
    {
     "name": "stdout",
     "output_type": "stream",
     "text": [
      "Downloading http://immortal.multicomp.cs.cmu.edu/CMU-MOSEI/language/CMU_MOSEI_TimestampedGloveVectors_with_SP.csd to ./data/CMU_MOSEI_GloveVectorswithSP.csd\n",
      "Error downloading CMU_MOSEI_GloveVectorswithSP.csd: HTTPConnectionPool(host='immortal.multicomp.cs.cmu.edu', port=80): Max retries exceeded with url: /CMU-MOSEI/language/CMU_MOSEI_TimestampedGloveVectors_with_SP.csd (Caused by ConnectTimeoutError(<urllib3.connection.HTTPConnection object at 0x76f2cb393310>, 'Connection to immortal.multicomp.cs.cmu.edu timed out. (connect timeout=None)'))\n",
      "\n",
      "Downloaded files in DATA_PATH:\n",
      "- CMU_MOSEI_COVAREP.csd\n",
      "- CMU_MOSEI_TimestampedWords.csd\n",
      "- CMU_MOSEI_OpenFace2.csd\n",
      "- CMU_MOSEI_VisualFacet42.csd\n",
      "- CMU_MOSEI_TimestampedWordVectors.csd\n",
      "- CMU_MOSEI_TimestampedPhones.csd\n",
      "- CMU_MOSEI_Labels.csd\n",
      "\n",
      "Now you can continue using the downloaded files.\n"
     ]
    }
   ],
   "source": [
    "# Define direct URLs to the MOSEI dataset\n",
    "mosei_urls = {\n",
    "    \"CMU_MOSEI_GloveVectorswithSP.csd\": \"http://immortal.multicomp.cs.cmu.edu/CMU-MOSEI/language/CMU_MOSEI_TimestampedGloveVectors_with_SP.csd\"\n",
    "}\n",
    "\n",
    "# Download files directly using requests\n",
    "for filename, url in mosei_urls.items():\n",
    "    file_path = os.path.join(DATA_PATH, filename)\n",
    "    if os.path.exists(file_path):\n",
    "        print(f\"File {filename} already exists, skipping download\")\n",
    "        continue\n",
    "        \n",
    "    print(f\"Downloading {url} to {file_path}\")\n",
    "    try:\n",
    "        response = requests.get(url, stream=True)\n",
    "        if response.status_code == 200:\n",
    "            with open(file_path, 'wb') as f:\n",
    "                for chunk in response.iter_content(chunk_size=8192):\n",
    "                    f.write(chunk)\n",
    "            print(f\"Successfully downloaded {filename}\")\n",
    "        else:\n",
    "            print(f\"Failed to download {filename}: HTTP {response.status_code}\")\n",
    "    except Exception as e:\n",
    "        print(f\"Error downloading {filename}: {e}\")\n",
    "\n",
    "print(\"\\nDownloaded files in DATA_PATH:\")\n",
    "for file in os.listdir(DATA_PATH):\n",
    "    print(f\"- {file}\")\n",
    "\n",
    "print(\"\\nNow you can continue using the downloaded files.\")"
   ]
  },
  {
   "cell_type": "markdown",
   "id": "534a39fc",
   "metadata": {},
   "source": [
    "# Data Viz"
   ]
  },
  {
   "cell_type": "code",
   "execution_count": null,
   "id": "f078b3a6",
   "metadata": {},
   "outputs": [],
   "source": [
    "import matplotlib.pyplot as plt\n",
    "import seaborn as sns\n",
    "from collections import Counter\n",
    "import pandas as pd\n",
    "\n",
    "plt.style.use('default')\n",
    "sns.set_palette(\"husl\")"
   ]
  },
  {
   "cell_type": "code",
   "execution_count": null,
   "id": "f77bbee4",
   "metadata": {},
   "outputs": [
    {
     "data": {
      "text/plain": [
       "<mmsdk.mmdatasdk.dataset.dataset.mmdataset at 0x76f2f43d9110>"
      ]
     },
     "execution_count": 13,
     "metadata": {},
     "output_type": "execute_result"
    }
   ],
   "source": [
    "dataset"
   ]
  },
  {
   "cell_type": "code",
   "execution_count": null,
   "id": "557ea9fd",
   "metadata": {},
   "outputs": [
    {
     "name": "stdout",
     "output_type": "stream",
     "text": [
      "Collected 23248 segments\n",
      "Label dimensions: 7\n"
     ]
    }
   ],
   "source": [
    "# Collect all labels\n",
    "all_labels = []\n",
    "segment_ids = []\n",
    "\n",
    "for segment_id in list(dataset[label_field].keys()):\n",
    "    try:\n",
    "        features = dataset[label_field][segment_id]['features']\n",
    "        \n",
    "        # Handle different label formats\n",
    "        if len(features.shape) == 1:\n",
    "            label_values = features\n",
    "        else:\n",
    "            # Average over time dimension if present\n",
    "            label_values = features.mean(axis=0)\n",
    "        \n",
    "        all_labels.append(label_values)\n",
    "        segment_ids.append(segment_id)\n",
    "        \n",
    "    except Exception as e:\n",
    "        print(f\"Error processing segment {segment_id}: {e}\")\n",
    "        continue\n",
    "\n",
    "all_labels_data = np.array(all_labels)\n",
    "print(f\"Collected {len(all_labels)} segments\")\n",
    "print(f\"Label dimensions: {all_labels_data.shape[1] if len(all_labels_data.shape) > 1 else 1}\")"
   ]
  },
  {
   "cell_type": "code",
   "execution_count": null,
   "id": "87707d45",
   "metadata": {},
   "outputs": [],
   "source": []
  },
  {
   "cell_type": "code",
   "execution_count": null,
   "id": "ad824cd3",
   "metadata": {},
   "outputs": [
    {
     "name": "stdout",
     "output_type": "stream",
     "text": [
      "\n",
      "Happy:\n",
      "  Range: [-3.000, 3.000]\n",
      "  Mean ± Std: 0.152 ± 1.112\n",
      "  Median: 0.000\n",
      "  Presence: Present=11471 (49.3%), Absent=11777\n",
      "\n",
      "Sad:\n",
      "  Range: [0.000, 3.000]\n",
      "  Mean ± Std: 0.480 ± 0.629\n",
      "  Median: 0.333\n",
      "  Presence: Present=12459 (53.6%), Absent=10789\n",
      "\n",
      "Anger:\n",
      "  Range: [0.000, 3.000]\n",
      "  Mean ± Std: 0.157 ± 0.324\n",
      "  Median: 0.000\n",
      "  Presence: Present=5997 (25.8%), Absent=17251\n",
      "\n",
      "Surprise:\n",
      "  Range: [0.000, 3.000]\n",
      "  Mean ± Std: 0.156 ± 0.362\n",
      "  Median: 0.000\n",
      "  Presence: Present=4995 (21.5%), Absent=18253\n",
      "\n",
      "Disgust:\n",
      "  Range: [0.000, 3.000]\n",
      "  Mean ± Std: 0.048 ± 0.168\n",
      "  Median: 0.000\n",
      "  Presence: Present=2318 (10.0%), Absent=20930\n",
      "\n",
      "Fear:\n",
      "  Range: [0.000, 3.000]\n",
      "  Mean ± Std: 0.120 ± 0.320\n",
      "  Median: 0.000\n",
      "  Presence: Present=4097 (17.6%), Absent=19151\n"
     ]
    }
   ],
   "source": [
    "# Get some emotion stats\n",
    "# \n",
    "# emotion_names = ['Sentiment', 'Happy', 'Sad', 'Anger', 'Surprise', 'Disgust', 'Fear']\n",
    "n_emotions = min(len(emotion_names), all_labels_data.shape[1]) # Because some datasets may not have all emotions\n",
    "\n",
    "\n",
    "stats_dict = {}\n",
    "\n",
    "for i in range(min(len(emotion_names), all_labels_data.shape[1])):\n",
    "    emotion = emotion_names[i]\n",
    "    values = all_labels_data[:, i]\n",
    "    \n",
    "    stats = {\n",
    "        'mean': values.mean(),\n",
    "        'std': values.std(),\n",
    "        'min': values.min(),\n",
    "        'max': values.max(),\n",
    "        'median': np.median(values)\n",
    "    }\n",
    "    \n",
    "    stats_dict[emotion] = stats\n",
    "    \n",
    "    print(f\"\\n{emotion}:\")\n",
    "    print(f\"  Range: [{stats['min']:.3f}, {stats['max']:.3f}]\")\n",
    "    print(f\"  Mean ± Std: {stats['mean']:.3f} ± {stats['std']:.3f}\")\n",
    "    print(f\"  Median: {stats['median']:.3f}\")\n",
    "    \n",
    "    # Special analysis for sentiment\n",
    "    if emotion == 'Sentiment':\n",
    "        positive = (values > 0).sum()\n",
    "        negative = (values < 0).sum()\n",
    "        neutral = (np.abs(values) < 0.1).sum()\n",
    "        print(f\"  Distribution: Positive={positive}, Negative={negative}, Neutral={neutral}\")\n",
    "    else:\n",
    "        # For emotions, check presence/absence\n",
    "        present = (values > 0.1).sum()\n",
    "        absent = (values <= 0.1).sum()\n",
    "        print(f\"  Presence: Present={present} ({present/len(values)*100:.1f}%), Absent={absent}\")\n",
    "    "
   ]
  },
  {
   "cell_type": "code",
   "execution_count": null,
   "id": "fb394a31",
   "metadata": {},
   "outputs": [
    {
     "name": "stdout",
     "output_type": "stream",
     "text": [
      "-------------------- COMPREHENSIVE SUMMARY TABLE --------------------\n",
      "  Emotion  Mean   Std    Min   Max                     Distribution\n",
      "Sentiment 0.152 1.112 -3.000 3.000 Pos: 11471, Neg: 6683, Neu: 5094\n",
      "    Happy 0.480 0.629  0.000 3.000           Present: 12459 (53.6%)\n",
      "      Sad 0.157 0.324  0.000 3.000            Present: 5997 (25.8%)\n",
      "    Anger 0.156 0.362  0.000 3.000            Present: 4995 (21.5%)\n",
      " Surprise 0.048 0.168  0.000 3.000            Present: 2318 (10.0%)\n",
      "  Disgust 0.120 0.320  0.000 3.000            Present: 4097 (17.6%)\n",
      "     Fear 0.041 0.153  0.000 1.667             Present: 1913 (8.2%)\n"
     ]
    }
   ],
   "source": [
    "emotion_names = ['Sentiment', 'Happy', 'Sad', 'Anger', 'Surprise', 'Disgust', 'Fear']\n",
    "n_emotions = min(len(emotion_names), all_labels_data.shape[1]) # Because some datasets may not have all emotions\n",
    "\n",
    "summary_data = []\n",
    "\n",
    "for i in range(n_emotions):\n",
    "    emotion = emotion_names[i]\n",
    "    values = all_labels_data[:, i]\n",
    "    \n",
    "    if emotion == 'Sentiment':\n",
    "        # For sentiment, calculate distribution\n",
    "        positive = (values > 0).sum()\n",
    "        negative = (values < 0).sum()\n",
    "        neutral = (np.abs(values) < 0.1).sum()\n",
    "        special_info = f\"Pos: {positive}, Neg: {negative}, Neu: {neutral}\"\n",
    "    else:\n",
    "        # For emotions, calculate presence\n",
    "        present = (values > 0.1).sum()\n",
    "        present_pct = present / len(values) * 100\n",
    "        special_info = f\"Present: {present} ({present_pct:.1f}%)\"\n",
    "    \n",
    "    summary_data.append({\n",
    "        'Emotion': emotion,\n",
    "        'Mean': f\"{values.mean():.3f}\",\n",
    "        'Std': f\"{values.std():.3f}\",\n",
    "        'Min': f\"{values.min():.3f}\",\n",
    "        'Max': f\"{values.max():.3f}\",\n",
    "        'Distribution': special_info\n",
    "    })\n",
    "\n",
    "# Create DataFrame and display\n",
    "df = pd.DataFrame(summary_data)\n",
    "print(\"-------------------- Comprehensive Sumamry Table --------------------\")\n",
    "print(df.to_string(index=False))"
   ]
  },
  {
   "cell_type": "code",
   "execution_count": null,
   "id": "6c5c3d77",
   "metadata": {},
   "outputs": [
    {
     "data": {
      "image/png": "[encoded data removed]",
      "text/plain": [
       "<Figure size 2000x1000 with 7 Axes>"
      ]
     },
     "metadata": {},
     "output_type": "display_data"
    }
   ],
   "source": [
    "# Do you want to save the plots?\n",
    "save_plots = False\n",
    "\n",
    "# Create figure with subplots\n",
    "fig, axes = plt.subplots(2, 4, figsize=(20, 10))\n",
    "axes = axes.flatten()\n",
    "\n",
    "for i in range(n_emotions):\n",
    "    emotion = emotion_names[i]\n",
    "    values = all_labels_data[:, i]\n",
    "    \n",
    "    # Histogram\n",
    "    axes[i].hist(values, bins=50, alpha=0.7, edgecolor='black')\n",
    "    axes[i].set_title(f'{emotion} Distribution')\n",
    "    axes[i].set_xlabel('Value')\n",
    "    axes[i].set_ylabel('Frequency')\n",
    "    axes[i].grid(True, alpha=0.3)\n",
    "    \n",
    "    # Add statistics text\n",
    "    mean_val = values.mean()\n",
    "    std_val = values.std()\n",
    "    axes[i].axvline(mean_val, color='red', linestyle='--', label=f'Mean: {mean_val:.2f}')\n",
    "    axes[i].legend()\n",
    "\n",
    "# Remove empty subplot\n",
    "if n_emotions < len(axes):\n",
    "    fig.delaxes(axes[-1])\n",
    "\n",
    "plt.tight_layout()\n",
    "if save_plots:\n",
    "    plt.savefig('emotion_distributions.png', dpi=300, bbox_inches='tight')\n",
    "plt.show()"
   ]
  },
  {
   "cell_type": "code",
   "execution_count": null,
   "id": "c2920d56",
   "metadata": {},
   "outputs": [
    {
     "data": {
      "text/plain": [
       "array([[1.        , 0.6666667 , 0.        , ..., 0.        , 0.        ,\n",
       "        0.        ],\n",
       "       [1.        , 0.6666667 , 0.6666667 , ..., 0.        , 0.        ,\n",
       "        0.6666667 ],\n",
       "       [0.6666667 , 0.        , 0.        , ..., 0.        , 0.        ,\n",
       "        0.        ],\n",
       "       ...,\n",
       "       [1.        , 1.        , 0.        , ..., 0.        , 0.        ,\n",
       "        0.        ],\n",
       "       [0.6666667 , 0.33333334, 0.        , ..., 0.        , 0.        ,\n",
       "        0.        ],\n",
       "       [1.        , 1.        , 0.        , ..., 0.        , 0.        ,\n",
       "        0.        ]], dtype=float32)"
      ]
     },
     "execution_count": 36,
     "metadata": {},
     "output_type": "execute_result"
    }
   ],
   "source": [
    "all_labels_data"
   ]
  },
  {
   "cell_type": "code",
   "execution_count": null,
   "id": "217edd93",
   "metadata": {},
   "outputs": [
    {
     "data": {
      "text/plain": [
       "7"
      ]
     },
     "execution_count": 37,
     "metadata": {},
     "output_type": "execute_result"
    }
   ],
   "source": [
    "n_emotions"
   ]
  },
  {
   "cell_type": "code",
   "execution_count": null,
   "id": "8a3963f3",
   "metadata": {},
   "outputs": [
    {
     "data": {
      "image/png": "[encoded data removed]",
      "text/plain": [
       "<Figure size 1000x800 with 2 Axes>"
      ]
     },
     "metadata": {},
     "output_type": "display_data"
    },
    {
     "name": "stdout",
     "output_type": "stream",
     "text": [
      "--------------- STRONGEST CORRELATIONS ---------------\n",
      "Anger - Disgust: 0.441\n"
     ]
    }
   ],
   "source": [
    "# Emotion correlations\n",
    "\n",
    "emotion_names = ['Sentiment', 'Happy', 'Sad', 'Anger', 'Surprise', 'Disgust', 'Fear'] # From CMU-MOSEI sdk\n",
    "n_emotions = min(len(emotion_names), all_labels_data.shape[1]) # Because some datasets may not have all emotions\n",
    "\n",
    "# Calculate correlation matrix (directly and remove the next 3 lines of code)\n",
    "#corr_matrix = np.corrcoef(all_labels_data[:, :n_emotions].T)\n",
    "\n",
    "# Ignoring the sentiment now, focusing on emotions only\n",
    "emotions_only_data = all_labels_data[:, 1:n_emotions]  # Exclude sentiment\n",
    "n_emotions = n_emotions - 1 # Adjust since we removed sentiment\n",
    "emotion_names = emotion_names[1:n_emotions+1]  # Adjust names to match\n",
    "\n",
    "corr_matrix = np.corrcoef(emotions_only_data.T)\n",
    "\n",
    "# Create correlation heatmap\n",
    "plt.figure(figsize=(10, 8))\n",
    "mask = np.eye(corr_matrix.shape[0], dtype=bool)\n",
    "\n",
    "sns.heatmap(corr_matrix, \n",
    "            annot=True, \n",
    "            cmap='RdBu_r', \n",
    "            center=0,\n",
    "            square=True,\n",
    "            mask=mask,\n",
    "            xticklabels=emotion_names[:n_emotions],\n",
    "            yticklabels=emotion_names[:n_emotions],\n",
    "            cbar_kws={\"shrink\": .8})\n",
    "\n",
    "plt.title('Emotion Correlation Matrix')\n",
    "plt.tight_layout()\n",
    "plt.show()\n",
    "\n",
    "# Print strongest correlations\n",
    "print(\"--------------- Strongest Correlations ---------------\")\n",
    "for i in range(n_emotions):\n",
    "    for j in range(i+1, n_emotions):\n",
    "        corr_val = corr_matrix[i, j]\n",
    "        if abs(corr_val) > 0.3:  # Threshold for \"strong\" correlation\n",
    "            print(f\"{emotion_names[i]} - {emotion_names[j]}: {corr_val:.3f}\")\n"
   ]
  },
  {
   "cell_type": "code",
   "execution_count": null,
   "id": "b78c6d93",
   "metadata": {},
   "outputs": [
    {
     "name": "stdout",
     "output_type": "stream",
     "text": [
      "--------------- SENTIMENT INTERPRETATION ---------------\n",
      "Scale: -3 (most negative) to +3 (most positive)\n",
      "\n",
      "Very Negative (≤-2.5): 408 samples (1.8%)\n",
      "  Example scores: [-2.6666667 -2.6666667 -2.6666667]\n",
      "\n",
      "Moderately Negative: 2873 samples (12.4%)\n",
      "  Example scores: [-0.6666667 -1.        -1.       ]\n",
      "\n",
      "Neutral: 9750 samples (41.9%)\n",
      "  Example scores: [0.         0.         0.33333334]\n",
      "\n",
      "Moderately Positive: 5945 samples (25.6%)\n",
      "  Example scores: [1.        1.        0.6666667]\n",
      "\n",
      "Very Positive (≥2.5): 270 samples (1.2%)\n",
      "  Example scores: [2.6666667 2.6666667 2.6666667]\n",
      "\n"
     ]
    }
   ],
   "source": [
    "# Interpreting sentiment labels\n",
    "\n",
    "sentiment_values = all_labels_data[:, 0]  # First dimension is sentiment\n",
    "    \n",
    "print(\"--------------- Sentiment Interpretation ---------------\")\n",
    "print(\"Scale: -3 (most negative) to +3 (most positive)\")\n",
    "print()\n",
    "\n",
    "# Finding examples at different sentiment levels\n",
    "for target_range, description in [\n",
    "    ((-3, -2.5), \"Very Negative (≤-2.5)\"),\n",
    "    ((-1.5, -0.5), \"Moderately Negative\"),\n",
    "    ((-0.5, 0.5), \"Neutral\"),\n",
    "    ((0.5, 1.5), \"Moderately Positive\"),\n",
    "    ((2.5, 3), \"Very Positive (≥2.5)\")\n",
    "]:\n",
    "    mask = (sentiment_values >= target_range[0]) & (sentiment_values <= target_range[1])\n",
    "    count = mask.sum()\n",
    "    percentage = count / len(sentiment_values) * 100\n",
    "    \n",
    "    if count > 0:\n",
    "        example_scores = sentiment_values[mask][:3]  # Show 3 examples\n",
    "        print(f\"{description}: {count} samples ({percentage:.1f}%)\")\n",
    "        print(f\"  Example scores: {example_scores}\")\n",
    "        print()"
   ]
  },
  {
   "cell_type": "code",
   "execution_count": null,
   "id": "1be9bd34",
   "metadata": {},
   "outputs": [],
   "source": []
  },
  {
   "cell_type": "code",
   "execution_count": null,
   "id": "191eb6be",
   "metadata": {},
   "outputs": [],
   "source": []
  }
 ],
 "metadata": {
  "kernelspec": {
   "display_name": "Python (jvenv)",
   "language": "python",
   "name": "jvenv"
  }
 },
 "nbformat": 4,
 "nbformat_minor": 5
}
