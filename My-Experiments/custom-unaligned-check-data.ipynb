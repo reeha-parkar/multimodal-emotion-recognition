{
 "cells": [
  {
   "cell_type": "code",
   "execution_count": 117,
   "id": "bd619add",
   "metadata": {},
   "outputs": [
    {
     "name": "stdout",
     "output_type": "stream",
     "text": [
      "Thu Jul  3 21:44:54 2025       \n",
      "+---------------------------------------------------------------------------------------+\n",
      "| NVIDIA-SMI 535.230.02             Driver Version: 535.230.02   CUDA Version: 12.2     |\n",
      "|-----------------------------------------+----------------------+----------------------+\n",
      "| GPU  Name                 Persistence-M | Bus-Id        Disp.A | Volatile Uncorr. ECC |\n",
      "| Fan  Temp   Perf          Pwr:Usage/Cap |         Memory-Usage | GPU-Util  Compute M. |\n",
      "|                                         |                      |               MIG M. |\n",
      "|=========================================+======================+======================|\n",
      "|   0  NVIDIA A100-SXM4-40GB          On  | 00000000:17:00.0 Off |                    0 |\n",
      "| N/A   37C    P0              55W / 400W |      4MiB / 40960MiB |      0%      Default |\n",
      "|                                         |                      |             Disabled |\n",
      "+-----------------------------------------+----------------------+----------------------+\n",
      "                                                                                         \n",
      "+---------------------------------------------------------------------------------------+\n",
      "| Processes:                                                                            |\n",
      "|  GPU   GI   CI        PID   Type   Process name                            GPU Memory |\n",
      "|        ID   ID                                                             Usage      |\n",
      "|=======================================================================================|\n",
      "|  No running processes found                                                           |\n",
      "+---------------------------------------------------------------------------------------+\n"
     ]
    }
   ],
   "source": [
    "!nvidia-smi"
   ]
  },
  {
   "cell_type": "code",
   "execution_count": 4,
   "id": "9f01875a",
   "metadata": {},
   "outputs": [
    {
     "data": {
      "text/plain": [
       "'c:\\\\Users\\\\Reeha Parkar\\\\OneDrive\\\\Desktop\\\\Workspace\\\\KCL\\\\Semester 2\\\\Project\\\\multimodal-emotion-recognition\\\\CARAT\\\\dataloaders'"
      ]
     },
     "execution_count": 4,
     "metadata": {},
     "output_type": "execute_result"
    }
   ],
   "source": [
    "%pwd"
   ]
  },
  {
   "cell_type": "code",
   "execution_count": 5,
   "id": "f92bbfce",
   "metadata": {},
   "outputs": [
    {
     "name": "stdout",
     "output_type": "stream",
     "text": [
      "c:\\Users\\Reeha Parkar\\OneDrive\\Desktop\\Workspace\\KCL\\Semester 2\\Project\\multimodal-emotion-recognition\\CARAT\n"
     ]
    }
   ],
   "source": [
    "%cd .."
   ]
  },
  {
   "cell_type": "code",
   "execution_count": null,
   "id": "c629e1b5",
   "metadata": {},
   "outputs": [],
   "source": [
    "%cd cmu-mosei-experiments/CMU-MultimodalSDK-Tutorials/"
   ]
  },
  {
   "cell_type": "code",
   "execution_count": 6,
   "id": "2e6b61ef",
   "metadata": {},
   "outputs": [],
   "source": [
    "import os\n",
    "import sys\n",
    "import torch"
   ]
  },
  {
   "cell_type": "code",
   "execution_count": null,
   "id": "80d86468",
   "metadata": {},
   "outputs": [
    {
     "name": "stdout",
     "output_type": "stream",
     "text": [
      "Data file exists: True\n",
      "File size: 9123.32 MB\n"
     ]
    }
   ],
   "source": [
    "data_path = '../CARAT/data/cmu_mosei_unaligned_ree.pt'\n",
    "print(f\"Data file exists: {os.path.exists(data_path)}\")\n",
    "\n",
    "if os.path.exists(data_path):\n",
    "    print(f\"File size: {os.path.getsize(data_path) / (1024*1024):.2f} MB\")\n",
    "\n",
    "try:\n",
    "    load_data = torch.load(data_path, map_location='cpu')\n",
    "    print(\"Dataset loaded successfully!\")\n",
    "\n",
    "except Exception as e:\n",
    "    print(f\"Error loading dataset: {e}\")\n",
    "    sys.exit(1)"
   ]
  },
  {
   "cell_type": "code",
   "execution_count": 123,
   "id": "522069f6",
   "metadata": {},
   "outputs": [
    {
     "name": "stdout",
     "output_type": "stream",
     "text": [
      "Top-level keys: ['train', 'val', 'test']\n",
      "Train data keys: ['src-text', 'src-audio', 'src-visual', 'tgt']\n"
     ]
    }
   ],
   "source": [
    "print(f\"Top-level keys: {list(load_data.keys())}\")\n",
    "if 'train' in load_data:\n",
    "    print(f\"Train data keys: {list(load_data['train'].keys())}\")"
   ]
  },
  {
   "cell_type": "code",
   "execution_count": 124,
   "id": "1f9e9b6e",
   "metadata": {},
   "outputs": [],
   "source": [
    "expected_keys = ['src-text', 'src-visual', 'src-audio', 'tgt']"
   ]
  },
  {
   "cell_type": "code",
   "execution_count": 126,
   "id": "ecc74d29",
   "metadata": {},
   "outputs": [
    {
     "name": "stdout",
     "output_type": "stream",
     "text": [
      "Key 'src-text' found in split 'train' with 16322 items\n",
      "Key 'src-visual' found in split 'train' with 16322 items\n",
      "Key 'src-audio' found in split 'train' with 16322 items\n",
      "Key 'tgt' found in split 'train' with 16322 items\n",
      "----------------------------------------\n",
      "Key 'src-text' found in split 'val' with 1871 items\n",
      "Key 'src-visual' found in split 'val' with 1871 items\n",
      "Key 'src-audio' found in split 'val' with 1871 items\n",
      "Key 'tgt' found in split 'val' with 1871 items\n",
      "----------------------------------------\n",
      "Key 'src-text' found in split 'test' with 4659 items\n",
      "Key 'src-visual' found in split 'test' with 4659 items\n",
      "Key 'src-audio' found in split 'test' with 4659 items\n",
      "Key 'tgt' found in split 'test' with 4659 items\n",
      "----------------------------------------\n"
     ]
    }
   ],
   "source": [
    "for split in ['train', 'val', 'test']:\n",
    "        if split in load_data:\n",
    "            split_data = load_data[split]\n",
    "            for key in expected_keys:\n",
    "                if key not in split_data:\n",
    "                    print(f\"Missing key '{key}' in split '{split}'\")\n",
    "                else:\n",
    "                    print(f\"Key '{key}' found in split '{split}' with {len(split_data[key])} items\")\n",
    "            print(f\"-\"*40)\n",
    "                \n",
    "\n"
   ]
  },
  {
   "cell_type": "code",
   "execution_count": 127,
   "id": "892789a7",
   "metadata": {},
   "outputs": [
    {
     "name": "stdout",
     "output_type": "stream",
     "text": [
      "\n",
      "--------- Non-Aligned Data -------------\n",
      "Train segments: 16322\n",
      "Validation segments: 1871\n",
      "Test segments: 4659\n",
      "----------------------------------------\n",
      "First 5 segments in train split:\n",
      "\n",
      "Segment 1:\n",
      "  Text shape: (55, 300)\n",
      "  Audio shape: (1781, 74)\n",
      "  Visual shape: (535, 35)\n",
      "  Label shape: (6,)\n",
      "\n",
      "Segment 2:\n",
      "  Text shape: (22, 300)\n",
      "  Audio shape: (539, 74)\n",
      "  Visual shape: (162, 35)\n",
      "  Label shape: (6,)\n",
      "\n",
      "Segment 3:\n",
      "  Text shape: (23, 300)\n",
      "  Audio shape: (922, 74)\n",
      "  Visual shape: (277, 35)\n",
      "  Label shape: (6,)\n"
     ]
    }
   ],
   "source": [
    "print(\"\\n--------- Non-Aligned Data -------------\")\n",
    "# Check the structure of non-aligned data and first 5 key value entries\n",
    "print(f\"Train segments: {len(load_data['train']['src-text'])}\")\n",
    "print(f\"Validation segments: {len(load_data['val']['src-text'])}\")\n",
    "print(f\"Test segments: {len(load_data['test']['src-text'])}\")\n",
    "print(f\"-\"*40)\n",
    "print(\"First 5 segments in train split:\") # To show variable and original time_steps intervals\n",
    "for i, (text, audio, visual, label) in enumerate(zip(\n",
    "        load_data['train']['src-text'][:3],\n",
    "        load_data['train']['src-audio'][:3],\n",
    "        load_data['train']['src-visual'][:3],\n",
    "        load_data['train']['tgt'][:3])):\n",
    "    print(f\"\\nSegment {i+1}:\")\n",
    "    print(f\"  Text shape: {text.shape}\")\n",
    "    print(f\"  Audio shape: {audio.shape}\")\n",
    "    print(f\"  Visual shape: {visual.shape}\")\n",
    "    print(f\"  Label shape: {label.shape}\")"
   ]
  },
  {
   "cell_type": "code",
   "execution_count": 130,
   "id": "c38772bf",
   "metadata": {},
   "outputs": [
    {
     "name": "stdout",
     "output_type": "stream",
     "text": [
      "Label format check:\n",
      "First segment label: [0. 0. 0. 0. 0. 0.]\n",
      "Label shape: (6,)\n",
      "Label dtype: float32\n",
      "\n",
      "First 5 segments with labels:\n",
      "\n",
      "Segment 1:\n",
      "  Raw label: [0. 0. 0. 0. 0. 0.]\n",
      "  Label shape: (6,)\n",
      "  No emotions detected (all zeros)\n",
      "\n",
      "Segment 2:\n",
      "  Raw label: [0. 0. 0. 0. 0. 0.]\n",
      "  Label shape: (6,)\n",
      "  No emotions detected (all zeros)\n",
      "\n",
      "Segment 3:\n",
      "  Raw label: [0. 0. 0. 0. 0. 0.]\n",
      "  Label shape: (6,)\n",
      "  No emotions detected (all zeros)\n"
     ]
    }
   ],
   "source": [
    "print(\"Label format check:\")\n",
    "print(f\"First segment label: {load_data['train']['tgt'][0]}\")\n",
    "print(f\"Label shape: {load_data['train']['tgt'][0].shape}\")\n",
    "print(f\"Label dtype: {load_data['train']['tgt'][0].dtype}\")\n",
    "\n",
    "print(\"\\nFirst 5 segments with labels:\")\n",
    "emotion_names = ['happy', 'sad', 'anger', 'surprise', 'disgust', 'fear']\n",
    "\n",
    "for i in range(3):\n",
    "    label = load_data['train']['tgt'][-i]\n",
    "    print(f\"\\nSegment {i+1}:\")\n",
    "    print(f\"  Raw label: {label}\")\n",
    "    print(f\"  Label shape: {label.shape}\")\n",
    "    \n",
    "    # Show which emotions are present\n",
    "    present_emotions = []\n",
    "    for j, emotion_val in enumerate(label):\n",
    "        if emotion_val > 0:  # Assuming binary labels or thresholded values\n",
    "            present_emotions.append(f\"{emotion_names[j]}({emotion_val:.2f})\")\n",
    "    \n",
    "    if present_emotions:\n",
    "        print(f\"  Present emotions: {', '.join(present_emotions)}\")\n",
    "    else:\n",
    "        print(f\"  No emotions detected (all zeros)\")"
   ]
  },
  {
   "cell_type": "code",
   "execution_count": null,
   "id": "23469b9b",
   "metadata": {},
   "outputs": [],
   "source": []
  }
 ],
 "metadata": {
  "kernelspec": {
   "display_name": "Python 3",
   "language": "python",
   "name": "python3"
  },
  "language_info": {
   "codemirror_mode": {
    "name": "ipython",
    "version": 3
   },
   "file_extension": ".py",
   "mimetype": "text/x-python",
   "name": "python",
   "nbconvert_exporter": "python",
   "pygments_lexer": "ipython3",
   "version": "3.9.12"
  }
 },
 "nbformat": 4,
 "nbformat_minor": 5
}
