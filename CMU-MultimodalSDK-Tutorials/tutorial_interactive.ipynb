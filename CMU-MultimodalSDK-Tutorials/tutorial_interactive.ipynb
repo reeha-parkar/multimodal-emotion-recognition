{
 "cells": [
  {
   "cell_type": "markdown",
   "metadata": {},
   "source": [
    "# Tutorial on CMU-Multimodal SDK\n",
    "\n",
    "This is a tutorial on using ***CMU-Multimodal SDK*** to load and process multimodal time-series datasets and training a simple late-fusion LSTM model on the processed data. \n",
    "\n",
    "For this tutorial, we specify some constants in `./constans/paths.py`. Please first take a look and modify the paths to point to the correct folders.\n",
    "\n",
    "## Downloading the data\n",
    "\n",
    "We start off by (down)loading the datasets. In the SDK each dataset has three sets of content: `highlevel`, `raw` and `labels`. `highlevel` contains the extracted features for each modality (e.g OpenFace facial landmarks, openSMILE acoustic features) while `raw` contains the raw transctripts, phonemes. `labels` are self-explanatory. Note that some datasets have more than just one set of annotations so `labels` could also give you multiple files.\n",
    "\n",
    "Currently there's a caveat that the SDK will not automatically detect if you have downloaded the data already. In event of that it will throw a `RuntimeError`. We work around that by `try/except`. This is not ideal but it will work for now."
   ]
  },
  {
   "cell_type": "code",
   "execution_count": 4,
   "metadata": {},
   "outputs": [],
   "source": [
    "import mmsdk\n",
    "import os\n",
    "import re\n",
    "import numpy as np\n",
    "from mmsdk import mmdatasdk as md\n",
    "from subprocess import check_call, CalledProcessError"
   ]
  },
  {
   "cell_type": "code",
   "execution_count": 5,
   "metadata": {},
   "outputs": [
    {
     "name": "stdout",
     "output_type": "stream",
     "text": [
      "File CMU_MOSEI_OpenFace2.csd already exists, skipping download\n",
      "\n",
      "Downloaded files in DATA_PATH:\n",
      "- CMU_MOSEI_COVAREP.csd\n",
      "- CMU_MOSEI_Labels.csd\n",
      "- CMU_MOSEI_OpenFace2.csd\n",
      "- CMU_MOSEI_TimestampedPhones.csd\n",
      "- CMU_MOSEI_TimestampedWords.csd\n",
      "- CMU_MOSEI_TimestampedWordVectors.csd\n",
      "- CMU_MOSEI_VisualFacet42.csd\n",
      "\n",
      "Now you can continue with the tutorial using the downloaded files.\n"
     ]
    }
   ],
   "source": [
    "import os\n",
    "import sys\n",
    "import requests\n",
    "from constants.paths import SDK_PATH, DATA_PATH\n",
    "\n",
    "# Ensure SDK is in path\n",
    "sys.path.append(SDK_PATH)\n",
    "\n",
    "# Make sure DATA_PATH exists\n",
    "if not os.path.exists(DATA_PATH):\n",
    "    os.makedirs(DATA_PATH, exist_ok=True)\n",
    "\n",
    "# Define direct URLs to the MOSEI dataset\n",
    "mosei_urls = {\n",
    "    \"CMU_MOSEI_OpenFace2.csd\": \"http://immortal.multicomp.cs.cmu.edu/CMU-MOSEI/visual/CMU_MOSEI_VisualOpenFace2.csd\"\n",
    "}\n",
    "\n",
    "# Download files directly using requests\n",
    "for filename, url in mosei_urls.items():\n",
    "    file_path = os.path.join(DATA_PATH, filename)\n",
    "    if os.path.exists(file_path):\n",
    "        print(f\"File {filename} already exists, skipping download\")\n",
    "        continue\n",
    "        \n",
    "    print(f\"Downloading {url} to {file_path}\")\n",
    "    try:\n",
    "        response = requests.get(url, stream=True)\n",
    "        if response.status_code == 200:\n",
    "            with open(file_path, 'wb') as f:\n",
    "                for chunk in response.iter_content(chunk_size=8192):\n",
    "                    f.write(chunk)\n",
    "            print(f\"Successfully downloaded {filename}\")\n",
    "        else:\n",
    "            print(f\"Failed to download {filename}: HTTP {response.status_code}\")\n",
    "    except Exception as e:\n",
    "        print(f\"Error downloading {filename}: {e}\")\n",
    "\n",
    "print(\"\\nDownloaded files in DATA_PATH:\")\n",
    "for file in os.listdir(DATA_PATH):\n",
    "    print(f\"- {file}\")\n",
    "\n",
    "print(\"\\nNow you can continue with the tutorial using the downloaded files.\")"
   ]
  },
  {
   "cell_type": "markdown",
   "metadata": {},
   "source": [
    "## Inspecting the downloaded files\n",
    "\n",
    "We can print the files in the target data folder to see what files are there.\n",
    "\n",
    "We can observe a bunch of files ending with `.csd` extension. This stands for ***computational sequences***, which is the underlying data structure for all features in the SDK. We will come back to that later when we load the data. For now we just print out what computational sequences we have downloaded."
   ]
  },
  {
   "cell_type": "code",
   "execution_count": 6,
   "metadata": {
    "scrolled": true
   },
   "outputs": [
    {
     "name": "stdout",
     "output_type": "stream",
     "text": [
      "CMU_MOSEI_COVAREP.csd\n",
      "CMU_MOSEI_Labels.csd\n",
      "CMU_MOSEI_OpenFace2.csd\n",
      "CMU_MOSEI_TimestampedPhones.csd\n",
      "CMU_MOSEI_TimestampedWords.csd\n",
      "CMU_MOSEI_TimestampedWordVectors.csd\n",
      "CMU_MOSEI_VisualFacet42.csd\n"
     ]
    }
   ],
   "source": [
    "# list the directory contents... let's see what features there are\n",
    "data_files = os.listdir(DATA_PATH)\n",
    "print('\\n'.join(data_files))"
   ]
  },
  {
   "cell_type": "markdown",
   "metadata": {},
   "source": [
    "## Loading a multimodal dataset\n",
    "\n",
    "Loading the dataset is as simple as telling the SDK what are the features you need and where are their computational sequences. You can construct a dictionary with format `{feature_name: csd_path}` and feed it to `mmdataset` object in the SDK."
   ]
  },
  {
   "cell_type": "code",
   "execution_count": null,
   "metadata": {
    "scrolled": true
   },
   "outputs": [
    {
     "name": "stdout",
     "output_type": "stream",
     "text": [
      "\u001b[92m\u001b[1m[2025-04-05 10:28:15.103] | Success | \u001b[0mComputational sequence read from file ./data/CMU_MOSEI_TimestampedWords.csd ...\n",
      "\u001b[94m\u001b[1m[2025-04-05 10:28:16.299] | Status  | \u001b[0mChecking the integrity of the <words> computational sequence ...\n",
      "\u001b[94m\u001b[1m[2025-04-05 10:28:16.299] | Status  | \u001b[0mChecking the format of the data in <words> computational sequence ...\n"
     ]
    },
    {
     "name": "stderr",
     "output_type": "stream",
     "text": [
      "                                                                                  \r"
     ]
    },
    {
     "name": "stdout",
     "output_type": "stream",
     "text": [
      "\u001b[92m\u001b[1m[2025-04-05 10:28:18.592] | Success | \u001b[0m<words> computational sequence data in correct format.\n",
      "\u001b[94m\u001b[1m[2025-04-05 10:28:18.592] | Status  | \u001b[0mChecking the format of the metadata in <words> computational sequence ...\n",
      "\u001b[93m\u001b[1m[2025-04-05 10:28:18.592] | Warning | \u001b[0m<words> computational sequence does not have all the required metadata ... continuing \n",
      "\u001b[92m\u001b[1m[2025-04-05 10:28:18.595] | Success | \u001b[0mComputational sequence read from file ./data/CMU_MOSEI_VisualFacet42.csd ...\n",
      "\u001b[94m\u001b[1m[2025-04-05 10:28:19.705] | Status  | \u001b[0mChecking the integrity of the <FACET 4.2> computational sequence ...\n",
      "\u001b[94m\u001b[1m[2025-04-05 10:28:19.705] | Status  | \u001b[0mChecking the format of the data in <FACET 4.2> computational sequence ...\n"
     ]
    },
    {
     "name": "stderr",
     "output_type": "stream",
     "text": [
      "                                                                                  \r"
     ]
    },
    {
     "name": "stdout",
     "output_type": "stream",
     "text": [
      "\u001b[92m\u001b[1m[2025-04-05 10:28:22.840] | Success | \u001b[0m<FACET 4.2> computational sequence data in correct format.\n",
      "\u001b[94m\u001b[1m[2025-04-05 10:28:22.840] | Status  | \u001b[0mChecking the format of the metadata in <FACET 4.2> computational sequence ...\n",
      "\u001b[93m\u001b[1m[2025-04-05 10:28:22.840] | Warning | \u001b[0m<FACET 4.2> computational sequence does not have all the required metadata ... continuing \n",
      "\u001b[92m\u001b[1m[2025-04-05 10:28:22.841] | Success | \u001b[0mComputational sequence read from file ./data/CMU_MOSEI_COVAREP.csd ...\n",
      "\u001b[94m\u001b[1m[2025-04-05 10:28:23.684] | Status  | \u001b[0mChecking the integrity of the <COVAREP> computational sequence ...\n",
      "\u001b[94m\u001b[1m[2025-04-05 10:28:23.684] | Status  | \u001b[0mChecking the format of the data in <COVAREP> computational sequence ...\n"
     ]
    },
    {
     "name": "stderr",
     "output_type": "stream",
     "text": [
      "                                                                                  "
     ]
    },
    {
     "name": "stdout",
     "output_type": "stream",
     "text": [
      "\u001b[92m\u001b[1m[2025-04-05 10:28:26.063] | Success | \u001b[0m<COVAREP> computational sequence data in correct format.\n",
      "\u001b[94m\u001b[1m[2025-04-05 10:28:26.063] | Status  | \u001b[0mChecking the format of the metadata in <COVAREP> computational sequence ...\n",
      "\u001b[93m\u001b[1m[2025-04-05 10:28:26.063] | Warning | \u001b[0m<COVAREP> computational sequence does not have all the required metadata ... continuing \n",
      "\u001b[92m\u001b[1m[2025-04-05 10:28:26.063] | Success | \u001b[0mDataset initialized successfully ... \n"
     ]
    },
    {
     "name": "stderr",
     "output_type": "stream",
     "text": [
      "\r"
     ]
    }
   ],
   "source": [
    "# define your different modalities - refer to the filenames of the CSD files\n",
    "visual_field = 'CMU_MOSEI_OpenFace2'\n",
    "acoustic_field = 'CMU_MOSEI_COVAREP'\n",
    "text_field = 'CMU_MOSEI_TimestampedWords'\n",
    "\n",
    "\n",
    "features = [\n",
    "    text_field, \n",
    "    visual_field, \n",
    "    acoustic_field\n",
    "]\n",
    "\n",
    "recipe = {feat: os.path.join(DATA_PATH, feat) + '.csd' for feat in features}\n",
    "dataset = md.mmdataset(recipe)"
   ]
  },
  {
   "cell_type": "markdown",
   "metadata": {},
   "source": [
    "## A peek into the dataset\n",
    "\n",
    "The multimodal dataset, after loaded, has the following hierarchy:\n",
    "\n",
    "\n",
    "```\n",
    "            computational_sequence_1 ---...\n",
    "           /                                   ...\n",
    "          /                                    /\n",
    "         /                          first_video     features -- T X N array\n",
    "        /                          /               /\n",
    "dataset ---computational_sequence_2 -- second_video\n",
    "        \\                          \\               \\\n",
    "         \\                          third_video     intervals -- T X 2 array\n",
    "          \\                                    \\...\n",
    "           \\\n",
    "            computational_sequence_3 ---...\n",
    "```\n",
    "\n",
    "It looks like a nested dictionary and can be indexed as if it is a nested dictionary. A dataset contains multiple computational sequences whose key is the `text_field`, `visual_field`, `acoustic_field` as defined above. Each computational sequence, however, has multiple video IDs in it, and different computational sequences are supposed to have the same set of video IDs. Within each video, there are two arrays: `features` and `intervals`, denoting the feature values at each time step and the start and end timestamp for each step. We can take a look at its content."
   ]
  },
  {
   "cell_type": "code",
   "execution_count": 8,
   "metadata": {},
   "outputs": [
    {
     "name": "stdout",
     "output_type": "stream",
     "text": [
      "['CMU_MOSEI_TimestampedWords', 'CMU_MOSEI_VisualFacet42', 'CMU_MOSEI_COVAREP']\n",
      "================================================================================\n",
      "['--qXJuDtHPw', '-3g5yACwYnA', '-3nNcZdcdvU', '-571d8cVauQ', '-6rXp3zJ3kc', '-9YyBTjo1zo', '-9y-fZ3swSY', '-AUZQgSxyPQ', '-Alixo7euuU', '-Eqdz5y4pEY']\n",
      "================================================================================\n",
      "['features', 'intervals']\n",
      "================================================================================\n",
      "[3658, 2]\n",
      "================================================================================\n",
      "[3658, 35]\n",
      "================================================================================\n",
      "[321, 1]\n",
      "[12209, 74]\n",
      "Different modalities have different number of time steps!\n"
     ]
    }
   ],
   "source": [
    "print(list(dataset.keys()))\n",
    "print(\"=\" * 80)\n",
    "\n",
    "print(list(dataset[visual_field].keys())[:10])\n",
    "print(\"=\" * 80)\n",
    "\n",
    "some_id = list(dataset[visual_field].keys())[15]\n",
    "print(list(dataset[visual_field][some_id].keys()))\n",
    "print(\"=\" * 80)\n",
    "\n",
    "print(list(dataset[visual_field][some_id]['intervals'].shape))\n",
    "print(\"=\" * 80)\n",
    "\n",
    "print(list(dataset[visual_field][some_id]['features'].shape))\n",
    "print(\"=\" * 80)\n",
    "print(list(dataset[text_field][some_id]['features'].shape))\n",
    "print(list(dataset[acoustic_field][some_id]['features'].shape))\n",
    "print(\"Different modalities have different number of time steps!\")"
   ]
  },
  {
   "cell_type": "markdown",
   "metadata": {},
   "source": [
    "## Alignment of multimodal time series\n",
    "\n",
    "To work with multimodal time series that contains multiple views of data with different frequencies, we have to first align them to a ***pivot*** modality. The convention is to align to ***words***. Alignment groups feature vectors from other modalities into bins denoted by the timestamps of the pivot modality, and apply a certain processing function to each bin. We call this function ***collapse function***, because usually it is a pooling function that collapses multiple feature vectors from another modality into one single vector. This will give you sequences of same lengths in each modality (as the length of the pivot modality) for all videos.\n",
    "\n",
    "Here we define our collapse funtion as simple averaging. We feed the function to the SDK when we invoke `align` method. Note that the SDK always expect collapse functions with two arguments: `intervals` and `features`. Even if you don't use intervals (as is in the case below) you still need to define your function in the following way.\n",
    "\n",
    "***Note: Currently the SDK applies the collapse function to all modalities including the pivot, and obviously text modality cannot be \"averaged\", causing some errors. My solution is to define the avg function such that it averages the features when it can, and return the content as is when it cannot average.***"
   ]
  },
  {
   "cell_type": "code",
   "execution_count": 9,
   "metadata": {
    "scrolled": true
   },
   "outputs": [
    {
     "name": "stdout",
     "output_type": "stream",
     "text": [
      "\u001b[94m\u001b[1m[2025-04-05 10:29:20.885] | Status  | \u001b[0mUnify was called ...\n",
      "\u001b[93m\u001b[1m[2025-04-05 10:29:20.888] | Warning | \u001b[0mPEBwwe0PLZ8 entry is not shared among all sequences, removing it ...\n",
      "\u001b[92m\u001b[1m[2025-04-05 10:29:20.889] | Success | \u001b[0mUnify completed ...\n",
      "\u001b[94m\u001b[1m[2025-04-05 10:29:20.889] | Status  | \u001b[0mPre-alignment based on <CMU_MOSEI_TimestampedWords> computational sequence started ...\n",
      "\u001b[94m\u001b[1m[2025-04-05 10:32:09.759] | Status  | \u001b[0mPre-alignment done for <CMU_MOSEI_COVAREP> ...\n",
      "\u001b[94m\u001b[1m[2025-04-05 10:33:41.405] | Status  | \u001b[0mPre-alignment done for <CMU_MOSEI_VisualFacet42> ...\n",
      "\u001b[94m\u001b[1m[2025-04-05 10:36:01.247] | Status  | \u001b[0mAlignment starting ...\n"
     ]
    },
    {
     "name": "stderr",
     "output_type": "stream",
     "text": [
      "                                                                                                    \r"
     ]
    },
    {
     "name": "stdout",
     "output_type": "stream",
     "text": [
      "\u001b[92m\u001b[1m[2025-04-05 11:48:25.071] | Success | \u001b[0mAlignment to <CMU_MOSEI_TimestampedWords> complete.\n",
      "\u001b[94m\u001b[1m[2025-04-05 11:48:25.077] | Status  | \u001b[0mReplacing dataset content with aligned computational sequences\n",
      "\u001b[92m\u001b[1m[2025-04-05 11:48:31.640] | Success | \u001b[0mInitialized empty <CMU_MOSEI_TimestampedWords> computational sequence.\n",
      "\u001b[94m\u001b[1m[2025-04-05 11:48:31.640] | Status  | \u001b[0mChecking the format of the data in <CMU_MOSEI_TimestampedWords> computational sequence ...\n"
     ]
    },
    {
     "name": "stderr",
     "output_type": "stream",
     "text": [
      "                                                                                          \r"
     ]
    },
    {
     "name": "stdout",
     "output_type": "stream",
     "text": [
      "\u001b[92m\u001b[1m[2025-04-05 11:48:48.835] | Success | \u001b[0m<CMU_MOSEI_TimestampedWords> computational sequence data in correct format.\n",
      "\u001b[94m\u001b[1m[2025-04-05 11:48:48.838] | Status  | \u001b[0mChecking the format of the metadata in <CMU_MOSEI_TimestampedWords> computational sequence ...\n",
      "\u001b[93m\u001b[1m[2025-04-05 11:48:48.839] | Warning | \u001b[0m<CMU_MOSEI_TimestampedWords> computational sequence does not have all the required metadata ... continuing \n",
      "\u001b[92m\u001b[1m[2025-04-05 11:48:48.839] | Success | \u001b[0mInitialized empty <CMU_MOSEI_VisualFacet42> computational sequence.\n",
      "\u001b[94m\u001b[1m[2025-04-05 11:48:48.839] | Status  | \u001b[0mChecking the format of the data in <CMU_MOSEI_VisualFacet42> computational sequence ...\n"
     ]
    },
    {
     "name": "stderr",
     "output_type": "stream",
     "text": [
      "                                                                                          \r"
     ]
    },
    {
     "name": "stdout",
     "output_type": "stream",
     "text": [
      "\u001b[92m\u001b[1m[2025-04-05 11:48:50.615] | Success | \u001b[0m<CMU_MOSEI_VisualFacet42> computational sequence data in correct format.\n",
      "\u001b[94m\u001b[1m[2025-04-05 11:48:50.615] | Status  | \u001b[0mChecking the format of the metadata in <CMU_MOSEI_VisualFacet42> computational sequence ...\n",
      "\u001b[93m\u001b[1m[2025-04-05 11:48:50.615] | Warning | \u001b[0m<CMU_MOSEI_VisualFacet42> computational sequence does not have all the required metadata ... continuing \n",
      "\u001b[92m\u001b[1m[2025-04-05 11:48:50.615] | Success | \u001b[0mInitialized empty <CMU_MOSEI_COVAREP> computational sequence.\n",
      "\u001b[94m\u001b[1m[2025-04-05 11:48:50.615] | Status  | \u001b[0mChecking the format of the data in <CMU_MOSEI_COVAREP> computational sequence ...\n"
     ]
    },
    {
     "name": "stderr",
     "output_type": "stream",
     "text": [
      "                                                                                          \r"
     ]
    },
    {
     "name": "stdout",
     "output_type": "stream",
     "text": [
      "\u001b[92m\u001b[1m[2025-04-05 11:48:52.612] | Success | \u001b[0m<CMU_MOSEI_COVAREP> computational sequence data in correct format.\n",
      "\u001b[94m\u001b[1m[2025-04-05 11:48:52.612] | Status  | \u001b[0mChecking the format of the metadata in <CMU_MOSEI_COVAREP> computational sequence ...\n",
      "\u001b[93m\u001b[1m[2025-04-05 11:48:52.612] | Warning | \u001b[0m<CMU_MOSEI_COVAREP> computational sequence does not have all the required metadata ... continuing \n"
     ]
    }
   ],
   "source": [
    "# we define a simple averaging function that does not depend on intervals\n",
    "def avg(intervals: np.array, features: np.array) -> np.array:\n",
    "    try:\n",
    "        return np.average(features, axis=0)\n",
    "    except:\n",
    "        return features\n",
    "\n",
    "# first we align to words with averaging, collapse_function receives a list of functions\n",
    "dataset.align(text_field, collapse_functions=[avg])"
   ]
  },
  {
   "cell_type": "markdown",
   "metadata": {},
   "source": [
    "## Append annotations to the dataset and get the data points\n",
    "\n",
    "Now that we have a preprocessed dataset, all we need to do is to apply annotations to the data. Annotations are also computational sequences, since they are also just some values distributed on different time spans (e.g 1-3s is 'angry', 12-26s is 'neutral'). Hence, we just add the label computational sequence to the dataset and then align to the labels. Since we (may) want to preserve the whole sequences, this time we don't specify any collapse functions when aligning. \n",
    "\n",
    "Note that after alignment, the keys in the dataset changes from `video_id` to `video_id[segment_no]`, because alignment will segment each datapoint based on the segmentation of the pivot modality (in this case, it is segmented based on labels, which is what we need, and yes, one code block ago they are segmented to word level, which I didn't show you).\n",
    "\n",
    "***Important: DO NOT add the labels together at the beginning, the labels will be segmented during the first alignment to words. This also holds for any situation where you want to do multiple levels of alignment.***"
   ]
  },
  {
   "cell_type": "code",
   "execution_count": 12,
   "metadata": {},
   "outputs": [
    {
     "name": "stdout",
     "output_type": "stream",
     "text": [
      "\u001b[92m\u001b[1m[2025-04-05 11:54:23.262] | Success | \u001b[0mComputational sequence read from file ./data/CMU_MOSEI_Labels.csd ...\n",
      "\u001b[94m\u001b[1m[2025-04-05 11:54:25.143] | Status  | \u001b[0mChecking the integrity of the <All Labels> computational sequence ...\n",
      "\u001b[94m\u001b[1m[2025-04-05 11:54:25.143] | Status  | \u001b[0mChecking the format of the data in <All Labels> computational sequence ...\n"
     ]
    },
    {
     "name": "stderr",
     "output_type": "stream",
     "text": [
      "                                                                                  \r"
     ]
    },
    {
     "name": "stdout",
     "output_type": "stream",
     "text": [
      "\u001b[92m\u001b[1m[2025-04-05 11:54:26.846] | Success | \u001b[0m<All Labels> computational sequence data in correct format.\n",
      "\u001b[94m\u001b[1m[2025-04-05 11:54:26.846] | Status  | \u001b[0mChecking the format of the metadata in <All Labels> computational sequence ...\n",
      "\u001b[93m\u001b[1m[2025-04-05 11:54:26.846] | Warning | \u001b[0m<All Labels> computational sequence does not have all the required metadata ... continuing \n",
      "\u001b[94m\u001b[1m[2025-04-05 11:54:26.846] | Status  | \u001b[0mUnify was called ...\n",
      "\u001b[93m\u001b[1m[2025-04-05 11:54:29.201] | Warning | \u001b[0m84772 entry is not shared among all sequences, removing it ...\n",
      "\u001b[93m\u001b[1m[2025-04-05 11:54:30.059] | Warning | \u001b[0m210555 entry is not shared among all sequences, removing it ...\n",
      "\u001b[93m\u001b[1m[2025-04-05 11:54:31.083] | Warning | \u001b[0m254216 entry is not shared among all sequences, removing it ...\n",
      "\u001b[93m\u001b[1m[2025-04-05 11:54:32.085] | Warning | \u001b[0m191941 entry is not shared among all sequences, removing it ...\n",
      "\u001b[93m\u001b[1m[2025-04-05 11:54:33.058] | Warning | \u001b[0m47056 entry is not shared among all sequences, removing it ...\n",
      "\u001b[93m\u001b[1m[2025-04-05 11:54:34.037] | Warning | \u001b[0m111363 entry is not shared among all sequences, removing it ...\n",
      "\u001b[93m\u001b[1m[2025-04-05 11:54:35.008] | Warning | \u001b[0m110543 entry is not shared among all sequences, removing it ...\n",
      "\u001b[93m\u001b[1m[2025-04-05 11:54:35.724] | Warning | \u001b[0mJv4CxSgWP2k entry is not shared among all sequences, removing it ...\n",
      "\u001b[93m\u001b[1m[2025-04-05 11:54:36.711] | Warning | \u001b[0m24157 entry is not shared among all sequences, removing it ...\n",
      "\u001b[93m\u001b[1m[2025-04-05 11:54:37.649] | Warning | \u001b[0m47939 entry is not shared among all sequences, removing it ...\n",
      "\u001b[93m\u001b[1m[2025-04-05 11:54:38.656] | Warning | \u001b[0m223333 entry is not shared among all sequences, removing it ...\n",
      "\u001b[93m\u001b[1m[2025-04-05 11:54:39.630] | Warning | \u001b[0m273510 entry is not shared among all sequences, removing it ...\n",
      "\u001b[93m\u001b[1m[2025-04-05 11:54:40.526] | Warning | \u001b[0m100367 entry is not shared among all sequences, removing it ...\n",
      "\u001b[93m\u001b[1m[2025-04-05 11:54:41.498] | Warning | \u001b[0m41026 entry is not shared among all sequences, removing it ...\n",
      "\u001b[93m\u001b[1m[2025-04-05 11:54:42.480] | Warning | \u001b[0m73360 entry is not shared among all sequences, removing it ...\n",
      "\u001b[93m\u001b[1m[2025-04-05 11:54:43.395] | Warning | \u001b[0m16530 entry is not shared among all sequences, removing it ...\n",
      "\u001b[93m\u001b[1m[2025-04-05 11:54:44.297] | Warning | \u001b[0m250343 entry is not shared among all sequences, removing it ...\n",
      "\u001b[93m\u001b[1m[2025-04-05 11:54:45.269] | Warning | \u001b[0m219605 entry is not shared among all sequences, removing it ...\n",
      "\u001b[93m\u001b[1m[2025-04-05 11:54:46.218] | Warning | \u001b[0m68721 entry is not shared among all sequences, removing it ...\n",
      "\u001b[93m\u001b[1m[2025-04-05 11:54:47.206] | Warning | \u001b[0m50307 entry is not shared among all sequences, removing it ...\n",
      "\u001b[93m\u001b[1m[2025-04-05 11:54:48.218] | Warning | \u001b[0m83119 entry is not shared among all sequences, removing it ...\n",
      "\u001b[93m\u001b[1m[2025-04-05 11:54:49.170] | Warning | \u001b[0m223377 entry is not shared among all sequences, removing it ...\n",
      "\u001b[93m\u001b[1m[2025-04-05 11:54:50.175] | Warning | \u001b[0m259857 entry is not shared among all sequences, removing it ...\n",
      "\u001b[93m\u001b[1m[2025-04-05 11:54:51.227] | Warning | \u001b[0m40266 entry is not shared among all sequences, removing it ...\n",
      "\u001b[93m\u001b[1m[2025-04-05 11:54:52.081] | Warning | \u001b[0m101513 entry is not shared among all sequences, removing it ...\n",
      "\u001b[93m\u001b[1m[2025-04-05 11:54:53.100] | Warning | \u001b[0m96106 entry is not shared among all sequences, removing it ...\n",
      "\u001b[93m\u001b[1m[2025-04-05 11:54:54.090] | Warning | \u001b[0m26690 entry is not shared among all sequences, removing it ...\n",
      "\u001b[93m\u001b[1m[2025-04-05 11:54:55.102] | Warning | \u001b[0m238803 entry is not shared among all sequences, removing it ...\n",
      "\u001b[93m\u001b[1m[2025-04-05 11:54:56.133] | Warning | \u001b[0m35692 entry is not shared among all sequences, removing it ...\n",
      "\u001b[93m\u001b[1m[2025-04-05 11:54:57.130] | Warning | \u001b[0m208465 entry is not shared among all sequences, removing it ...\n",
      "\u001b[93m\u001b[1m[2025-04-05 11:54:58.083] | Warning | \u001b[0m116219 entry is not shared among all sequences, removing it ...\n",
      "\u001b[93m\u001b[1m[2025-04-05 11:54:58.958] | Warning | \u001b[0m172060 entry is not shared among all sequences, removing it ...\n",
      "\u001b[93m\u001b[1m[2025-04-05 11:54:59.884] | Warning | \u001b[0m101733 entry is not shared among all sequences, removing it ...\n",
      "\u001b[93m\u001b[1m[2025-04-05 11:55:00.709] | Warning | \u001b[0m48019 entry is not shared among all sequences, removing it ...\n",
      "\u001b[93m\u001b[1m[2025-04-05 11:55:01.636] | Warning | \u001b[0m233880 entry is not shared among all sequences, removing it ...\n",
      "\u001b[93m\u001b[1m[2025-04-05 11:55:02.451] | Warning | \u001b[0m213375 entry is not shared among all sequences, removing it ...\n",
      "\u001b[93m\u001b[1m[2025-04-05 11:55:03.393] | Warning | \u001b[0m48219 entry is not shared among all sequences, removing it ...\n",
      "\u001b[93m\u001b[1m[2025-04-05 11:55:04.330] | Warning | \u001b[0m36060 entry is not shared among all sequences, removing it ...\n",
      "\u001b[93m\u001b[1m[2025-04-05 11:55:05.343] | Warning | \u001b[0m50478 entry is not shared among all sequences, removing it ...\n",
      "\u001b[93m\u001b[1m[2025-04-05 11:55:06.316] | Warning | \u001b[0m224649 entry is not shared among all sequences, removing it ...\n",
      "\u001b[93m\u001b[1m[2025-04-05 11:55:07.346] | Warning | \u001b[0m238597 entry is not shared among all sequences, removing it ...\n",
      "\u001b[93m\u001b[1m[2025-04-05 11:55:08.280] | Warning | \u001b[0m71459 entry is not shared among all sequences, removing it ...\n",
      "\u001b[93m\u001b[1m[2025-04-05 11:55:09.162] | Warning | \u001b[0m60351 entry is not shared among all sequences, removing it ...\n",
      "\u001b[93m\u001b[1m[2025-04-05 11:55:10.132] | Warning | \u001b[0m267092 entry is not shared among all sequences, removing it ...\n",
      "\u001b[93m\u001b[1m[2025-04-05 11:55:11.119] | Warning | \u001b[0m22344 entry is not shared among all sequences, removing it ...\n",
      "\u001b[93m\u001b[1m[2025-04-05 11:55:12.082] | Warning | \u001b[0m232464 entry is not shared among all sequences, removing it ...\n",
      "\u001b[93m\u001b[1m[2025-04-05 11:55:13.125] | Warning | \u001b[0m302220 entry is not shared among all sequences, removing it ...\n",
      "\u001b[93m\u001b[1m[2025-04-05 11:55:14.159] | Warning | \u001b[0m196665 entry is not shared among all sequences, removing it ...\n",
      "\u001b[93m\u001b[1m[2025-04-05 11:55:15.167] | Warning | \u001b[0m93843 entry is not shared among all sequences, removing it ...\n",
      "\u001b[93m\u001b[1m[2025-04-05 11:55:16.112] | Warning | \u001b[0m276771 entry is not shared among all sequences, removing it ...\n",
      "\u001b[93m\u001b[1m[2025-04-05 11:55:17.026] | Warning | \u001b[0m87163 entry is not shared among all sequences, removing it ...\n",
      "\u001b[93m\u001b[1m[2025-04-05 11:55:17.975] | Warning | \u001b[0m57295 entry is not shared among all sequences, removing it ...\n",
      "\u001b[93m\u001b[1m[2025-04-05 11:55:18.937] | Warning | \u001b[0m247108 entry is not shared among all sequences, removing it ...\n",
      "\u001b[93m\u001b[1m[2025-04-05 11:55:19.846] | Warning | \u001b[0m95205 entry is not shared among all sequences, removing it ...\n",
      "\u001b[93m\u001b[1m[2025-04-05 11:55:20.763] | Warning | \u001b[0m236306 entry is not shared among all sequences, removing it ...\n",
      "\u001b[93m\u001b[1m[2025-04-05 11:55:21.777] | Warning | \u001b[0m42426 entry is not shared among all sequences, removing it ...\n",
      "\u001b[93m\u001b[1m[2025-04-05 11:55:22.696] | Warning | \u001b[0m224648 entry is not shared among all sequences, removing it ...\n",
      "\u001b[93m\u001b[1m[2025-04-05 11:55:23.671] | Warning | \u001b[0m79019 entry is not shared among all sequences, removing it ...\n",
      "\u001b[93m\u001b[1m[2025-04-05 11:55:24.472] | Warning | \u001b[0m30762 entry is not shared among all sequences, removing it ...\n",
      "\u001b[93m\u001b[1m[2025-04-05 11:55:25.361] | Warning | \u001b[0m121759 entry is not shared among all sequences, removing it ...\n",
      "\u001b[93m\u001b[1m[2025-04-05 11:55:26.339] | Warning | \u001b[0m196364 entry is not shared among all sequences, removing it ...\n",
      "\u001b[93m\u001b[1m[2025-04-05 11:55:27.345] | Warning | \u001b[0m241178 entry is not shared among all sequences, removing it ...\n",
      "\u001b[93m\u001b[1m[2025-04-05 11:55:28.296] | Warning | \u001b[0m135658 entry is not shared among all sequences, removing it ...\n",
      "\u001b[93m\u001b[1m[2025-04-05 11:55:29.250] | Warning | \u001b[0m90008 entry is not shared among all sequences, removing it ...\n",
      "\u001b[93m\u001b[1m[2025-04-05 11:55:30.245] | Warning | \u001b[0m1nXhAjuICTA entry is not shared among all sequences, removing it ...\n",
      "\u001b[93m\u001b[1m[2025-04-05 11:55:31.150] | Warning | \u001b[0m45860 entry is not shared among all sequences, removing it ...\n",
      "\u001b[93m\u001b[1m[2025-04-05 11:55:32.069] | Warning | \u001b[0m186643 entry is not shared among all sequences, removing it ...\n",
      "\u001b[93m\u001b[1m[2025-04-05 11:55:33.024] | Warning | \u001b[0m207964 entry is not shared among all sequences, removing it ...\n",
      "\u001b[93m\u001b[1m[2025-04-05 11:55:33.981] | Warning | \u001b[0m57294 entry is not shared among all sequences, removing it ...\n",
      "\u001b[93m\u001b[1m[2025-04-05 11:55:34.850] | Warning | \u001b[0m24814 entry is not shared among all sequences, removing it ...\n",
      "\u001b[93m\u001b[1m[2025-04-05 11:55:35.746] | Warning | \u001b[0m245207 entry is not shared among all sequences, removing it ...\n",
      "\u001b[93m\u001b[1m[2025-04-05 11:55:36.696] | Warning | \u001b[0m100232 entry is not shared among all sequences, removing it ...\n",
      "\u001b[93m\u001b[1m[2025-04-05 11:55:37.547] | Warning | \u001b[0m58151 entry is not shared among all sequences, removing it ...\n",
      "\u001b[93m\u001b[1m[2025-04-05 11:55:38.475] | Warning | \u001b[0m49029 entry is not shared among all sequences, removing it ...\n",
      "\u001b[93m\u001b[1m[2025-04-05 11:55:39.308] | Warning | \u001b[0m224285 entry is not shared among all sequences, removing it ...\n",
      "\u001b[93m\u001b[1m[2025-04-05 11:55:39.991] | Warning | \u001b[0m219600 entry is not shared among all sequences, removing it ...\n",
      "\u001b[93m\u001b[1m[2025-04-05 11:55:40.764] | Warning | \u001b[0m105906 entry is not shared among all sequences, removing it ...\n",
      "\u001b[93m\u001b[1m[2025-04-05 11:55:41.741] | Warning | \u001b[0m22277 entry is not shared among all sequences, removing it ...\n",
      "\u001b[93m\u001b[1m[2025-04-05 11:55:42.764] | Warning | \u001b[0m193322 entry is not shared among all sequences, removing it ...\n",
      "\u001b[93m\u001b[1m[2025-04-05 11:55:43.737] | Warning | \u001b[0m22785 entry is not shared among all sequences, removing it ...\n",
      "\u001b[93m\u001b[1m[2025-04-05 11:55:44.726] | Warning | \u001b[0m255205 entry is not shared among all sequences, removing it ...\n",
      "\u001b[93m\u001b[1m[2025-04-05 11:55:45.643] | Warning | \u001b[0m127490 entry is not shared among all sequences, removing it ...\n",
      "\u001b[93m\u001b[1m[2025-04-05 11:55:46.487] | Warning | \u001b[0m140315 entry is not shared among all sequences, removing it ...\n",
      "\u001b[93m\u001b[1m[2025-04-05 11:55:47.172] | Warning | \u001b[0m158832 entry is not shared among all sequences, removing it ...\n",
      "\u001b[93m\u001b[1m[2025-04-05 11:55:47.924] | Warning | \u001b[0m114419 entry is not shared among all sequences, removing it ...\n",
      "\u001b[93m\u001b[1m[2025-04-05 11:55:48.754] | Warning | \u001b[0m266861 entry is not shared among all sequences, removing it ...\n",
      "\u001b[93m\u001b[1m[2025-04-05 11:55:49.400] | Warning | \u001b[0m21727 entry is not shared among all sequences, removing it ...\n",
      "\u001b[93m\u001b[1m[2025-04-05 11:55:50.131] | Warning | \u001b[0m368460 entry is not shared among all sequences, removing it ...\n",
      "\u001b[93m\u001b[1m[2025-04-05 11:55:50.918] | Warning | \u001b[0m220550 entry is not shared among all sequences, removing it ...\n",
      "\u001b[93m\u001b[1m[2025-04-05 11:55:51.860] | Warning | \u001b[0m91166 entry is not shared among all sequences, removing it ...\n",
      "\u001b[93m\u001b[1m[2025-04-05 11:55:52.826] | Warning | \u001b[0m27880 entry is not shared among all sequences, removing it ...\n",
      "\u001b[93m\u001b[1m[2025-04-05 11:55:53.809] | Warning | \u001b[0m197232 entry is not shared among all sequences, removing it ...\n",
      "\u001b[93m\u001b[1m[2025-04-05 11:55:54.867] | Warning | \u001b[0m16145 entry is not shared among all sequences, removing it ...\n",
      "\u001b[93m\u001b[1m[2025-04-05 11:55:55.944] | Warning | \u001b[0m270993 entry is not shared among all sequences, removing it ...\n",
      "\u001b[93m\u001b[1m[2025-04-05 11:55:57.167] | Warning | \u001b[0m80640 entry is not shared among all sequences, removing it ...\n",
      "\u001b[93m\u001b[1m[2025-04-05 11:55:58.204] | Warning | \u001b[0m97463 entry is not shared among all sequences, removing it ...\n",
      "\u001b[93m\u001b[1m[2025-04-05 11:55:59.248] | Warning | \u001b[0m229296 entry is not shared among all sequences, removing it ...\n",
      "\u001b[93m\u001b[1m[2025-04-05 11:56:00.088] | Warning | \u001b[0m116461 entry is not shared among all sequences, removing it ...\n",
      "\u001b[93m\u001b[1m[2025-04-05 11:56:00.844] | Warning | \u001b[0m172075 entry is not shared among all sequences, removing it ...\n",
      "\u001b[93m\u001b[1m[2025-04-05 11:56:01.569] | Warning | \u001b[0m229808 entry is not shared among all sequences, removing it ...\n",
      "\u001b[93m\u001b[1m[2025-04-05 11:56:02.225] | Warning | \u001b[0m61247 entry is not shared among all sequences, removing it ...\n",
      "\u001b[93m\u001b[1m[2025-04-05 11:56:02.850] | Warning | \u001b[0m30858 entry is not shared among all sequences, removing it ...\n",
      "\u001b[93m\u001b[1m[2025-04-05 11:56:03.527] | Warning | \u001b[0m268258 entry is not shared among all sequences, removing it ...\n",
      "\u001b[93m\u001b[1m[2025-04-05 11:56:04.180] | Warning | \u001b[0m233405 entry is not shared among all sequences, removing it ...\n",
      "\u001b[93m\u001b[1m[2025-04-05 11:56:04.841] | Warning | \u001b[0mrLNY4-FWt5c entry is not shared among all sequences, removing it ...\n",
      "\u001b[93m\u001b[1m[2025-04-05 11:56:05.386] | Warning | \u001b[0m23343 entry is not shared among all sequences, removing it ...\n",
      "\u001b[93m\u001b[1m[2025-04-05 11:56:05.987] | Warning | \u001b[0m57231 entry is not shared among all sequences, removing it ...\n",
      "\u001b[93m\u001b[1m[2025-04-05 11:56:06.653] | Warning | \u001b[0m96700 entry is not shared among all sequences, removing it ...\n",
      "\u001b[93m\u001b[1m[2025-04-05 11:56:07.301] | Warning | \u001b[0m101281 entry is not shared among all sequences, removing it ...\n",
      "\u001b[93m\u001b[1m[2025-04-05 11:56:07.938] | Warning | \u001b[0m136647 entry is not shared among all sequences, removing it ...\n",
      "\u001b[93m\u001b[1m[2025-04-05 11:56:08.552] | Warning | \u001b[0m230422 entry is not shared among all sequences, removing it ...\n",
      "\u001b[93m\u001b[1m[2025-04-05 11:56:09.137] | Warning | \u001b[0m159031 entry is not shared among all sequences, removing it ...\n",
      "\u001b[93m\u001b[1m[2025-04-05 11:56:09.764] | Warning | \u001b[0m231412 entry is not shared among all sequences, removing it ...\n",
      "\u001b[93m\u001b[1m[2025-04-05 11:56:10.336] | Warning | \u001b[0m280584 entry is not shared among all sequences, removing it ...\n",
      "\u001b[93m\u001b[1m[2025-04-05 11:56:10.923] | Warning | \u001b[0m93828 entry is not shared among all sequences, removing it ...\n",
      "\u001b[93m\u001b[1m[2025-04-05 11:56:11.667] | Warning | \u001b[0m46826 entry is not shared among all sequences, removing it ...\n",
      "\u001b[93m\u001b[1m[2025-04-05 11:56:12.279] | Warning | \u001b[0m263444 entry is not shared among all sequences, removing it ...\n",
      "\u001b[93m\u001b[1m[2025-04-05 11:56:12.961] | Warning | \u001b[0m323217 entry is not shared among all sequences, removing it ...\n",
      "\u001b[93m\u001b[1m[2025-04-05 11:56:13.547] | Warning | \u001b[0m114945 entry is not shared among all sequences, removing it ...\n",
      "\u001b[93m\u001b[1m[2025-04-05 11:56:14.250] | Warning | \u001b[0m246117 entry is not shared among all sequences, removing it ...\n",
      "\u001b[93m\u001b[1m[2025-04-05 11:56:14.872] | Warning | \u001b[0m46663 entry is not shared among all sequences, removing it ...\n",
      "\u001b[93m\u001b[1m[2025-04-05 11:56:15.522] | Warning | \u001b[0m60308 entry is not shared among all sequences, removing it ...\n",
      "\u001b[93m\u001b[1m[2025-04-05 11:56:16.130] | Warning | \u001b[0m219614 entry is not shared among all sequences, removing it ...\n",
      "\u001b[93m\u001b[1m[2025-04-05 11:56:16.779] | Warning | \u001b[0m342407 entry is not shared among all sequences, removing it ...\n",
      "\u001b[93m\u001b[1m[2025-04-05 11:56:17.509] | Warning | \u001b[0m104739 entry is not shared among all sequences, removing it ...\n",
      "\u001b[93m\u001b[1m[2025-04-05 11:56:18.185] | Warning | \u001b[0m178941 entry is not shared among all sequences, removing it ...\n",
      "\u001b[93m\u001b[1m[2025-04-05 11:56:18.892] | Warning | \u001b[0m247538 entry is not shared among all sequences, removing it ...\n",
      "\u001b[93m\u001b[1m[2025-04-05 11:56:19.557] | Warning | \u001b[0m241124 entry is not shared among all sequences, removing it ...\n",
      "\u001b[93m\u001b[1m[2025-04-05 11:56:20.163] | Warning | \u001b[0m30171 entry is not shared among all sequences, removing it ...\n",
      "\u001b[93m\u001b[1m[2025-04-05 11:56:20.800] | Warning | \u001b[0m110794 entry is not shared among all sequences, removing it ...\n",
      "\u001b[93m\u001b[1m[2025-04-05 11:56:21.484] | Warning | \u001b[0m172050 entry is not shared among all sequences, removing it ...\n",
      "\u001b[93m\u001b[1m[2025-04-05 11:56:22.142] | Warning | \u001b[0m96694 entry is not shared among all sequences, removing it ...\n",
      "\u001b[93m\u001b[1m[2025-04-05 11:56:22.893] | Warning | \u001b[0m59302 entry is not shared among all sequences, removing it ...\n",
      "\u001b[93m\u001b[1m[2025-04-05 11:56:23.580] | Warning | \u001b[0m93116 entry is not shared among all sequences, removing it ...\n",
      "\u001b[93m\u001b[1m[2025-04-05 11:56:24.145] | Warning | \u001b[0m43342 entry is not shared among all sequences, removing it ...\n",
      "\u001b[93m\u001b[1m[2025-04-05 11:56:24.758] | Warning | \u001b[0m34684 entry is not shared among all sequences, removing it ...\n",
      "\u001b[93m\u001b[1m[2025-04-05 11:56:25.370] | Warning | \u001b[0m88792 entry is not shared among all sequences, removing it ...\n",
      "\u001b[93m\u001b[1m[2025-04-05 11:56:25.975] | Warning | \u001b[0m33272 entry is not shared among all sequences, removing it ...\n",
      "\u001b[93m\u001b[1m[2025-04-05 11:56:26.707] | Warning | \u001b[0m242166 entry is not shared among all sequences, removing it ...\n",
      "\u001b[93m\u001b[1m[2025-04-05 11:56:27.367] | Warning | \u001b[0m280951 entry is not shared among all sequences, removing it ...\n",
      "\u001b[93m\u001b[1m[2025-04-05 11:56:27.954] | Warning | \u001b[0m99331 entry is not shared among all sequences, removing it ...\n",
      "\u001b[93m\u001b[1m[2025-04-05 11:56:28.561] | Warning | \u001b[0m43469 entry is not shared among all sequences, removing it ...\n",
      "\u001b[93m\u001b[1m[2025-04-05 11:56:29.127] | Warning | \u001b[0m112674 entry is not shared among all sequences, removing it ...\n",
      "\u001b[93m\u001b[1m[2025-04-05 11:56:29.744] | Warning | \u001b[0m118583 entry is not shared among all sequences, removing it ...\n",
      "\u001b[93m\u001b[1m[2025-04-05 11:56:30.329] | Warning | \u001b[0m74197 entry is not shared among all sequences, removing it ...\n",
      "\u001b[93m\u001b[1m[2025-04-05 11:56:30.936] | Warning | \u001b[0m221104 entry is not shared among all sequences, removing it ...\n",
      "\u001b[93m\u001b[1m[2025-04-05 11:56:31.629] | Warning | \u001b[0m116221 entry is not shared among all sequences, removing it ...\n",
      "\u001b[93m\u001b[1m[2025-04-05 11:56:32.158] | Warning | \u001b[0m58096 entry is not shared among all sequences, removing it ...\n",
      "\u001b[93m\u001b[1m[2025-04-05 11:56:32.771] | Warning | \u001b[0m43428 entry is not shared among all sequences, removing it ...\n",
      "\u001b[93m\u001b[1m[2025-04-05 11:56:33.431] | Warning | \u001b[0m74115 entry is not shared among all sequences, removing it ...\n",
      "\u001b[93m\u001b[1m[2025-04-05 11:56:34.033] | Warning | \u001b[0m270771 entry is not shared among all sequences, removing it ...\n",
      "\u001b[93m\u001b[1m[2025-04-05 11:56:34.714] | Warning | \u001b[0m94439 entry is not shared among all sequences, removing it ...\n",
      "\u001b[93m\u001b[1m[2025-04-05 11:56:35.329] | Warning | \u001b[0m203466 entry is not shared among all sequences, removing it ...\n",
      "\u001b[93m\u001b[1m[2025-04-05 11:56:35.970] | Warning | \u001b[0m109909 entry is not shared among all sequences, removing it ...\n",
      "\u001b[93m\u001b[1m[2025-04-05 11:56:36.621] | Warning | \u001b[0m75393 entry is not shared among all sequences, removing it ...\n",
      "\u001b[93m\u001b[1m[2025-04-05 11:56:37.252] | Warning | \u001b[0m95887 entry is not shared among all sequences, removing it ...\n",
      "\u001b[93m\u001b[1m[2025-04-05 11:56:37.889] | Warning | \u001b[0m101880 entry is not shared among all sequences, removing it ...\n",
      "\u001b[93m\u001b[1m[2025-04-05 11:56:38.532] | Warning | \u001b[0m70299 entry is not shared among all sequences, removing it ...\n",
      "\u001b[93m\u001b[1m[2025-04-05 11:56:39.111] | Warning | \u001b[0m213207 entry is not shared among all sequences, removing it ...\n",
      "\u001b[93m\u001b[1m[2025-04-05 11:56:39.730] | Warning | \u001b[0m114006 entry is not shared among all sequences, removing it ...\n",
      "\u001b[93m\u001b[1m[2025-04-05 11:56:40.333] | Warning | \u001b[0m134298 entry is not shared among all sequences, removing it ...\n",
      "\u001b[93m\u001b[1m[2025-04-05 11:56:40.896] | Warning | \u001b[0m224472 entry is not shared among all sequences, removing it ...\n",
      "\u001b[93m\u001b[1m[2025-04-05 11:56:41.539] | Warning | \u001b[0m68828 entry is not shared among all sequences, removing it ...\n",
      "\u001b[93m\u001b[1m[2025-04-05 11:56:42.323] | Warning | \u001b[0m21844 entry is not shared among all sequences, removing it ...\n",
      "\u001b[93m\u001b[1m[2025-04-05 11:56:42.979] | Warning | \u001b[0m89184 entry is not shared among all sequences, removing it ...\n",
      "\u001b[93m\u001b[1m[2025-04-05 11:56:43.640] | Warning | \u001b[0m30036 entry is not shared among all sequences, removing it ...\n",
      "\u001b[93m\u001b[1m[2025-04-05 11:56:44.256] | Warning | \u001b[0m110003 entry is not shared among all sequences, removing it ...\n",
      "\u001b[93m\u001b[1m[2025-04-05 11:56:44.978] | Warning | \u001b[0m341382 entry is not shared among all sequences, removing it ...\n",
      "\u001b[93m\u001b[1m[2025-04-05 11:56:45.604] | Warning | \u001b[0m187033 entry is not shared among all sequences, removing it ...\n",
      "\u001b[93m\u001b[1m[2025-04-05 11:56:46.216] | Warning | \u001b[0m100961 entry is not shared among all sequences, removing it ...\n",
      "\u001b[93m\u001b[1m[2025-04-05 11:56:46.786] | Warning | \u001b[0m93119 entry is not shared among all sequences, removing it ...\n",
      "\u001b[93m\u001b[1m[2025-04-05 11:56:47.387] | Warning | \u001b[0m17769 entry is not shared among all sequences, removing it ...\n",
      "\u001b[93m\u001b[1m[2025-04-05 11:56:48.058] | Warning | \u001b[0m279373 entry is not shared among all sequences, removing it ...\n",
      "\u001b[93m\u001b[1m[2025-04-05 11:56:48.680] | Warning | \u001b[0m91284 entry is not shared among all sequences, removing it ...\n",
      "\u001b[93m\u001b[1m[2025-04-05 11:56:49.352] | Warning | \u001b[0m203806 entry is not shared among all sequences, removing it ...\n",
      "\u001b[93m\u001b[1m[2025-04-05 11:56:49.963] | Warning | \u001b[0m93845 entry is not shared among all sequences, removing it ...\n",
      "\u001b[93m\u001b[1m[2025-04-05 11:56:50.581] | Warning | \u001b[0m239242 entry is not shared among all sequences, removing it ...\n",
      "\u001b[93m\u001b[1m[2025-04-05 11:56:51.190] | Warning | \u001b[0m125698 entry is not shared among all sequences, removing it ...\n",
      "\u001b[93m\u001b[1m[2025-04-05 11:56:51.773] | Warning | \u001b[0m105553 entry is not shared among all sequences, removing it ...\n",
      "\u001b[93m\u001b[1m[2025-04-05 11:56:52.381] | Warning | \u001b[0m81707 entry is not shared among all sequences, removing it ...\n",
      "\u001b[93m\u001b[1m[2025-04-05 11:56:53.023] | Warning | \u001b[0m246216 entry is not shared among all sequences, removing it ...\n",
      "\u001b[93m\u001b[1m[2025-04-05 11:56:53.646] | Warning | \u001b[0m126505 entry is not shared among all sequences, removing it ...\n",
      "\u001b[93m\u001b[1m[2025-04-05 11:56:54.236] | Warning | \u001b[0m96337 entry is not shared among all sequences, removing it ...\n",
      "\u001b[93m\u001b[1m[2025-04-05 11:56:54.949] | Warning | \u001b[0m193093 entry is not shared among all sequences, removing it ...\n",
      "\u001b[93m\u001b[1m[2025-04-05 11:56:55.803] | Warning | \u001b[0m234641 entry is not shared among all sequences, removing it ...\n",
      "\u001b[93m\u001b[1m[2025-04-05 11:56:56.712] | Warning | \u001b[0m274185 entry is not shared among all sequences, removing it ...\n",
      "\u001b[93m\u001b[1m[2025-04-05 11:56:57.426] | Warning | \u001b[0m66505 entry is not shared among all sequences, removing it ...\n",
      "\u001b[93m\u001b[1m[2025-04-05 11:56:58.224] | Warning | \u001b[0m102534 entry is not shared among all sequences, removing it ...\n",
      "\u001b[93m\u001b[1m[2025-04-05 11:56:58.816] | Warning | \u001b[0m27857 entry is not shared among all sequences, removing it ...\n",
      "\u001b[93m\u001b[1m[2025-04-05 11:56:59.410] | Warning | \u001b[0m50306 entry is not shared among all sequences, removing it ...\n",
      "\u001b[93m\u001b[1m[2025-04-05 11:57:00.114] | Warning | \u001b[0m27881 entry is not shared among all sequences, removing it ...\n",
      "\u001b[93m\u001b[1m[2025-04-05 11:57:00.775] | Warning | \u001b[0mFrS-6P6FdCM entry is not shared among all sequences, removing it ...\n",
      "\u001b[93m\u001b[1m[2025-04-05 11:57:01.495] | Warning | \u001b[0m219350 entry is not shared among all sequences, removing it ...\n",
      "\u001b[93m\u001b[1m[2025-04-05 11:57:02.256] | Warning | \u001b[0m234406 entry is not shared among all sequences, removing it ...\n",
      "\u001b[93m\u001b[1m[2025-04-05 11:57:03.035] | Warning | \u001b[0m84670 entry is not shared among all sequences, removing it ...\n",
      "\u001b[93m\u001b[1m[2025-04-05 11:57:03.720] | Warning | \u001b[0m204085 entry is not shared among all sequences, removing it ...\n",
      "\u001b[93m\u001b[1m[2025-04-05 11:57:04.371] | Warning | \u001b[0m125868 entry is not shared among all sequences, removing it ...\n",
      "\u001b[93m\u001b[1m[2025-04-05 11:57:05.117] | Warning | \u001b[0m216831 entry is not shared among all sequences, removing it ...\n",
      "\u001b[93m\u001b[1m[2025-04-05 11:57:05.712] | Warning | \u001b[0m265811 entry is not shared among all sequences, removing it ...\n",
      "\u001b[93m\u001b[1m[2025-04-05 11:57:06.298] | Warning | \u001b[0m124190 entry is not shared among all sequences, removing it ...\n",
      "\u001b[93m\u001b[1m[2025-04-05 11:57:06.876] | Warning | \u001b[0m107456 entry is not shared among all sequences, removing it ...\n",
      "\u001b[93m\u001b[1m[2025-04-05 11:57:07.424] | Warning | \u001b[0m341763 entry is not shared among all sequences, removing it ...\n",
      "\u001b[93m\u001b[1m[2025-04-05 11:57:08.142] | Warning | \u001b[0m113162 entry is not shared among all sequences, removing it ...\n",
      "\u001b[93m\u001b[1m[2025-04-05 11:57:08.709] | Warning | \u001b[0mjHB9kiH6Vas entry is not shared among all sequences, removing it ...\n",
      "\u001b[93m\u001b[1m[2025-04-05 11:57:09.339] | Warning | \u001b[0m22884 entry is not shared among all sequences, removing it ...\n",
      "\u001b[93m\u001b[1m[2025-04-05 11:57:10.154] | Warning | \u001b[0m219627 entry is not shared among all sequences, removing it ...\n",
      "\u001b[93m\u001b[1m[2025-04-05 11:57:10.843] | Warning | \u001b[0meLjNLHkvxH4 entry is not shared among all sequences, removing it ...\n",
      "\u001b[93m\u001b[1m[2025-04-05 11:57:11.629] | Warning | \u001b[0m22719 entry is not shared among all sequences, removing it ...\n",
      "\u001b[93m\u001b[1m[2025-04-05 11:57:12.267] | Warning | \u001b[0m273032 entry is not shared among all sequences, removing it ...\n",
      "\u001b[93m\u001b[1m[2025-04-05 11:57:12.857] | Warning | \u001b[0m191616 entry is not shared among all sequences, removing it ...\n",
      "\u001b[93m\u001b[1m[2025-04-05 11:57:13.579] | Warning | \u001b[0m263889 entry is not shared among all sequences, removing it ...\n",
      "\u001b[93m\u001b[1m[2025-04-05 11:57:14.153] | Warning | \u001b[0m224498 entry is not shared among all sequences, removing it ...\n",
      "\u001b[93m\u001b[1m[2025-04-05 11:57:14.812] | Warning | \u001b[0m370404 entry is not shared among all sequences, removing it ...\n",
      "\u001b[93m\u001b[1m[2025-04-05 11:57:15.456] | Warning | \u001b[0m56853 entry is not shared among all sequences, removing it ...\n",
      "\u001b[93m\u001b[1m[2025-04-05 11:57:16.126] | Warning | \u001b[0m101635 entry is not shared among all sequences, removing it ...\n",
      "\u001b[93m\u001b[1m[2025-04-05 11:57:16.703] | Warning | \u001b[0m34984 entry is not shared among all sequences, removing it ...\n",
      "\u001b[93m\u001b[1m[2025-04-05 11:57:17.404] | Warning | \u001b[0m69870 entry is not shared among all sequences, removing it ...\n",
      "\u001b[93m\u001b[1m[2025-04-05 11:57:18.009] | Warning | \u001b[0m33436 entry is not shared among all sequences, removing it ...\n",
      "\u001b[93m\u001b[1m[2025-04-05 11:57:18.605] | Warning | \u001b[0m108573 entry is not shared among all sequences, removing it ...\n",
      "\u001b[93m\u001b[1m[2025-04-05 11:57:19.206] | Warning | \u001b[0m65939 entry is not shared among all sequences, removing it ...\n",
      "\u001b[93m\u001b[1m[2025-04-05 11:57:19.777] | Warning | \u001b[0m34640 entry is not shared among all sequences, removing it ...\n",
      "\u001b[93m\u001b[1m[2025-04-05 11:57:20.346] | Warning | \u001b[0m268536 entry is not shared among all sequences, removing it ...\n",
      "\u001b[93m\u001b[1m[2025-04-05 11:57:20.887] | Warning | \u001b[0m270439 entry is not shared among all sequences, removing it ...\n",
      "\u001b[93m\u001b[1m[2025-04-05 11:57:21.443] | Warning | \u001b[0m21285 entry is not shared among all sequences, removing it ...\n",
      "\u001b[93m\u001b[1m[2025-04-05 11:57:21.999] | Warning | \u001b[0m94525 entry is not shared among all sequences, removing it ...\n",
      "\u001b[93m\u001b[1m[2025-04-05 11:57:22.564] | Warning | \u001b[0m95147 entry is not shared among all sequences, removing it ...\n",
      "\u001b[93m\u001b[1m[2025-04-05 11:57:23.195] | Warning | \u001b[0m27863 entry is not shared among all sequences, removing it ...\n",
      "\u001b[93m\u001b[1m[2025-04-05 11:57:23.903] | Warning | \u001b[0m19664 entry is not shared among all sequences, removing it ...\n",
      "\u001b[93m\u001b[1m[2025-04-05 11:57:24.544] | Warning | \u001b[0m26115 entry is not shared among all sequences, removing it ...\n",
      "\u001b[93m\u001b[1m[2025-04-05 11:57:25.469] | Warning | \u001b[0m246798 entry is not shared among all sequences, removing it ...\n",
      "\u001b[93m\u001b[1m[2025-04-05 11:57:26.285] | Warning | \u001b[0m205268 entry is not shared among all sequences, removing it ...\n",
      "\u001b[93m\u001b[1m[2025-04-05 11:57:26.910] | Warning | \u001b[0m61557 entry is not shared among all sequences, removing it ...\n",
      "\u001b[93m\u001b[1m[2025-04-05 11:57:27.627] | Warning | \u001b[0m60428 entry is not shared among all sequences, removing it ...\n",
      "\u001b[93m\u001b[1m[2025-04-05 11:57:28.428] | Warning | \u001b[0m62438 entry is not shared among all sequences, removing it ...\n",
      "\u001b[93m\u001b[1m[2025-04-05 11:57:29.012] | Warning | \u001b[0m115134 entry is not shared among all sequences, removing it ...\n",
      "\u001b[93m\u001b[1m[2025-04-05 11:57:29.873] | Warning | \u001b[0m230692 entry is not shared among all sequences, removing it ...\n",
      "\u001b[93m\u001b[1m[2025-04-05 11:57:30.713] | Warning | \u001b[0m40970 entry is not shared among all sequences, removing it ...\n",
      "\u001b[93m\u001b[1m[2025-04-05 11:57:31.495] | Warning | \u001b[0m48300 entry is not shared among all sequences, removing it ...\n",
      "\u001b[93m\u001b[1m[2025-04-05 11:57:32.322] | Warning | \u001b[0m114845 entry is not shared among all sequences, removing it ...\n",
      "\u001b[93m\u001b[1m[2025-04-05 11:57:32.963] | Warning | \u001b[0m65068 entry is not shared among all sequences, removing it ...\n",
      "\u001b[93m\u001b[1m[2025-04-05 11:57:33.636] | Warning | \u001b[0m58554 entry is not shared among all sequences, removing it ...\n",
      "\u001b[93m\u001b[1m[2025-04-05 11:57:34.533] | Warning | \u001b[0m239180 entry is not shared among all sequences, removing it ...\n",
      "\u001b[93m\u001b[1m[2025-04-05 11:57:35.156] | Warning | \u001b[0m22649 entry is not shared among all sequences, removing it ...\n",
      "\u001b[93m\u001b[1m[2025-04-05 11:57:35.726] | Warning | \u001b[0m341983 entry is not shared among all sequences, removing it ...\n",
      "\u001b[93m\u001b[1m[2025-04-05 11:57:36.392] | Warning | \u001b[0m116481 entry is not shared among all sequences, removing it ...\n",
      "\u001b[93m\u001b[1m[2025-04-05 11:57:37.001] | Warning | \u001b[0m76104 entry is not shared among all sequences, removing it ...\n",
      "\u001b[93m\u001b[1m[2025-04-05 11:57:37.761] | Warning | \u001b[0m78398 entry is not shared among all sequences, removing it ...\n",
      "\u001b[93m\u001b[1m[2025-04-05 11:57:38.432] | Warning | \u001b[0m75441 entry is not shared among all sequences, removing it ...\n",
      "\u001b[93m\u001b[1m[2025-04-05 11:57:39.114] | Warning | \u001b[0m88881 entry is not shared among all sequences, removing it ...\n",
      "\u001b[93m\u001b[1m[2025-04-05 11:57:39.642] | Warning | \u001b[0m103311 entry is not shared among all sequences, removing it ...\n",
      "\u001b[93m\u001b[1m[2025-04-05 11:57:40.256] | Warning | \u001b[0m28412 entry is not shared among all sequences, removing it ...\n",
      "\u001b[93m\u001b[1m[2025-04-05 11:57:40.810] | Warning | \u001b[0m97076 entry is not shared among all sequences, removing it ...\n",
      "\u001b[93m\u001b[1m[2025-04-05 11:57:41.419] | Warning | \u001b[0m231453 entry is not shared among all sequences, removing it ...\n",
      "\u001b[93m\u001b[1m[2025-04-05 11:57:42.046] | Warning | \u001b[0m75892 entry is not shared among all sequences, removing it ...\n",
      "\u001b[93m\u001b[1m[2025-04-05 11:57:42.549] | Warning | \u001b[0m33089 entry is not shared among all sequences, removing it ...\n",
      "\u001b[93m\u001b[1m[2025-04-05 11:57:43.187] | Warning | \u001b[0m74447 entry is not shared among all sequences, removing it ...\n",
      "\u001b[93m\u001b[1m[2025-04-05 11:57:43.766] | Warning | \u001b[0m60402 entry is not shared among all sequences, removing it ...\n",
      "\u001b[93m\u001b[1m[2025-04-05 11:57:44.352] | Warning | \u001b[0m112172 entry is not shared among all sequences, removing it ...\n",
      "\u001b[93m\u001b[1m[2025-04-05 11:57:44.924] | Warning | \u001b[0m109524 entry is not shared among all sequences, removing it ...\n",
      "\u001b[93m\u001b[1m[2025-04-05 11:57:45.475] | Warning | \u001b[0mvi0FsBCqfRE entry is not shared among all sequences, removing it ...\n",
      "\u001b[93m\u001b[1m[2025-04-05 11:57:46.000] | Warning | \u001b[0m535523 entry is not shared among all sequences, removing it ...\n",
      "\u001b[93m\u001b[1m[2025-04-05 11:57:46.594] | Warning | \u001b[0m248024 entry is not shared among all sequences, removing it ...\n",
      "\u001b[93m\u001b[1m[2025-04-05 11:57:47.320] | Warning | \u001b[0m206148 entry is not shared among all sequences, removing it ...\n",
      "\u001b[93m\u001b[1m[2025-04-05 11:57:48.070] | Warning | \u001b[0m207118 entry is not shared among all sequences, removing it ...\n",
      "\u001b[93m\u001b[1m[2025-04-05 11:57:48.877] | Warning | \u001b[0m46860 entry is not shared among all sequences, removing it ...\n",
      "\u001b[93m\u001b[1m[2025-04-05 11:57:49.604] | Warning | \u001b[0m188825 entry is not shared among all sequences, removing it ...\n",
      "\u001b[93m\u001b[1m[2025-04-05 11:57:50.341] | Warning | \u001b[0m207958 entry is not shared among all sequences, removing it ...\n",
      "\u001b[93m\u001b[1m[2025-04-05 11:57:50.992] | Warning | \u001b[0m132476 entry is not shared among all sequences, removing it ...\n",
      "\u001b[93m\u001b[1m[2025-04-05 11:57:51.688] | Warning | \u001b[0m19573 entry is not shared among all sequences, removing it ...\n",
      "\u001b[93m\u001b[1m[2025-04-05 11:57:52.346] | Warning | \u001b[0m88077 entry is not shared among all sequences, removing it ...\n",
      "\u001b[93m\u001b[1m[2025-04-05 11:57:53.173] | Warning | \u001b[0m262341 entry is not shared among all sequences, removing it ...\n",
      "\u001b[93m\u001b[1m[2025-04-05 11:57:53.862] | Warning | \u001b[0m46808 entry is not shared among all sequences, removing it ...\n",
      "\u001b[93m\u001b[1m[2025-04-05 11:57:54.671] | Warning | \u001b[0m188062 entry is not shared among all sequences, removing it ...\n",
      "\u001b[93m\u001b[1m[2025-04-05 11:57:55.419] | Warning | \u001b[0m22305 entry is not shared among all sequences, removing it ...\n",
      "\u001b[93m\u001b[1m[2025-04-05 11:57:56.109] | Warning | \u001b[0m96595 entry is not shared among all sequences, removing it ...\n",
      "\u001b[93m\u001b[1m[2025-04-05 11:57:56.945] | Warning | \u001b[0m21696 entry is not shared among all sequences, removing it ...\n",
      "\u001b[93m\u001b[1m[2025-04-05 11:57:57.619] | Warning | \u001b[0m43444 entry is not shared among all sequences, removing it ...\n",
      "\u001b[93m\u001b[1m[2025-04-05 11:57:58.454] | Warning | \u001b[0m18938 entry is not shared among all sequences, removing it ...\n",
      "\u001b[93m\u001b[1m[2025-04-05 11:57:59.250] | Warning | \u001b[0m190599 entry is not shared among all sequences, removing it ...\n",
      "\u001b[93m\u001b[1m[2025-04-05 11:58:00.053] | Warning | \u001b[0m98513 entry is not shared among all sequences, removing it ...\n",
      "\u001b[93m\u001b[1m[2025-04-05 11:58:00.826] | Warning | \u001b[0m35934 entry is not shared among all sequences, removing it ...\n",
      "\u001b[93m\u001b[1m[2025-04-05 11:58:01.695] | Warning | \u001b[0m201497 entry is not shared among all sequences, removing it ...\n",
      "\u001b[93m\u001b[1m[2025-04-05 11:58:02.589] | Warning | \u001b[0m22360 entry is not shared among all sequences, removing it ...\n",
      "\u001b[93m\u001b[1m[2025-04-05 11:58:03.391] | Warning | \u001b[0m30646 entry is not shared among all sequences, removing it ...\n",
      "\u001b[93m\u001b[1m[2025-04-05 11:58:04.229] | Warning | \u001b[0m199227 entry is not shared among all sequences, removing it ...\n",
      "\u001b[93m\u001b[1m[2025-04-05 11:58:05.124] | Warning | \u001b[0m98562 entry is not shared among all sequences, removing it ...\n",
      "\u001b[93m\u001b[1m[2025-04-05 11:58:06.002] | Warning | \u001b[0m101708 entry is not shared among all sequences, removing it ...\n",
      "\u001b[93m\u001b[1m[2025-04-05 11:58:06.826] | Warning | \u001b[0m133888 entry is not shared among all sequences, removing it ...\n",
      "\u001b[93m\u001b[1m[2025-04-05 11:58:07.643] | Warning | \u001b[0m22335 entry is not shared among all sequences, removing it ...\n",
      "\u001b[93m\u001b[1m[2025-04-05 11:58:08.546] | Warning | \u001b[0m79858 entry is not shared among all sequences, removing it ...\n",
      "\u001b[93m\u001b[1m[2025-04-05 11:58:09.422] | Warning | \u001b[0m97908 entry is not shared among all sequences, removing it ...\n",
      "\u001b[93m\u001b[1m[2025-04-05 11:58:10.317] | Warning | \u001b[0m21735 entry is not shared among all sequences, removing it ...\n",
      "\u001b[93m\u001b[1m[2025-04-05 11:58:11.183] | Warning | \u001b[0m76819 entry is not shared among all sequences, removing it ...\n",
      "\u001b[93m\u001b[1m[2025-04-05 11:58:12.099] | Warning | \u001b[0m36164 entry is not shared among all sequences, removing it ...\n",
      "\u001b[93m\u001b[1m[2025-04-05 11:58:12.942] | Warning | \u001b[0m41032 entry is not shared among all sequences, removing it ...\n",
      "\u001b[93m\u001b[1m[2025-04-05 11:58:13.848] | Warning | \u001b[0m238858 entry is not shared among all sequences, removing it ...\n",
      "\u001b[93m\u001b[1m[2025-04-05 11:58:14.741] | Warning | \u001b[0m27886 entry is not shared among all sequences, removing it ...\n",
      "\u001b[93m\u001b[1m[2025-04-05 11:58:15.631] | Warning | \u001b[0m32459 entry is not shared among all sequences, removing it ...\n",
      "\u001b[93m\u001b[1m[2025-04-05 11:58:16.530] | Warning | \u001b[0m247764 entry is not shared among all sequences, removing it ...\n",
      "\u001b[93m\u001b[1m[2025-04-05 11:58:17.389] | Warning | \u001b[0m193894 entry is not shared among all sequences, removing it ...\n",
      "\u001b[93m\u001b[1m[2025-04-05 11:58:18.306] | Warning | \u001b[0m243056 entry is not shared among all sequences, removing it ...\n",
      "\u001b[93m\u001b[1m[2025-04-05 11:58:19.196] | Warning | \u001b[0m50479 entry is not shared among all sequences, removing it ...\n",
      "\u001b[93m\u001b[1m[2025-04-05 11:58:20.066] | Warning | \u001b[0m261052 entry is not shared among all sequences, removing it ...\n",
      "\u001b[93m\u001b[1m[2025-04-05 11:58:20.890] | Warning | \u001b[0m105537 entry is not shared among all sequences, removing it ...\n",
      "\u001b[93m\u001b[1m[2025-04-05 11:58:21.752] | Warning | \u001b[0m224238 entry is not shared among all sequences, removing it ...\n",
      "\u001b[93m\u001b[1m[2025-04-05 11:58:22.556] | Warning | \u001b[0m17811 entry is not shared among all sequences, removing it ...\n",
      "\u001b[93m\u001b[1m[2025-04-05 11:58:23.395] | Warning | \u001b[0m98636 entry is not shared among all sequences, removing it ...\n",
      "\u001b[93m\u001b[1m[2025-04-05 11:58:24.309] | Warning | \u001b[0m137455 entry is not shared among all sequences, removing it ...\n",
      "\u001b[93m\u001b[1m[2025-04-05 11:58:25.186] | Warning | \u001b[0m111734 entry is not shared among all sequences, removing it ...\n",
      "\u001b[93m\u001b[1m[2025-04-05 11:58:26.125] | Warning | \u001b[0m19850 entry is not shared among all sequences, removing it ...\n",
      "\u001b[93m\u001b[1m[2025-04-05 11:58:27.005] | Warning | \u001b[0m218912 entry is not shared among all sequences, removing it ...\n",
      "\u001b[93m\u001b[1m[2025-04-05 11:58:27.956] | Warning | \u001b[0m233431 entry is not shared among all sequences, removing it ...\n",
      "\u001b[93m\u001b[1m[2025-04-05 11:58:28.835] | Warning | \u001b[0m342197 entry is not shared among all sequences, removing it ...\n",
      "\u001b[93m\u001b[1m[2025-04-05 11:58:29.819] | Warning | \u001b[0m27888 entry is not shared among all sequences, removing it ...\n",
      "\u001b[93m\u001b[1m[2025-04-05 11:58:30.665] | Warning | \u001b[0m79925 entry is not shared among all sequences, removing it ...\n",
      "\u001b[93m\u001b[1m[2025-04-05 11:58:31.463] | Warning | \u001b[0m22901 entry is not shared among all sequences, removing it ...\n",
      "\u001b[93m\u001b[1m[2025-04-05 11:58:32.313] | Warning | \u001b[0m125726 entry is not shared among all sequences, removing it ...\n",
      "\u001b[93m\u001b[1m[2025-04-05 11:58:33.253] | Warning | \u001b[0m136416 entry is not shared among all sequences, removing it ...\n",
      "\u001b[93m\u001b[1m[2025-04-05 11:58:34.212] | Warning | \u001b[0m179797 entry is not shared among all sequences, removing it ...\n",
      "\u001b[93m\u001b[1m[2025-04-05 11:58:35.130] | Warning | \u001b[0m178163 entry is not shared among all sequences, removing it ...\n",
      "\u001b[93m\u001b[1m[2025-04-05 11:58:36.045] | Warning | \u001b[0m210240 entry is not shared among all sequences, removing it ...\n",
      "\u001b[93m\u001b[1m[2025-04-05 11:58:36.963] | Warning | \u001b[0m223883 entry is not shared among all sequences, removing it ...\n",
      "\u001b[93m\u001b[1m[2025-04-05 11:58:37.821] | Warning | \u001b[0m251251 entry is not shared among all sequences, removing it ...\n",
      "\u001b[93m\u001b[1m[2025-04-05 11:58:38.696] | Warning | \u001b[0m110690 entry is not shared among all sequences, removing it ...\n",
      "\u001b[93m\u001b[1m[2025-04-05 11:58:39.496] | Warning | \u001b[0m91292 entry is not shared among all sequences, removing it ...\n",
      "\u001b[93m\u001b[1m[2025-04-05 11:58:40.395] | Warning | \u001b[0m91574 entry is not shared among all sequences, removing it ...\n",
      "\u001b[93m\u001b[1m[2025-04-05 11:58:41.241] | Warning | \u001b[0m100446 entry is not shared among all sequences, removing it ...\n",
      "\u001b[93m\u001b[1m[2025-04-05 11:58:42.003] | Warning | \u001b[0m63841 entry is not shared among all sequences, removing it ...\n",
      "\u001b[93m\u001b[1m[2025-04-05 11:58:42.797] | Warning | \u001b[0m120342 entry is not shared among all sequences, removing it ...\n",
      "\u001b[93m\u001b[1m[2025-04-05 11:58:43.574] | Warning | \u001b[0m204378 entry is not shared among all sequences, removing it ...\n",
      "\u001b[93m\u001b[1m[2025-04-05 11:58:44.417] | Warning | \u001b[0m110209 entry is not shared among all sequences, removing it ...\n",
      "\u001b[93m\u001b[1m[2025-04-05 11:58:45.202] | Warning | \u001b[0m24602 entry is not shared among all sequences, removing it ...\n",
      "\u001b[93m\u001b[1m[2025-04-05 11:58:46.025] | Warning | \u001b[0m89266 entry is not shared among all sequences, removing it ...\n",
      "\u001b[93m\u001b[1m[2025-04-05 11:58:46.658] | Warning | \u001b[0m236108 entry is not shared among all sequences, removing it ...\n",
      "\u001b[93m\u001b[1m[2025-04-05 11:58:47.282] | Warning | \u001b[0m91996 entry is not shared among all sequences, removing it ...\n",
      "\u001b[93m\u001b[1m[2025-04-05 11:58:48.129] | Warning | \u001b[0m24508 entry is not shared among all sequences, removing it ...\n",
      "\u001b[93m\u001b[1m[2025-04-05 11:58:48.757] | Warning | \u001b[0m28191 entry is not shared among all sequences, removing it ...\n",
      "\u001b[93m\u001b[1m[2025-04-05 11:58:49.311] | Warning | \u001b[0m193921 entry is not shared among all sequences, removing it ...\n",
      "\u001b[93m\u001b[1m[2025-04-05 11:58:49.869] | Warning | \u001b[0m118573 entry is not shared among all sequences, removing it ...\n",
      "\u001b[93m\u001b[1m[2025-04-05 11:58:50.466] | Warning | \u001b[0m189856 entry is not shared among all sequences, removing it ...\n",
      "\u001b[93m\u001b[1m[2025-04-05 11:58:51.033] | Warning | \u001b[0m49073 entry is not shared among all sequences, removing it ...\n",
      "\u001b[93m\u001b[1m[2025-04-05 11:58:51.596] | Warning | \u001b[0m34989 entry is not shared among all sequences, removing it ...\n",
      "\u001b[93m\u001b[1m[2025-04-05 11:58:52.182] | Warning | \u001b[0m172044 entry is not shared among all sequences, removing it ...\n",
      "\u001b[93m\u001b[1m[2025-04-05 11:58:52.749] | Warning | \u001b[0m258802 entry is not shared among all sequences, removing it ...\n",
      "\u001b[93m\u001b[1m[2025-04-05 11:58:53.345] | Warning | \u001b[0m237385 entry is not shared among all sequences, removing it ...\n",
      "\u001b[93m\u001b[1m[2025-04-05 11:58:54.015] | Warning | \u001b[0m98649 entry is not shared among all sequences, removing it ...\n",
      "\u001b[93m\u001b[1m[2025-04-05 11:58:54.569] | Warning | \u001b[0m81563 entry is not shared among all sequences, removing it ...\n",
      "\u001b[93m\u001b[1m[2025-04-05 11:58:55.225] | Warning | \u001b[0m105507 entry is not shared among all sequences, removing it ...\n",
      "\u001b[93m\u001b[1m[2025-04-05 11:58:55.763] | Warning | \u001b[0m121117 entry is not shared among all sequences, removing it ...\n",
      "\u001b[93m\u001b[1m[2025-04-05 11:58:56.329] | Warning | \u001b[0m127908 entry is not shared among all sequences, removing it ...\n",
      "\u001b[93m\u001b[1m[2025-04-05 11:58:56.896] | Warning | \u001b[0m187566 entry is not shared among all sequences, removing it ...\n",
      "\u001b[93m\u001b[1m[2025-04-05 11:58:57.467] | Warning | \u001b[0m183364 entry is not shared among all sequences, removing it ...\n",
      "\u001b[93m\u001b[1m[2025-04-05 11:58:58.015] | Warning | \u001b[0m137920 entry is not shared among all sequences, removing it ...\n",
      "\u001b[93m\u001b[1m[2025-04-05 11:58:58.567] | Warning | \u001b[0m60983 entry is not shared among all sequences, removing it ...\n",
      "\u001b[93m\u001b[1m[2025-04-05 11:58:59.106] | Warning | \u001b[0m61277 entry is not shared among all sequences, removing it ...\n",
      "\u001b[93m\u001b[1m[2025-04-05 11:58:59.656] | Warning | \u001b[0m19915 entry is not shared among all sequences, removing it ...\n",
      "\u001b[93m\u001b[1m[2025-04-05 11:59:00.230] | Warning | \u001b[0m207977 entry is not shared among all sequences, removing it ...\n",
      "\u001b[93m\u001b[1m[2025-04-05 11:59:00.784] | Warning | \u001b[0m224271 entry is not shared among all sequences, removing it ...\n",
      "\u001b[93m\u001b[1m[2025-04-05 11:59:01.359] | Warning | \u001b[0m48724 entry is not shared among all sequences, removing it ...\n",
      "\u001b[93m\u001b[1m[2025-04-05 11:59:02.016] | Warning | \u001b[0m111104 entry is not shared among all sequences, removing it ...\n",
      "\u001b[93m\u001b[1m[2025-04-05 11:59:02.682] | Warning | \u001b[0mPEBwwe0PLZ8 entry is not shared among all sequences, removing it ...\n",
      "\u001b[93m\u001b[1m[2025-04-05 11:59:03.205] | Warning | \u001b[0m10124 entry is not shared among all sequences, removing it ...\n",
      "\u001b[93m\u001b[1m[2025-04-05 11:59:03.728] | Warning | \u001b[0m327282 entry is not shared among all sequences, removing it ...\n",
      "\u001b[93m\u001b[1m[2025-04-05 11:59:04.567] | Warning | \u001b[0m74268 entry is not shared among all sequences, removing it ...\n",
      "\u001b[93m\u001b[1m[2025-04-05 11:59:05.169] | Warning | \u001b[0m53233 entry is not shared among all sequences, removing it ...\n",
      "\u001b[93m\u001b[1m[2025-04-05 11:59:05.787] | Warning | \u001b[0m210098 entry is not shared among all sequences, removing it ...\n",
      "\u001b[93m\u001b[1m[2025-04-05 11:59:06.442] | Warning | \u001b[0m96377 entry is not shared among all sequences, removing it ...\n",
      "\u001b[93m\u001b[1m[2025-04-05 11:59:07.079] | Warning | \u001b[0m306700 entry is not shared among all sequences, removing it ...\n",
      "\u001b[93m\u001b[1m[2025-04-05 11:59:07.905] | Warning | \u001b[0m228561 entry is not shared among all sequences, removing it ...\n",
      "\u001b[93m\u001b[1m[2025-04-05 11:59:08.495] | Warning | \u001b[0m82666 entry is not shared among all sequences, removing it ...\n",
      "\u001b[93m\u001b[1m[2025-04-05 11:59:09.059] | Warning | \u001b[0m101747 entry is not shared among all sequences, removing it ...\n",
      "\u001b[93m\u001b[1m[2025-04-05 11:59:09.703] | Warning | \u001b[0m37462 entry is not shared among all sequences, removing it ...\n",
      "\u001b[93m\u001b[1m[2025-04-05 11:59:10.528] | Warning | \u001b[0m49264 entry is not shared among all sequences, removing it ...\n",
      "\u001b[93m\u001b[1m[2025-04-05 11:59:11.079] | Warning | \u001b[0m275603 entry is not shared among all sequences, removing it ...\n",
      "\u001b[93m\u001b[1m[2025-04-05 11:59:11.661] | Warning | \u001b[0m49903 entry is not shared among all sequences, removing it ...\n",
      "\u001b[93m\u001b[1m[2025-04-05 11:59:12.226] | Warning | \u001b[0m222510 entry is not shared among all sequences, removing it ...\n",
      "\u001b[93m\u001b[1m[2025-04-05 11:59:12.773] | Warning | \u001b[0mHK0U0bIN-cw entry is not shared among all sequences, removing it ...\n",
      "\u001b[93m\u001b[1m[2025-04-05 11:59:13.339] | Warning | \u001b[0m79203 entry is not shared among all sequences, removing it ...\n",
      "\u001b[93m\u001b[1m[2025-04-05 11:59:13.905] | Warning | \u001b[0m215343 entry is not shared among all sequences, removing it ...\n",
      "\u001b[93m\u001b[1m[2025-04-05 11:59:14.461] | Warning | \u001b[0m253709 entry is not shared among all sequences, removing it ...\n",
      "\u001b[93m\u001b[1m[2025-04-05 11:59:15.016] | Warning | \u001b[0m84924 entry is not shared among all sequences, removing it ...\n",
      "\u001b[93m\u001b[1m[2025-04-05 11:59:15.808] | Warning | \u001b[0m94532 entry is not shared among all sequences, removing it ...\n",
      "\u001b[93m\u001b[1m[2025-04-05 11:59:16.450] | Warning | \u001b[0m129728 entry is not shared among all sequences, removing it ...\n",
      "\u001b[93m\u001b[1m[2025-04-05 11:59:17.253] | Warning | \u001b[0m260199 entry is not shared among all sequences, removing it ...\n",
      "\u001b[93m\u001b[1m[2025-04-05 11:59:18.136] | Warning | \u001b[0m69268 entry is not shared among all sequences, removing it ...\n",
      "\u001b[93m\u001b[1m[2025-04-05 11:59:18.994] | Warning | \u001b[0m74204 entry is not shared among all sequences, removing it ...\n",
      "\u001b[93m\u001b[1m[2025-04-05 11:59:19.884] | Warning | \u001b[0m52067 entry is not shared among all sequences, removing it ...\n",
      "\u001b[93m\u001b[1m[2025-04-05 11:59:20.792] | Warning | \u001b[0m91002 entry is not shared among all sequences, removing it ...\n",
      "\u001b[93m\u001b[1m[2025-04-05 11:59:21.704] | Warning | \u001b[0m29758 entry is not shared among all sequences, removing it ...\n",
      "\u001b[93m\u001b[1m[2025-04-05 11:59:22.532] | Warning | \u001b[0m217395 entry is not shared among all sequences, removing it ...\n",
      "\u001b[93m\u001b[1m[2025-04-05 11:59:23.398] | Warning | \u001b[0m52160 entry is not shared among all sequences, removing it ...\n",
      "\u001b[93m\u001b[1m[2025-04-05 11:59:24.206] | Warning | \u001b[0m81371 entry is not shared among all sequences, removing it ...\n",
      "\u001b[93m\u001b[1m[2025-04-05 11:59:24.928] | Warning | \u001b[0m40247 entry is not shared among all sequences, removing it ...\n",
      "\u001b[93m\u001b[1m[2025-04-05 11:59:25.778] | Warning | \u001b[0m35684 entry is not shared among all sequences, removing it ...\n",
      "\u001b[93m\u001b[1m[2025-04-05 11:59:26.548] | Warning | \u001b[0m60405 entry is not shared among all sequences, removing it ...\n",
      "\u001b[93m\u001b[1m[2025-04-05 11:59:27.341] | Warning | \u001b[0m26808 entry is not shared among all sequences, removing it ...\n",
      "\u001b[93m\u001b[1m[2025-04-05 11:59:28.181] | Warning | \u001b[0m110983 entry is not shared among all sequences, removing it ...\n",
      "\u001b[93m\u001b[1m[2025-04-05 11:59:29.040] | Warning | \u001b[0m49417 entry is not shared among all sequences, removing it ...\n",
      "\u001b[93m\u001b[1m[2025-04-05 11:59:29.840] | Warning | \u001b[0m23289 entry is not shared among all sequences, removing it ...\n",
      "\u001b[93m\u001b[1m[2025-04-05 11:59:30.697] | Warning | \u001b[0m204519 entry is not shared among all sequences, removing it ...\n",
      "\u001b[93m\u001b[1m[2025-04-05 11:59:31.392] | Warning | \u001b[0m22798 entry is not shared among all sequences, removing it ...\n",
      "\u001b[93m\u001b[1m[2025-04-05 11:59:31.934] | Warning | \u001b[0m282985 entry is not shared among all sequences, removing it ...\n",
      "\u001b[93m\u001b[1m[2025-04-05 11:59:32.495] | Warning | \u001b[0m193924 entry is not shared among all sequences, removing it ...\n",
      "\u001b[93m\u001b[1m[2025-04-05 11:59:33.212] | Warning | \u001b[0m219460 entry is not shared among all sequences, removing it ...\n",
      "\u001b[93m\u001b[1m[2025-04-05 11:59:33.799] | Warning | \u001b[0m158855 entry is not shared among all sequences, removing it ...\n",
      "\u001b[93m\u001b[1m[2025-04-05 11:59:34.389] | Warning | \u001b[0m119397 entry is not shared among all sequences, removing it ...\n",
      "\u001b[93m\u001b[1m[2025-04-05 11:59:34.960] | Warning | \u001b[0m58795 entry is not shared among all sequences, removing it ...\n",
      "\u001b[93m\u001b[1m[2025-04-05 11:59:35.643] | Warning | \u001b[0m224292 entry is not shared among all sequences, removing it ...\n",
      "\u001b[93m\u001b[1m[2025-04-05 11:59:36.157] | Warning | \u001b[0m238567 entry is not shared among all sequences, removing it ...\n",
      "\u001b[93m\u001b[1m[2025-04-05 11:59:36.665] | Warning | \u001b[0m29920 entry is not shared among all sequences, removing it ...\n",
      "\u001b[93m\u001b[1m[2025-04-05 11:59:37.184] | Warning | \u001b[0m222605 entry is not shared among all sequences, removing it ...\n",
      "\u001b[93m\u001b[1m[2025-04-05 11:59:37.750] | Warning | \u001b[0m245926 entry is not shared among all sequences, removing it ...\n",
      "\u001b[93m\u001b[1m[2025-04-05 11:59:38.281] | Warning | \u001b[0m192827 entry is not shared among all sequences, removing it ...\n",
      "\u001b[93m\u001b[1m[2025-04-05 11:59:38.867] | Warning | \u001b[0m224622 entry is not shared among all sequences, removing it ...\n",
      "\u001b[93m\u001b[1m[2025-04-05 11:59:39.451] | Warning | \u001b[0m74532 entry is not shared among all sequences, removing it ...\n",
      "\u001b[93m\u001b[1m[2025-04-05 11:59:40.113] | Warning | \u001b[0m238624 entry is not shared among all sequences, removing it ...\n",
      "\u001b[93m\u001b[1m[2025-04-05 11:59:40.778] | Warning | \u001b[0m290062 entry is not shared among all sequences, removing it ...\n",
      "\u001b[93m\u001b[1m[2025-04-05 11:59:41.518] | Warning | \u001b[0m46592 entry is not shared among all sequences, removing it ...\n",
      "\u001b[93m\u001b[1m[2025-04-05 11:59:42.109] | Warning | \u001b[0m121584 entry is not shared among all sequences, removing it ...\n",
      "\u001b[93m\u001b[1m[2025-04-05 11:59:42.667] | Warning | \u001b[0m38387 entry is not shared among all sequences, removing it ...\n",
      "\u001b[93m\u001b[1m[2025-04-05 11:59:43.240] | Warning | \u001b[0m118639 entry is not shared among all sequences, removing it ...\n",
      "\u001b[93m\u001b[1m[2025-04-05 11:59:43.824] | Warning | \u001b[0mdZFV0lyedX4 entry is not shared among all sequences, removing it ...\n",
      "\u001b[93m\u001b[1m[2025-04-05 11:59:44.648] | Warning | \u001b[0m31392 entry is not shared among all sequences, removing it ...\n",
      "\u001b[93m\u001b[1m[2025-04-05 11:59:45.424] | Warning | \u001b[0mOPuu8EknNqk entry is not shared among all sequences, removing it ...\n",
      "\u001b[93m\u001b[1m[2025-04-05 11:59:46.007] | Warning | \u001b[0m98155 entry is not shared among all sequences, removing it ...\n",
      "\u001b[93m\u001b[1m[2025-04-05 11:59:46.618] | Warning | \u001b[0m206179 entry is not shared among all sequences, removing it ...\n",
      "\u001b[93m\u001b[1m[2025-04-05 11:59:47.171] | Warning | \u001b[0m46503 entry is not shared among all sequences, removing it ...\n",
      "\u001b[93m\u001b[1m[2025-04-05 11:59:47.917] | Warning | \u001b[0m58097 entry is not shared among all sequences, removing it ...\n",
      "\u001b[93m\u001b[1m[2025-04-05 11:59:48.434] | Warning | \u001b[0m97289 entry is not shared among all sequences, removing it ...\n",
      "\u001b[93m\u001b[1m[2025-04-05 11:59:49.039] | Warning | \u001b[0m274917 entry is not shared among all sequences, removing it ...\n",
      "\u001b[93m\u001b[1m[2025-04-05 11:59:49.640] | Warning | \u001b[0m280794 entry is not shared among all sequences, removing it ...\n",
      "\u001b[93m\u001b[1m[2025-04-05 11:59:50.191] | Warning | \u001b[0m71736 entry is not shared among all sequences, removing it ...\n",
      "\u001b[93m\u001b[1m[2025-04-05 11:59:50.792] | Warning | \u001b[0m71987 entry is not shared among all sequences, removing it ...\n",
      "\u001b[93m\u001b[1m[2025-04-05 11:59:51.364] | Warning | \u001b[0m106973 entry is not shared among all sequences, removing it ...\n",
      "\u001b[93m\u001b[1m[2025-04-05 11:59:51.964] | Warning | \u001b[0m188004 entry is not shared among all sequences, removing it ...\n",
      "\u001b[93m\u001b[1m[2025-04-05 11:59:52.456] | Warning | \u001b[0m69234 entry is not shared among all sequences, removing it ...\n",
      "\u001b[93m\u001b[1m[2025-04-05 11:59:52.994] | Warning | \u001b[0m90667 entry is not shared among all sequences, removing it ...\n",
      "\u001b[93m\u001b[1m[2025-04-05 11:59:53.547] | Warning | \u001b[0m29771 entry is not shared among all sequences, removing it ...\n",
      "\u001b[93m\u001b[1m[2025-04-05 11:59:54.135] | Warning | \u001b[0m133201 entry is not shared among all sequences, removing it ...\n",
      "\u001b[93m\u001b[1m[2025-04-05 11:59:54.647] | Warning | \u001b[0m107182 entry is not shared among all sequences, removing it ...\n",
      "\u001b[93m\u001b[1m[2025-04-05 11:59:55.154] | Warning | \u001b[0m207867 entry is not shared among all sequences, removing it ...\n",
      "\u001b[93m\u001b[1m[2025-04-05 11:59:55.635] | Warning | \u001b[0m50444 entry is not shared among all sequences, removing it ...\n",
      "\u001b[93m\u001b[1m[2025-04-05 11:59:56.138] | Warning | \u001b[0m5jGUBcStsZs entry is not shared among all sequences, removing it ...\n",
      "\u001b[93m\u001b[1m[2025-04-05 11:59:56.624] | Warning | \u001b[0m176266 entry is not shared among all sequences, removing it ...\n",
      "\u001b[93m\u001b[1m[2025-04-05 11:59:57.095] | Warning | \u001b[0m272817 entry is not shared among all sequences, removing it ...\n",
      "\u001b[93m\u001b[1m[2025-04-05 11:59:57.596] | Warning | \u001b[0m123986 entry is not shared among all sequences, removing it ...\n",
      "\u001b[93m\u001b[1m[2025-04-05 11:59:58.118] | Warning | \u001b[0m61035 entry is not shared among all sequences, removing it ...\n",
      "\u001b[93m\u001b[1m[2025-04-05 11:59:58.642] | Warning | \u001b[0m258672 entry is not shared among all sequences, removing it ...\n",
      "\u001b[93m\u001b[1m[2025-04-05 11:59:59.213] | Warning | \u001b[0m59712 entry is not shared among all sequences, removing it ...\n",
      "\u001b[93m\u001b[1m[2025-04-05 11:59:59.758] | Warning | \u001b[0m299754 entry is not shared among all sequences, removing it ...\n",
      "\u001b[93m\u001b[1m[2025-04-05 12:00:00.337] | Warning | \u001b[0m40129 entry is not shared among all sequences, removing it ...\n",
      "\u001b[93m\u001b[1m[2025-04-05 12:00:00.864] | Warning | \u001b[0m188815 entry is not shared among all sequences, removing it ...\n",
      "\u001b[93m\u001b[1m[2025-04-05 12:00:01.428] | Warning | \u001b[0m105963 entry is not shared among all sequences, removing it ...\n",
      "\u001b[93m\u001b[1m[2025-04-05 12:00:01.963] | Warning | \u001b[0m121427 entry is not shared among all sequences, removing it ...\n",
      "\u001b[93m\u001b[1m[2025-04-05 12:00:02.476] | Warning | \u001b[0m228925 entry is not shared among all sequences, removing it ...\n",
      "\u001b[93m\u001b[1m[2025-04-05 12:00:02.942] | Warning | \u001b[0m229637 entry is not shared among all sequences, removing it ...\n",
      "\u001b[93m\u001b[1m[2025-04-05 12:00:03.491] | Warning | \u001b[0m265302 entry is not shared among all sequences, removing it ...\n",
      "\u001b[93m\u001b[1m[2025-04-05 12:00:04.005] | Warning | \u001b[0m201980 entry is not shared among all sequences, removing it ...\n",
      "\u001b[93m\u001b[1m[2025-04-05 12:00:04.524] | Warning | \u001b[0m17622 entry is not shared among all sequences, removing it ...\n",
      "\u001b[93m\u001b[1m[2025-04-05 12:00:05.002] | Warning | \u001b[0m40367 entry is not shared among all sequences, removing it ...\n",
      "\u001b[93m\u001b[1m[2025-04-05 12:00:05.534] | Warning | \u001b[0m10397 entry is not shared among all sequences, removing it ...\n",
      "\u001b[93m\u001b[1m[2025-04-05 12:00:06.047] | Warning | \u001b[0m301320 entry is not shared among all sequences, removing it ...\n",
      "\u001b[93m\u001b[1m[2025-04-05 12:00:06.570] | Warning | \u001b[0m110824 entry is not shared among all sequences, removing it ...\n",
      "\u001b[93m\u001b[1m[2025-04-05 12:00:07.042] | Warning | \u001b[0m7l3BNtSE0xc entry is not shared among all sequences, removing it ...\n",
      "\u001b[93m\u001b[1m[2025-04-05 12:00:07.585] | Warning | \u001b[0m243797 entry is not shared among all sequences, removing it ...\n",
      "\u001b[93m\u001b[1m[2025-04-05 12:00:08.125] | Warning | \u001b[0m113369 entry is not shared among all sequences, removing it ...\n",
      "\u001b[93m\u001b[1m[2025-04-05 12:00:08.656] | Warning | \u001b[0m118354 entry is not shared among all sequences, removing it ...\n",
      "\u001b[93m\u001b[1m[2025-04-05 12:00:09.212] | Warning | \u001b[0m93807 entry is not shared among all sequences, removing it ...\n",
      "\u001b[93m\u001b[1m[2025-04-05 12:00:09.992] | Warning | \u001b[0m238545 entry is not shared among all sequences, removing it ...\n",
      "\u001b[93m\u001b[1m[2025-04-05 12:00:10.646] | Warning | \u001b[0m113491 entry is not shared among all sequences, removing it ...\n",
      "\u001b[93m\u001b[1m[2025-04-05 12:00:11.133] | Warning | \u001b[0m190726 entry is not shared among all sequences, removing it ...\n",
      "\u001b[93m\u001b[1m[2025-04-05 12:00:11.645] | Warning | \u001b[0m195575 entry is not shared among all sequences, removing it ...\n",
      "\u001b[93m\u001b[1m[2025-04-05 12:00:12.161] | Warning | \u001b[0m63956 entry is not shared among all sequences, removing it ...\n",
      "\u001b[93m\u001b[1m[2025-04-05 12:00:12.796] | Warning | \u001b[0m181978 entry is not shared among all sequences, removing it ...\n",
      "\u001b[93m\u001b[1m[2025-04-05 12:00:13.388] | Warning | \u001b[0m38154 entry is not shared among all sequences, removing it ...\n",
      "\u001b[93m\u001b[1m[2025-04-05 12:00:13.931] | Warning | \u001b[0m132570 entry is not shared among all sequences, removing it ...\n",
      "\u001b[93m\u001b[1m[2025-04-05 12:00:14.458] | Warning | \u001b[0m223338 entry is not shared among all sequences, removing it ...\n",
      "\u001b[93m\u001b[1m[2025-04-05 12:00:14.949] | Warning | \u001b[0m238042 entry is not shared among all sequences, removing it ...\n",
      "\u001b[93m\u001b[1m[2025-04-05 12:00:15.450] | Warning | \u001b[0m116202 entry is not shared among all sequences, removing it ...\n",
      "\u001b[93m\u001b[1m[2025-04-05 12:00:15.931] | Warning | \u001b[0m199215 entry is not shared among all sequences, removing it ...\n",
      "\u001b[93m\u001b[1m[2025-04-05 12:00:16.388] | Warning | \u001b[0m28142 entry is not shared among all sequences, removing it ...\n",
      "\u001b[93m\u001b[1m[2025-04-05 12:00:16.878] | Warning | \u001b[0m226602 entry is not shared among all sequences, removing it ...\n",
      "\u001b[93m\u001b[1m[2025-04-05 12:00:17.363] | Warning | \u001b[0m98505 entry is not shared among all sequences, removing it ...\n",
      "\u001b[93m\u001b[1m[2025-04-05 12:00:17.857] | Warning | \u001b[0m103114 entry is not shared among all sequences, removing it ...\n",
      "\u001b[93m\u001b[1m[2025-04-05 12:00:18.463] | Warning | \u001b[0m66623 entry is not shared among all sequences, removing it ...\n",
      "\u001b[93m\u001b[1m[2025-04-05 12:00:18.935] | Warning | \u001b[0m370050 entry is not shared among all sequences, removing it ...\n",
      "\u001b[93m\u001b[1m[2025-04-05 12:00:19.411] | Warning | \u001b[0m91252 entry is not shared among all sequences, removing it ...\n",
      "\u001b[93m\u001b[1m[2025-04-05 12:00:19.920] | Warning | \u001b[0m36116 entry is not shared among all sequences, removing it ...\n",
      "\u001b[93m\u001b[1m[2025-04-05 12:00:20.478] | Warning | \u001b[0m176541 entry is not shared among all sequences, removing it ...\n",
      "\u001b[93m\u001b[1m[2025-04-05 12:00:20.982] | Warning | \u001b[0m220809 entry is not shared among all sequences, removing it ...\n",
      "\u001b[93m\u001b[1m[2025-04-05 12:00:21.492] | Warning | \u001b[0m220832 entry is not shared among all sequences, removing it ...\n",
      "\u001b[93m\u001b[1m[2025-04-05 12:00:22.030] | Warning | \u001b[0m44457 entry is not shared among all sequences, removing it ...\n",
      "\u001b[93m\u001b[1m[2025-04-05 12:00:22.656] | Warning | \u001b[0m160225 entry is not shared among all sequences, removing it ...\n",
      "\u001b[93m\u001b[1m[2025-04-05 12:00:23.174] | Warning | \u001b[0m301321 entry is not shared among all sequences, removing it ...\n",
      "\u001b[93m\u001b[1m[2025-04-05 12:00:23.711] | Warning | \u001b[0m179875 entry is not shared among all sequences, removing it ...\n",
      "\u001b[93m\u001b[1m[2025-04-05 12:00:24.249] | Warning | \u001b[0m211611 entry is not shared among all sequences, removing it ...\n",
      "\u001b[93m\u001b[1m[2025-04-05 12:00:24.743] | Warning | \u001b[0m223885 entry is not shared among all sequences, removing it ...\n",
      "\u001b[93m\u001b[1m[2025-04-05 12:00:25.268] | Warning | \u001b[0m298459 entry is not shared among all sequences, removing it ...\n",
      "\u001b[93m\u001b[1m[2025-04-05 12:00:25.797] | Warning | \u001b[0m136234 entry is not shared among all sequences, removing it ...\n",
      "\u001b[93m\u001b[1m[2025-04-05 12:00:26.313] | Warning | \u001b[0m248400 entry is not shared among all sequences, removing it ...\n",
      "\u001b[93m\u001b[1m[2025-04-05 12:00:26.815] | Warning | \u001b[0m60328 entry is not shared among all sequences, removing it ...\n",
      "\u001b[93m\u001b[1m[2025-04-05 12:00:27.352] | Warning | \u001b[0m106037 entry is not shared among all sequences, removing it ...\n",
      "\u001b[93m\u001b[1m[2025-04-05 12:00:28.100] | Warning | \u001b[0m112029 entry is not shared among all sequences, removing it ...\n",
      "\u001b[93m\u001b[1m[2025-04-05 12:00:28.785] | Warning | \u001b[0m28182 entry is not shared among all sequences, removing it ...\n",
      "\u001b[93m\u001b[1m[2025-04-05 12:00:29.447] | Warning | \u001b[0m26113 entry is not shared among all sequences, removing it ...\n",
      "\u001b[93m\u001b[1m[2025-04-05 12:00:30.141] | Warning | \u001b[0m128600 entry is not shared among all sequences, removing it ...\n",
      "\u001b[93m\u001b[1m[2025-04-05 12:00:30.838] | Warning | \u001b[0m192978 entry is not shared among all sequences, removing it ...\n",
      "\u001b[93m\u001b[1m[2025-04-05 12:00:31.546] | Warning | \u001b[0m7156 entry is not shared among all sequences, removing it ...\n",
      "\u001b[93m\u001b[1m[2025-04-05 12:00:32.270] | Warning | \u001b[0m95388 entry is not shared among all sequences, removing it ...\n",
      "\u001b[93m\u001b[1m[2025-04-05 12:00:32.967] | Warning | \u001b[0m254488 entry is not shared among all sequences, removing it ...\n",
      "\u001b[93m\u001b[1m[2025-04-05 12:00:33.656] | Warning | \u001b[0m42946 entry is not shared among all sequences, removing it ...\n",
      "\u001b[93m\u001b[1m[2025-04-05 12:00:34.348] | Warning | \u001b[0m233940 entry is not shared among all sequences, removing it ...\n",
      "\u001b[93m\u001b[1m[2025-04-05 12:00:35.003] | Warning | \u001b[0m50302 entry is not shared among all sequences, removing it ...\n",
      "\u001b[93m\u001b[1m[2025-04-05 12:00:35.744] | Warning | \u001b[0m224325 entry is not shared among all sequences, removing it ...\n",
      "\u001b[93m\u001b[1m[2025-04-05 12:00:36.424] | Warning | \u001b[0m31544 entry is not shared among all sequences, removing it ...\n",
      "\u001b[93m\u001b[1m[2025-04-05 12:00:37.269] | Warning | \u001b[0m209869 entry is not shared among all sequences, removing it ...\n",
      "\u001b[93m\u001b[1m[2025-04-05 12:00:38.213] | Warning | \u001b[0m122581 entry is not shared among all sequences, removing it ...\n",
      "\u001b[93m\u001b[1m[2025-04-05 12:00:38.972] | Warning | \u001b[0m127622 entry is not shared among all sequences, removing it ...\n",
      "\u001b[93m\u001b[1m[2025-04-05 12:00:39.758] | Warning | \u001b[0m47797 entry is not shared among all sequences, removing it ...\n",
      "\u001b[93m\u001b[1m[2025-04-05 12:00:40.564] | Warning | \u001b[0m206621 entry is not shared among all sequences, removing it ...\n",
      "\u001b[93m\u001b[1m[2025-04-05 12:00:41.243] | Warning | \u001b[0m204792 entry is not shared among all sequences, removing it ...\n",
      "\u001b[93m\u001b[1m[2025-04-05 12:00:42.006] | Warning | \u001b[0m193514 entry is not shared among all sequences, removing it ...\n",
      "\u001b[93m\u001b[1m[2025-04-05 12:00:42.872] | Warning | \u001b[0m218757 entry is not shared among all sequences, removing it ...\n",
      "\u001b[93m\u001b[1m[2025-04-05 12:00:43.535] | Warning | \u001b[0m252919 entry is not shared among all sequences, removing it ...\n",
      "\u001b[93m\u001b[1m[2025-04-05 12:00:44.140] | Warning | \u001b[0m246789 entry is not shared among all sequences, removing it ...\n",
      "\u001b[93m\u001b[1m[2025-04-05 12:00:44.806] | Warning | \u001b[0m219620 entry is not shared among all sequences, removing it ...\n",
      "\u001b[93m\u001b[1m[2025-04-05 12:00:45.463] | Warning | \u001b[0m26110 entry is not shared among all sequences, removing it ...\n",
      "\u001b[93m\u001b[1m[2025-04-05 12:00:46.083] | Warning | \u001b[0m268127 entry is not shared among all sequences, removing it ...\n",
      "\u001b[93m\u001b[1m[2025-04-05 12:00:46.763] | Warning | \u001b[0m17874 entry is not shared among all sequences, removing it ...\n",
      "\u001b[93m\u001b[1m[2025-04-05 12:00:47.600] | Warning | \u001b[0m57598 entry is not shared among all sequences, removing it ...\n",
      "\u001b[93m\u001b[1m[2025-04-05 12:00:48.463] | Warning | \u001b[0m274073 entry is not shared among all sequences, removing it ...\n",
      "\u001b[93m\u001b[1m[2025-04-05 12:00:49.222] | Warning | \u001b[0m87434 entry is not shared among all sequences, removing it ...\n",
      "\u001b[93m\u001b[1m[2025-04-05 12:00:50.048] | Warning | \u001b[0m86494 entry is not shared among all sequences, removing it ...\n",
      "\u001b[93m\u001b[1m[2025-04-05 12:00:50.800] | Warning | \u001b[0m120363 entry is not shared among all sequences, removing it ...\n",
      "\u001b[93m\u001b[1m[2025-04-05 12:00:51.538] | Warning | \u001b[0m114016 entry is not shared among all sequences, removing it ...\n",
      "\u001b[93m\u001b[1m[2025-04-05 12:00:52.224] | Warning | \u001b[0m172048 entry is not shared among all sequences, removing it ...\n",
      "\u001b[93m\u001b[1m[2025-04-05 12:00:52.927] | Warning | \u001b[0m78752 entry is not shared among all sequences, removing it ...\n",
      "\u001b[93m\u001b[1m[2025-04-05 12:00:53.643] | Warning | \u001b[0m102424 entry is not shared among all sequences, removing it ...\n",
      "\u001b[93m\u001b[1m[2025-04-05 12:00:54.328] | Warning | \u001b[0m187775 entry is not shared among all sequences, removing it ...\n",
      "\u001b[93m\u001b[1m[2025-04-05 12:00:55.034] | Warning | \u001b[0m227556 entry is not shared among all sequences, removing it ...\n",
      "\u001b[93m\u001b[1m[2025-04-05 12:00:55.835] | Warning | \u001b[0m294226 entry is not shared among all sequences, removing it ...\n",
      "\u001b[93m\u001b[1m[2025-04-05 12:00:56.594] | Warning | \u001b[0m267354 entry is not shared among all sequences, removing it ...\n",
      "\u001b[93m\u001b[1m[2025-04-05 12:00:57.411] | Warning | \u001b[0m69307 entry is not shared among all sequences, removing it ...\n",
      "\u001b[93m\u001b[1m[2025-04-05 12:00:58.149] | Warning | \u001b[0m49962 entry is not shared among all sequences, removing it ...\n",
      "\u001b[93m\u001b[1m[2025-04-05 12:00:58.989] | Warning | \u001b[0m7155 entry is not shared among all sequences, removing it ...\n",
      "\u001b[92m\u001b[1m[2025-04-05 12:00:59.788] | Success | \u001b[0mUnify completed ...\n",
      "\u001b[94m\u001b[1m[2025-04-05 12:00:59.894] | Status  | \u001b[0mPre-alignment based on <CMU_MOSEI_Labels> computational sequence started ...\n",
      "\u001b[94m\u001b[1m[2025-04-05 12:01:10.216] | Status  | \u001b[0mPre-alignment done for <CMU_MOSEI_COVAREP> ...\n",
      "\u001b[94m\u001b[1m[2025-04-05 12:01:12.998] | Status  | \u001b[0mPre-alignment done for <CMU_MOSEI_TimestampedWords> ...\n",
      "\u001b[94m\u001b[1m[2025-04-05 12:01:17.072] | Status  | \u001b[0mPre-alignment done for <CMU_MOSEI_VisualFacet42> ...\n",
      "\u001b[94m\u001b[1m[2025-04-05 12:01:17.133] | Status  | \u001b[0mAlignment starting ...\n"
     ]
    },
    {
     "name": "stderr",
     "output_type": "stream",
     "text": [
      "                                                                                                   \r"
     ]
    },
    {
     "name": "stdout",
     "output_type": "stream",
     "text": [
      "\u001b[92m\u001b[1m[2025-04-05 12:01:47.769] | Success | \u001b[0mAlignment to <CMU_MOSEI_Labels> complete.\n",
      "\u001b[94m\u001b[1m[2025-04-05 12:01:47.769] | Status  | \u001b[0mReplacing dataset content with aligned computational sequences\n",
      "\u001b[92m\u001b[1m[2025-04-05 12:01:52.362] | Success | \u001b[0mInitialized empty <CMU_MOSEI_TimestampedWords> computational sequence.\n",
      "\u001b[94m\u001b[1m[2025-04-05 12:01:52.362] | Status  | \u001b[0mChecking the format of the data in <CMU_MOSEI_TimestampedWords> computational sequence ...\n"
     ]
    },
    {
     "name": "stderr",
     "output_type": "stream",
     "text": [
      "                                                                      \r"
     ]
    },
    {
     "name": "stdout",
     "output_type": "stream",
     "text": [
      "\u001b[92m\u001b[1m[2025-04-05 12:01:52.411] | Success | \u001b[0m<CMU_MOSEI_TimestampedWords> computational sequence data in correct format.\n",
      "\u001b[94m\u001b[1m[2025-04-05 12:01:52.411] | Status  | \u001b[0mChecking the format of the metadata in <CMU_MOSEI_TimestampedWords> computational sequence ...\n",
      "\u001b[93m\u001b[1m[2025-04-05 12:01:52.411] | Warning | \u001b[0m<CMU_MOSEI_TimestampedWords> computational sequence does not have all the required metadata ... continuing \n",
      "\u001b[92m\u001b[1m[2025-04-05 12:01:52.411] | Success | \u001b[0mInitialized empty <CMU_MOSEI_VisualFacet42> computational sequence.\n",
      "\u001b[94m\u001b[1m[2025-04-05 12:01:52.411] | Status  | \u001b[0mChecking the format of the data in <CMU_MOSEI_VisualFacet42> computational sequence ...\n"
     ]
    },
    {
     "name": "stderr",
     "output_type": "stream",
     "text": [
      "                                                                      \r"
     ]
    },
    {
     "name": "stdout",
     "output_type": "stream",
     "text": [
      "\u001b[92m\u001b[1m[2025-04-05 12:01:52.460] | Success | \u001b[0m<CMU_MOSEI_VisualFacet42> computational sequence data in correct format.\n",
      "\u001b[94m\u001b[1m[2025-04-05 12:01:52.461] | Status  | \u001b[0mChecking the format of the metadata in <CMU_MOSEI_VisualFacet42> computational sequence ...\n",
      "\u001b[93m\u001b[1m[2025-04-05 12:01:52.461] | Warning | \u001b[0m<CMU_MOSEI_VisualFacet42> computational sequence does not have all the required metadata ... continuing \n",
      "\u001b[92m\u001b[1m[2025-04-05 12:01:52.461] | Success | \u001b[0mInitialized empty <CMU_MOSEI_COVAREP> computational sequence.\n",
      "\u001b[94m\u001b[1m[2025-04-05 12:01:52.461] | Status  | \u001b[0mChecking the format of the data in <CMU_MOSEI_COVAREP> computational sequence ...\n"
     ]
    },
    {
     "name": "stderr",
     "output_type": "stream",
     "text": [
      "                                                                      \r"
     ]
    },
    {
     "name": "stdout",
     "output_type": "stream",
     "text": [
      "\u001b[92m\u001b[1m[2025-04-05 12:01:52.502] | Success | \u001b[0m<CMU_MOSEI_COVAREP> computational sequence data in correct format.\n",
      "\u001b[94m\u001b[1m[2025-04-05 12:01:52.502] | Status  | \u001b[0mChecking the format of the metadata in <CMU_MOSEI_COVAREP> computational sequence ...\n",
      "\u001b[93m\u001b[1m[2025-04-05 12:01:52.502] | Warning | \u001b[0m<CMU_MOSEI_COVAREP> computational sequence does not have all the required metadata ... continuing \n",
      "\u001b[92m\u001b[1m[2025-04-05 12:01:52.502] | Success | \u001b[0mInitialized empty <CMU_MOSEI_Labels> computational sequence.\n",
      "\u001b[94m\u001b[1m[2025-04-05 12:01:52.502] | Status  | \u001b[0mChecking the format of the data in <CMU_MOSEI_Labels> computational sequence ...\n"
     ]
    },
    {
     "name": "stderr",
     "output_type": "stream",
     "text": [
      "                                                                      "
     ]
    },
    {
     "name": "stdout",
     "output_type": "stream",
     "text": [
      "\u001b[92m\u001b[1m[2025-04-05 12:01:52.548] | Success | \u001b[0m<CMU_MOSEI_Labels> computational sequence data in correct format.\n",
      "\u001b[94m\u001b[1m[2025-04-05 12:01:52.548] | Status  | \u001b[0mChecking the format of the metadata in <CMU_MOSEI_Labels> computational sequence ...\n",
      "\u001b[93m\u001b[1m[2025-04-05 12:01:52.548] | Warning | \u001b[0m<CMU_MOSEI_Labels> computational sequence does not have all the required metadata ... continuing \n"
     ]
    },
    {
     "name": "stderr",
     "output_type": "stream",
     "text": [
      "\r"
     ]
    }
   ],
   "source": [
    "label_field = 'CMU_MOSEI_Labels'\n",
    "\n",
    "# we add and align to lables to obtain labeled segments\n",
    "# this time we don't apply collapse functions so that the temporal sequences are preserved\n",
    "label_recipe = {label_field: os.path.join(DATA_PATH, label_field + '.csd')}\n",
    "dataset.add_computational_sequences(label_recipe, destination=None)\n",
    "dataset.align(label_field)"
   ]
  },
  {
   "cell_type": "code",
   "execution_count": 13,
   "metadata": {},
   "outputs": [
    {
     "name": "stdout",
     "output_type": "stream",
     "text": [
      "-HwX2H8Z4hY[4]\n"
     ]
    }
   ],
   "source": [
    "# check out what the keys look like now\n",
    "print(list(dataset[text_field].keys())[55])"
   ]
  },
  {
   "cell_type": "markdown",
   "metadata": {},
   "source": [
    "## Splitting the dataset\n",
    "\n",
    "Now it comes to our final step: splitting the dataset into train/dev/test splits. This code block is a bit long in itself, so be patience and step through carefully with the explanatory comments.\n",
    "\n",
    "The SDK provides the splits in terms of video IDs (which video belong to which split), however, after alignment our dataset keys already changed from `video_id` to `video_id[segment_no]`. Hence, we need to extract the video ID when looping through the data to determine which split each data point belongs to.\n",
    "\n",
    "In the following data processing, I also include instance-wise Z-normalization (subtract by mean and divide by standard dev) and converted words to unique IDs.\n",
    "\n",
    "This example is based on PyTorch so I am using PyTorch related utils, but the same procedure should be easy to adapt to other frameworks."
   ]
  },
  {
   "cell_type": "code",
   "execution_count": 15,
   "metadata": {},
   "outputs": [],
   "source": [
    "DATASET = md.cmu_mosei"
   ]
  },
  {
   "cell_type": "code",
   "execution_count": 18,
   "metadata": {},
   "outputs": [
    {
     "name": "stdout",
     "output_type": "stream",
     "text": [
      "['7l3BNtSE0xc', 'dZFV0lyedX4', '286943', '126872', 'qgC8_emxSIU', 'kld9r0iFkWM', 'rC29Qub0U7A', '4YfyP0uIqw0', 'FMenDv3y8jc', '4wLP4elp1uM', 'KYQTwFVBzME', '27v7Blr0vjw', 'DnBHq5I52LM', 'HR18U0yAlTc', 'x266rUJQC_8', 'd1CDP6sMuLA', 'xSCvspXYU9k', '4EDblUpJieU', '4o4ilPK9rl8', '53609', 'SZ7HK5ns6mE', '243981', 'ySblgk7T7eQ', 'MYEyQUpMe3k', 'EujJ0SwiCRE', '3HyAaqre_Fk', 'iQDB_OkAQWs', 'gE7kUqMqQ9g', 'eFV7iFPYZB4', 'IRSxo_XXArg', '3hOlJf_JQDs', 'BRSyH6yfDLk', '1jogeKX0wGw', '3At-BKm9eYk', 'NVLPURuAVLU', 'pZye4zFzk3o', 'l1jW3OMXUzs', 'XKyumlBmix8', 'eKQKEi2-0Ws', 'WgI8IbJtXHw', 'tnWmVXZ87h0', 'YCEllKyaCrc', 'W1CWpktWtTs', '8wQhzezNcUY', '0bxhZ-LIfZY', 'lrjm6F3JJgg', 'Vdf1McvE9ao', 'eQc5uI7FKCU', '2QXHdu2zlQY', 'YCI-ZzclIPQ', '2Ky9DBSl49w', 'SKTyBOhDX6U', 'b86B3hP8ARM', '23656', 'kpS4BXif_Sw', 'dR68gbeOWOc', 'tC2KicUHB9Q', 'absh1hsZeF0', 'c5zxqITn3ZM', 'uogwnZGb-iE', '46495', 'Sq6DIhFxPqQ', 'PexNiFbPTYM', 'z441aDJvAcU', 'OORklkFql3k', 'WbtsuXkaGeg', 'grsV1YN1z5s', 'Gc_zIjqqUys', '424SXFTCFsA', 'P17tYiqMGRU', 'UweZVaFqruU', 'mzAu5gxjE-w', '8TDAP0KNIIw', 'u9ZV8jb_-U0', 'iPPp6MCythU', 'lwL4hjhkid4', '102389', 'frCWtiam4tE', 'pSxte-ms0t8', 'c9hE1ghElrM', 'WfNiQBXmPw8', '_q7DM8WkzAQ', '257534', 'fU5AYkq0m9k', 'q17gSr9kNww', 'AgH84SNRx5s', '206585', 'yzCHa2qchpg', 'GmpDbIstUdc', 'eREud0qYR3s', 'NoOt0oU843M', 'svsbGQn389o', 'ZsLrKF7_Oos', 'Kyz32PTyP4I', '7idU7rR77Ss', '8lfS97s2AKc', 'X2Hs89fZ2-c', '5vwXp27bCLw', 'tZDNinnrGf8', 'KB5hSnV1emg', 'TxRtSItpGMo', 'eJfT7-dDqzA', 'x2n19Cn96aw', 'XDVit9ASVUg', '6brtMLkjjYk', '-rxZxtG0xmY', 'JATMzuV6sUE', 'LueQT0vY1zI', '267466', 'm-7yRWZLwLY', 'OWWHjP3pX9o', 'QnYlpSeVOYo', 'V7OFSHYcQD0', 'GK-Pprzh0t0', 'yLo-Jl8nBXU', '200941', '61531', 'ezuWKsxPRSM', 'ehZrOdw6PhA', '-6rXp3zJ3kc', 'Z4iYSMMMycQ', 'MtIklGnIMGo', '116213', '3XShFTBsp_Q', 'YQZPnHZRp1w', 'fsd1qPLA3kY', '208322', 'uVM4JWjfGgQ', 'QWll4lS1qqI', 'Vlas-mPydcg', 'teQqaAmqqx0', 'AQ4Pktv4-Gc', 'yCpHmPSshKY', 'pDRdCSIyjkA', 'sIusv36VoBY', '8jY_RhOS89o', 'GKsjv42t284', 'HA2AiTz-qxc', 'GXIfrEUJ5d4', '0Fqav67TDEw', '10219', 'wHeZHLv9wGI', 'qDfSYz0PX9g', '180971', 'qBanrqkzobg', 'NgENhhXf0LE', 'SH0OYx3fR7s', 'lc5bSoGlQwY', 'XrNaL-MTjXg', '8i7u3fl-hP8', 'N-NnCI6U52c', 'r46amqjpWgg', 'QVyxySAaehE', 'JKueLneBoik', '110565', 'TqQgIxR7thU', '267694', 'ZKErPftd--w', 'GMa0cIAltnw', 'MSHBEntSDjU', 'AB1PbMaW03s', 'oBS-IW-BO00', '5fKPJPFqPho', '8NPaDkOiXw4', '104741', '2ItiGjefTRA', 'LFOwCSiGOvw', 'YLK58srjhNI', '233939', '5xa0Ac2krGs', 'CbRexsp1HKw', '112425', 'bCBMKwafZKY', '_0efYOjQYRc', 'O2ShYliS3CU', 'Oa2xVjzAMFc', 'bnzVR2ETQQ8', 'yBtMwyQFXwA', 'TtAyUQtmTLk', 'yXE_XZUb8qE', '3wHE78v9zr4', 'cml9rShionM', 'rePYTlT5_AY', '9TAGpMywQyE', 'ryE9VBiR3p8', '238063', 'NlrCjfHELLE', 'oGFDE-6nd7Q', 'bWmrrWQOVCM', '29751', '11UtTaDYgII', 'jZe-2w7pkd8', '275267', 'tymso_pAxhk', 'PcqKFt1p3UQ', 'sfaWfZ2-4c0', 'kLAXmTx2xOA', '3OYY5Tsz_2k', 'wk5lFk5kFjY', 'hE-sA5umuCk', '3IUVpwx23cY', '92291', '102213', '236442', 'nbru7qLot04', 'zhNksSReaQk', '8VhVf0TbjDA', '35694', '20LfN8ENbhM', '257277', 'VsXGwSZazwA', 'EyoMU2yoJPY', 'E1r0FrFyNTw', 'CO2YoTZbUr0', 'wC_1M7KIv9s', '24196', '194299', 'R9xTBw3MCWI', 'cY8DcaHXNNs', 'SwT0gh0V8fI', 'UiurP5k-f1A', 'N0d2JL7JC1s', '208592', 'GAVpYuhMZAw', 'pvIQWWiT4-0', 'namehdJxRIM', 'tNd3--lvSXE', 'NaWmaHwjElo', 'mfpR4CN9LZo', 'U6IqFbpM-VM', 'XLjpZUsFEXo', 'YUNxD04EvfE', 'hI7ObFqn9Bg', 'CO6n-skQJss', 'RsE2gYghZ2s', '2ze94yo2aPo', '254427', 'MHyW857u_X8', 'Xa086gxLJ3Y', 'Uu_XyXyKHAk', 'TsfyeZ8hgwE', 'vI5JH0daNsM', 'mmg_eTDHjkk', 'lD4xtQ6NpDY', 'XWIp0zH3qDM', '259470', '0eTibWQdO5M', 'fcxbB7ybUfs', '5pxFqJ5hKMU', '245582', 'WQFRctNL8AA', '2m58ShI1QSI', 'cn0WZ8-0Z1Y', '25640', 'huzEsVEJPaY', 'UTErYLpdAY0', 'F2hc2FLOdhI', 'vGxqVh_kJdo', 'F_YaG_pvZrA', 'UNLD7eYPzfQ', '0K7dCp80n9c', 'xBE9YWYGjtk', 'nTZSH0EwpnY', 'mZ_8em_-CGc', 'fdc7iyzKvFQ', '221137', 'QBc7X5jj8oA', 'pnpFPX34Agk', '63951', 'veA6ECsGFxI', 'XbkYA-iXUwA', '1LkYxsqRPZM', 'qAip3lZRj-g', 'gR3igiwaeyc', 'pIaEcqnzI-s', 'oHff2W51wZ8', 'XlTYSOaZ_vM', '3WZ6R9B0PcU', 'IOpWjKAHG8Q', '53766', '190743', '107585', 'SYQ_zv8dWng', 'hBzw4r0kfjA', '0uftSGdwo0Q', 'jj8aSNPHMw8', '86c2OkQ3_U8', 'rhQB8e999-Q', 'qyqVc352g3Q', '1zXAYdPdzy8', 'nZFPKP9kBkw', 'A1lFJXUpxZo', '-cEhr0cQcDM', 'Kn5eKHlPD0k', '255408', 'eD5cScqaf6c', 'FHDVQkU-nGI', '24351', 'NOGhjdK-rDI', 'fz-MzQcOBwQ', 'DjcZrtcBZi4', '1HS2HcN2LDo', '209758', '2o2ljA0QD7g', '211875', '5lrDS7LluCA', 'ybK5wRaaUyE', 'M6HKUzJNlsE', 'QIonRUsCqBs', 'k8yDywC4gt8', 'jPtaz1rN6lc', '69824', 'kI6jzM_aLGs', 'x8UZQkN52o4', 'ZKZ8UjaQQT4', 'obGF3RfWQKE', '221153', 'YgyeyooSz0g', 'faUvT7zfsyk', 'ddWHTdJz2O8', 'OKJPFisBoPY', 'HAnQVHOd3hg', 'EO_5o9Gup6g', 'F7zQPzwFToE', '273250', '1pl2FVdQWj0', '91844', 'bvycs3BXtx0', 'hbJfSyJKBEA', 'ZHUFlEgKk-w', 'OyK86reBnJE', 'xwvSYhQrHoA', 'H-74k5vclCU', 'Sb6ftNgzz9M', 'Hq3cHc6X8BM', 'jscKL5jS-SQ', '2vsgDSlJ9pU', 'DtbT85s3i94', 'LcfubBagG6Q', 'f-VdKweez2U', 'a8UMRrUjavI', 'MvEw24PU2Ac', 'MZUr1DfYNNw', 'UcV-bpksJi0', '2W-U94hXuK0', 'OctOcfI4KSs', 'NocexkPXja8', 'eUwbRLhV1vs', 'bdFCD-3BCRg', 'TXiOSZdaLJ8', 'XadAy93f1P8', '136196', 'gJjkCPO7iXg', '210433', 'oH9fMma8jiQ', 'd-Uw_uZyUys', 'oQizLbmte0c', 'X6N7UEFJLNY', '0PlQc98SccA', '3REPHw7oLWo', 'vB_kZocHtYo', '2BuFtglEcaY', 'HMRqR-P68Ws', 'V27mmEkN80g', 'Y2F51I-dzAg', 'dTcz1am1eUw', 'gL8h7lOPv1Q', 'WoL4fCxGd8Q', '135623', '41381', 'IHp8hd1jm6k', 'dHk--ExZbHs', 'o2XbNJDpOlc', 'V2X1NU5RkwY', '9orb0lQnVW4', 'fsBzpr4k3rY', '2fbBrB1nJEQ', 'um8WVjZMLUc', 'eE8Qr9fOvVA', 'fVCDn6SdtVM', '83400', 'an_GzG40hcE', 'xkEK17UUyi4', 'y3r2kk8zvl0', 'KanWhGY33Hk', '210259', 'DR65no1jCbg', 'lkIe41StoGI', 'RB3HA-ZMtFw', 'qEuJj4uW93E', 'ydzNAuqUAnc', 'GO0V4ZGSF28', '9PzZSheh10U', '6RFVsOWK1m4', '-s9qJ7ATP7w', 'ey1lr8wFFDc', 'oZxMx8e0x2U', 'UjqA6KVW2m8', 'OaWYjsS02fk', '79356', '34cU3HO_hEA', 'KZzFCrEyKF0', 'c5VEvmutmVg', 'O4UkHVJlIs8', '22373', 'v_8QeoNc4QY', 'BR2pkk3TK-0', 'EMS14J0odIE', '221274', '92496', 'DMtFQjrY7Hg', 'h1ZZHUU4j0k', 'gpn71-aKWwQ', 'tW5xAWDnbGU', '88791', 'vJDDEuE-FlY', 'kaudsLIvYC8', 'x0rLwBIocuI', 'wnL3ld9bM2o', '8wNr-NQImFg', '37NMbnd7r20', '56989', 'ctAZf4sMBUQ', '7npCA0zoQ8Q', 'u9I5WD3Nglk', 'IIPYcCii7Sg', 'JNhqI4JtPXA', 'Bpy61RdLAvo', 'C5-cY1nPQ20', 'ihPjsliqz5o', '4t5k_yILGJM', 'mgsvwAVQAQo', 'Ie6sDptjAsU', 'lkeVfgI0eEk', 'O-b3DQg0QmA', 'PzI6yY9Y2xQ', 'lYwgLa4R5XQ', 'NIpuKcoJhGM', 'LpTbjgELALo', '0YiAKqU36KE', 'ZznoGQVwTtw', 'QCR7uyowjhM', 'ossKC1VrusE', 'p4WmcxrXkc4', 'ZS1Nb0OWYNE', 'P0UHzR4CmYg', 'qTkazqluJ_I', '252097', '0JaYazphxfM', 'zvZd3V5D5Ik', '-RfYyzHpjk4', 'l0vCKpk6Aes', 'ktblaVOnFVE', 'KRje7su4I5U', 'FqEekswKPWE', '130366', 'HFPGeaEPy9o', '-HeZS2-Prhc', '93iGT5oueTA', 'L-7oRnbi9-w', 'pQpy7RSfWzM', 'YsMM_1R1vtw', 'SBFnCNzlynQ', '4dAYMzRyndc', 'CU6U-gS76K4', 'NiAjz4ciA60', '-9y-fZ3swSY', 'LD3HYOwk1Bc', 'QXXexH-ow_k', '-UUCSKoHeMA', 'RVC8l5hf2Eg', '89ZmOPOilu4', 'xobMRm5Vs44', 'xmLJHru6Z1M', 'zfZUOvZZTuk', 'LJGL2sGvSS0', 'Pbu6oAKFCvo', 'nFTo-Lz4Fr8', 'CwF97vXPYX4', 'WJM8u2I2rQ4', '8XZszYrUSCQ', 'fT6SrlsWV7M', 'fWAKek8jA5M', 'jXQmVFcOiUI', 'KrmVX-HANew', 'kXhJ3hHK9hQ', 'oPlnhc0DkcU', 'OFia3dWgaoI', 'VVtx4IDsHZA', 'VIVkYG31Oas', 'I9iV9q3ePhI', 'ZeH7gZw94k0', 'wznRBN1fWj4', '226601', 'TcTGCIh6e5s', '1S6ji_d4OLI', 'mRqqH_gx7Q0', 'Zb7bdrjWyEY', 'VDkBM0ZG4q8', 'BJS5KCSowgU', '3UOqbf_B_Yc', 'LyOq9mOEPuk', '-MeTTeMJBNc', 'QLI-OnegxFM', '3odZe3AGilc', 'VXy21GwGs8o', '7deoh0NoMs4', 'DzdPl68gV5o', 'VS7xSvno7NA', 'H_x5O9GdknI', '67uKYi7mslE', 'Kn99u05vlpA', 'gKojBrXHhUc', 'AHiA9hohKr8', 'kmgsC68hIL8', 'XVWiAArXYpE', 'X_TusmBIlC0', 'dlE05KC95uk', 'KXsjl0DKgL0', 'b92iw0OAnI4', 'j1m6ctAgjsM', '6EDoVEm16fU', 'jE3gYsxr_5s', '6EJHA6IDLNk', 'xXXcgb9eZ9Y', 'rcfnqiD0y8o', '224370', '237363', '7IxmlIwqigw', '6gtfeIqGasE', '9GzFQBljNIY', 'vGkIaClHKDg', 'iXiMifHNKPI', 'BTjV5dU_rfY', 'g6VJg6ycUk0', 'Y8dI1GTWCk4', 'y5Jpf48SUX8', 'iFxFTtCQ6zA', 'ZKKNd0zR8Io', 'U8VYG_g6yVE', 'GNP0PFas12Y', 'ussfmzwftQ8', 'jLN6B0aSrW0', 'OXsTIPdytiw', '121400', 'CKqDDh50gcU', 'HJTxq72GuMs', '273207', 'lxBKEPIUSgc', '234046', '59673', 'USkMa4Evv7U', '213327', 'kXiBdruxTvE', '201005', '94481', 'ChhZna-aBK4', 'a4PHWxILDp0', 'SqAiJrvHXNA', 'kg-W6-hP2Do', '9Lr4i7bIB6w', 'fhADeWE5VgU', '-yRb-Jum7EQ', 'DVAY-u_cJWU', 'wd8VQ5E7o7o', 'N2nCB34Am-E', 'f8Puta8k8fU', '272838', 'Qfa1fY_07bQ', 'WBA79Q3e_PU', 'ozA7pRW4gFM', 'WuaoxGAKue0', '-AUZQgSxyPQ', 'l4oMbKDuW3Y', '198112', 'H9BNzzxlscA', '224631', '111881', 'U-KihZeIfKI', 'JXYot3NDQn0', '7f3ndBCx_JE', 'F8eQI8E-6q4', '112509', '46615', 'p1zqEGwRMI8', 'Wu-wQTmxRgo', 'V0SvSPkiJUY', '28006', 'cia8OM3Oe7Q', '_aJghSQmxD8', '97ENTofrmNo', '252912', 'bkX5FOX22Tw', '108146', 'Iemw8vqt-54', 'vTAV6FThy30', '_WA0HtVEe8U', '132028', 'nXWNHVZtV9A', 'MLegxOZBGUc', '224263', 'q5M1God4M6Y', '9cYNT_YSo8o', '22689', 'SD6wphlw72U', 'SqofxdeEcjg', '_on_E-ZWy0I', '222247', 'cX8FScpsfLE', 'k1BrzX5bc7U', 'Rb1uzHNcYcA', 'RChkXDS8ulE', '7mb8Y2AhXIY', '226640', 'MM2qPdnRmQ8', 'unOeTDc2rlY', 'ROC2YI3tDsk', 'AlJX3Jw3xKk', 'MHVrwCEWLPI', 'bNQOeiAotbk', 'TLPlduck5II', 'An8x4UfwZ7k', 'JHJOK6cdW-0', 'xU3N7ujUB-g', 'RvmTZVNAAuQ', 'LtlL-03S79Q', 'Xy57UpKRNEo', 'lO6N9dyvPTA', 'cW-aX4dPVfk', 'VwGPIUNayKM', 'p7zuPEZgtY4', 'ZtocGyL3Tfc', '24504', '5eY4S1F62Z4', 'ttfaZ8IIWCo', 'z0y1ZxH1f74', 'VLQgw-88v4Q', '1Gp4l-ZTCVk', 'QJBQIOmG1CA', 'jqutn5ou8_0', 'gcFECfN4BCU', 'Dm8AL84e11w', 'tO68uTk-T_E', '215318', 'DlX-WyVe-D0', 'gLTxaEcx41E', 'RmX9t_HY_dU', 'HbaycY0VuZk', 'dxsPkcG-Q30', 'ZcFzcd4ZoMg', 'yUqNp-poh9M', 'yoDMh8FlHR8', '167521', 'kbRtSmJM5aU', 'skRqBxLLJkE', '100178', '-ri04Z7vwnc', 'mVnqP-vLpuo', 'B9oeT0K92wU', '_OmWVs0-6UM', 'DebbnL-_rnI', 'GlShH_ua_GU', 'Jz1oMq6l-ZM', 'L-a4Sh6iAcw', 'LDKWr94J0wM', 'aa0J1AXSseY', '173CpFb3clw', '202826', 'Wmhif6hmPTQ', '283935', 'naZi9AusrW4', 'wO8fUOC4OSE', '_1nvuNk7EFY', 'PHZIx22aFhU', 'ex-dKshlXoY', '6uoM8-9d0zA', 'ahG9c_uaf8s', 'vR90Pdx9wxs']\n"
     ]
    }
   ],
   "source": [
    "# obtain the train/dev/test splits - these splits are based on video IDs\n",
    "train_split = DATASET.standard_folds.standard_train_fold\n",
    "dev_split = DATASET.standard_folds.standard_valid_fold\n",
    "test_split = DATASET.standard_folds.standard_test_fold\n",
    "\n",
    "# inspect the splits: they only contain video IDs\n",
    "print(test_split)"
   ]
  },
  {
   "cell_type": "code",
   "execution_count": 20,
   "metadata": {},
   "outputs": [],
   "source": [
    "# we can see they are in the format of 'video_id[segment_no]', but the splits was specified with video_id only\n",
    "# we need to use regex or something to match the video IDs...\n",
    "import torch\n",
    "import torch.nn as nn\n",
    "\n",
    "from torch.nn.utils.rnn import pad_sequence, pack_padded_sequence, pad_packed_sequence\n",
    "from torch.utils.data import DataLoader, Dataset\n",
    "from tqdm import tqdm_notebook\n",
    "from collections import defaultdict"
   ]
  },
  {
   "cell_type": "code",
   "execution_count": null,
   "metadata": {},
   "outputs": [
    {
     "name": "stderr",
     "output_type": "stream",
     "text": [
      "C:\\Users\\Reeha Parkar\\AppData\\Local\\Temp\\ipykernel_3088\\3487504604.py:57: RuntimeWarning: invalid value encountered in divide\n",
      "  acoustic = np.nan_to_num((acoustic - acoustic.mean(0, keepdims=True)) / (EPS + np.std(acoustic, axis=0, keepdims=True)))\n",
      "c:\\anaconda3\\envs\\dm-cw\\lib\\site-packages\\numpy\\core\\_methods.py:239: RuntimeWarning: overflow encountered in multiply\n",
      "  x = um.multiply(x, x, out=x)\n",
      "C:\\Users\\Reeha Parkar\\AppData\\Local\\Temp\\ipykernel_3088\\3487504604.py:56: RuntimeWarning: invalid value encountered in divide\n",
      "  visual = np.nan_to_num((visual - visual.mean(0, keepdims=True)) / (EPS + np.std(visual, axis=0, keepdims=True)))\n",
      "c:\\anaconda3\\envs\\dm-cw\\lib\\site-packages\\numpy\\core\\_methods.py:181: RuntimeWarning: overflow encountered in reduce\n",
      "  ret = umr_sum(arr, axis, dtype, out, keepdims, where=where)\n",
      "c:\\anaconda3\\envs\\dm-cw\\lib\\site-packages\\numpy\\core\\_methods.py:215: RuntimeWarning: overflow encountered in reduce\n",
      "  arrmean = umr_sum(arr, axis, dtype, keepdims=True, where=where)\n"
     ]
    },
    {
     "name": "stdout",
     "output_type": "stream",
     "text": [
      "Found video that doesn't belong to any splits: -9YyBTjo1zo\n",
      "Found video that doesn't belong to any splits: -9YyBTjo1zo\n",
      "Found video that doesn't belong to any splits: -9YyBTjo1zo\n",
      "Found video that doesn't belong to any splits: -9YyBTjo1zo\n",
      "Found video that doesn't belong to any splits: -9YyBTjo1zo\n",
      "Found video that doesn't belong to any splits: -Alixo7euuU\n",
      "Found video that doesn't belong to any splits: -Alixo7euuU\n",
      "Found video that doesn't belong to any splits: -Alixo7euuU\n",
      "Found video that doesn't belong to any splits: -Alixo7euuU\n",
      "Found video that doesn't belong to any splits: -Alixo7euuU\n",
      "Found video that doesn't belong to any splits: -Alixo7euuU\n",
      "Found video that doesn't belong to any splits: -Alixo7euuU\n",
      "Found video that doesn't belong to any splits: -Alixo7euuU\n",
      "Found video that doesn't belong to any splits: -Alixo7euuU\n",
      "Found video that doesn't belong to any splits: -Alixo7euuU\n",
      "Found video that doesn't belong to any splits: -Alixo7euuU\n",
      "Found video that doesn't belong to any splits: -Alixo7euuU\n",
      "Found video that doesn't belong to any splits: -Alixo7euuU\n",
      "Found video that doesn't belong to any splits: -Alixo7euuU\n",
      "Found video that doesn't belong to any splits: -Eqdz5y4pEY\n",
      "Found video that doesn't belong to any splits: -HvKLjmsO5U\n",
      "Found video that doesn't belong to any splits: -HvKLjmsO5U\n",
      "Found video that doesn't belong to any splits: -IUUR2yyNbw\n",
      "Found video that doesn't belong to any splits: -IUUR2yyNbw\n",
      "Found video that doesn't belong to any splits: -IUUR2yyNbw\n",
      "Found video that doesn't belong to any splits: -IUUR2yyNbw\n",
      "Found video that doesn't belong to any splits: -IUUR2yyNbw\n",
      "Found video that doesn't belong to any splits: -IqSFQePnpU\n",
      "Found video that doesn't belong to any splits: -KCahx2qBOI\n",
      "Found video that doesn't belong to any splits: -KCahx2qBOI\n",
      "Found video that doesn't belong to any splits: -KCahx2qBOI\n",
      "Found video that doesn't belong to any splits: -LnuDPiuuZw\n",
      "Found video that doesn't belong to any splits: -LnuDPiuuZw\n",
      "Found video that doesn't belong to any splits: -LnuDPiuuZw\n",
      "Found video that doesn't belong to any splits: -LnuDPiuuZw\n",
      "Found video that doesn't belong to any splits: -NFrJFQijFE\n",
      "Found video that doesn't belong to any splits: -NFrJFQijFE\n",
      "Found video that doesn't belong to any splits: -NFrJFQijFE\n",
      "Found video that doesn't belong to any splits: -NFrJFQijFE\n",
      "Found video that doesn't belong to any splits: -RpZEe4w4fY\n",
      "Found video that doesn't belong to any splits: -RpZEe4w4fY\n",
      "Found video that doesn't belong to any splits: -RpZEe4w4fY\n",
      "Found video that doesn't belong to any splits: -RpZEe4w4fY\n",
      "Found video that doesn't belong to any splits: -RpZEe4w4fY\n",
      "Found video that doesn't belong to any splits: -RpZEe4w4fY\n",
      "Found video that doesn't belong to any splits: -RpZEe4w4fY\n",
      "Found video that doesn't belong to any splits: -RpZEe4w4fY\n",
      "Found video that doesn't belong to any splits: -RpZEe4w4fY\n",
      "Found video that doesn't belong to any splits: -RpZEe4w4fY\n",
      "Found video that doesn't belong to any splits: -RpZEe4w4fY\n",
      "Found video that doesn't belong to any splits: -RpZEe4w4fY\n",
      "Found video that doesn't belong to any splits: -SYSVSQnTnA\n",
      "Found video that doesn't belong to any splits: -SYSVSQnTnA\n",
      "Found video that doesn't belong to any splits: -SYSVSQnTnA\n",
      "Found video that doesn't belong to any splits: -VmheDA92mM\n",
      "Found video that doesn't belong to any splits: -VmheDA92mM\n",
      "Found video that doesn't belong to any splits: -VmheDA92mM\n",
      "Found video that doesn't belong to any splits: -VmheDA92mM\n",
      "Found video that doesn't belong to any splits: -VmheDA92mM\n",
      "Encountered datapoint -ZgjBOA1Yhw with text shape (38, 1), visual shape (37, 35), acoustic shape (38, 74)\n",
      "Found video that doesn't belong to any splits: -bl5PfNIYrk\n",
      "Found video that doesn't belong to any splits: -bl5PfNIYrk\n",
      "Found video that doesn't belong to any splits: -bl5PfNIYrk\n",
      "Found video that doesn't belong to any splits: -bl5PfNIYrk\n",
      "Found video that doesn't belong to any splits: -bl5PfNIYrk\n",
      "Found video that doesn't belong to any splits: -bl5PfNIYrk\n",
      "Found video that doesn't belong to any splits: -bl5PfNIYrk\n",
      "Found video that doesn't belong to any splits: -cmk6cfUeMs\n",
      "Found video that doesn't belong to any splits: -cmk6cfUeMs\n",
      "Found video that doesn't belong to any splits: -dZ1TCboxcQ\n",
      "Found video that doesn't belong to any splits: -dZ1TCboxcQ\n",
      "Found video that doesn't belong to any splits: -dZ1TCboxcQ\n",
      "Found video that doesn't belong to any splits: -dZ1TCboxcQ\n",
      "Found video that doesn't belong to any splits: -hPfPhUIzfA\n",
      "Found video that doesn't belong to any splits: -hPfPhUIzfA\n",
      "Found video that doesn't belong to any splits: -hPfPhUIzfA\n",
      "Found video that doesn't belong to any splits: -hPfPhUIzfA\n",
      "Found video that doesn't belong to any splits: -l_53IwQoj0\n",
      "Found video that doesn't belong to any splits: -m9KtvCk_L8\n",
      "Found video that doesn't belong to any splits: -m9KtvCk_L8\n",
      "Found video that doesn't belong to any splits: -m9KtvCk_L8\n",
      "Found video that doesn't belong to any splits: -o_667Ny7RM\n",
      "Found video that doesn't belong to any splits: -qMhGeJkp5o\n",
      "Found video that doesn't belong to any splits: -qMhGeJkp5o\n",
      "Found video that doesn't belong to any splits: -qMhGeJkp5o\n",
      "Found video that doesn't belong to any splits: -qMhGeJkp5o\n",
      "Found video that doesn't belong to any splits: -qMhGeJkp5o\n",
      "Found video that doesn't belong to any splits: -qMhGeJkp5o\n",
      "Found video that doesn't belong to any splits: -qMhGeJkp5o\n",
      "Found video that doesn't belong to any splits: -qMhGeJkp5o\n",
      "Found video that doesn't belong to any splits: -qMhGeJkp5o\n",
      "Found video that doesn't belong to any splits: -wdUIwjDMfg\n",
      "Encountered datapoint 0hCOCt6fWas with text shape (18, 1), visual shape (17, 35), acoustic shape (18, 74)\n",
      "Found video that doesn't belong to any splits: 1S4p-Lfhbp4\n",
      "Found video that doesn't belong to any splits: 1S4p-Lfhbp4\n",
      "Found video that doesn't belong to any splits: 1S4p-Lfhbp4\n",
      "Found video that doesn't belong to any splits: 1S4p-Lfhbp4\n",
      "Found video that doesn't belong to any splits: 1S4p-Lfhbp4\n",
      "Found video that doesn't belong to any splits: 1S4p-Lfhbp4\n",
      "Found video that doesn't belong to any splits: 1knHBRVPoYQ\n",
      "Found video that doesn't belong to any splits: 1knHBRVPoYQ\n",
      "Found video that doesn't belong to any splits: 1knHBRVPoYQ\n",
      "Found video that doesn't belong to any splits: 1knHBRVPoYQ\n",
      "Found video that doesn't belong to any splits: 1knHBRVPoYQ\n",
      "Found video that doesn't belong to any splits: 1knHBRVPoYQ\n",
      "Found video that doesn't belong to any splits: 1knHBRVPoYQ\n",
      "Found video that doesn't belong to any splits: 1knHBRVPoYQ\n",
      "Encountered datapoint 1zXAYdPdzy8 with text shape (36, 1), visual shape (35, 35), acoustic shape (36, 74)\n",
      "Found video that doesn't belong to any splits: 4Y8ROYezksQ\n",
      "Found video that doesn't belong to any splits: 5OUcvUDMMWE\n",
      "Found video that doesn't belong to any splits: 5OUcvUDMMWE\n",
      "Found video that doesn't belong to any splits: 5OUcvUDMMWE\n",
      "Found video that doesn't belong to any splits: 5OUcvUDMMWE\n",
      "Found video that doesn't belong to any splits: 5OUcvUDMMWE\n",
      "Found video that doesn't belong to any splits: 5OUcvUDMMWE\n",
      "Found video that doesn't belong to any splits: 5OUcvUDMMWE\n",
      "Found video that doesn't belong to any splits: 5OUcvUDMMWE\n",
      "Found video that doesn't belong to any splits: 5OUcvUDMMWE\n",
      "Found video that doesn't belong to any splits: 5OUcvUDMMWE\n",
      "Found video that doesn't belong to any splits: 5OUcvUDMMWE\n",
      "Encountered datapoint 69824 with text shape (7, 1), visual shape (6, 35), acoustic shape (7, 74)\n",
      "Found video that doesn't belong to any splits: 6ywl-j2-e-s\n",
      "Found video that doesn't belong to any splits: 6ywl-j2-e-s\n",
      "Found video that doesn't belong to any splits: 7BFhRPlSOf0\n",
      "Found video that doesn't belong to any splits: 7BFhRPlSOf0\n",
      "Found video that doesn't belong to any splits: 7BFhRPlSOf0\n",
      "Found video that doesn't belong to any splits: 7BFhRPlSOf0\n",
      "Found video that doesn't belong to any splits: 7BFhRPlSOf0\n",
      "Encountered datapoint 8f_lBxZgDb0 with text shape (55, 1), visual shape (54, 35), acoustic shape (55, 74)\n",
      "Found video that doesn't belong to any splits: 8vpoQ5UVpXE\n",
      "Found video that doesn't belong to any splits: 8vpoQ5UVpXE\n",
      "Found video that doesn't belong to any splits: 8vpoQ5UVpXE\n",
      "Found video that doesn't belong to any splits: 8vpoQ5UVpXE\n",
      "Found video that doesn't belong to any splits: 8vpoQ5UVpXE\n",
      "Encountered datapoint 92221 with text shape (8, 1), visual shape (7, 35), acoustic shape (8, 74)\n",
      "Found video that doesn't belong to any splits: 9OY3NU2ycVw\n",
      "Found video that doesn't belong to any splits: 9OY3NU2ycVw\n",
      "Found video that doesn't belong to any splits: 9OY3NU2ycVw\n",
      "Found video that doesn't belong to any splits: 9OY3NU2ycVw\n",
      "Found video that doesn't belong to any splits: 9OY3NU2ycVw\n",
      "Found video that doesn't belong to any splits: 9OY3NU2ycVw\n",
      "Found video that doesn't belong to any splits: 9OY3NU2ycVw\n",
      "Found video that doesn't belong to any splits: 9OY3NU2ycVw\n",
      "Found video that doesn't belong to any splits: 9OY3NU2ycVw\n",
      "Found video that doesn't belong to any splits: 9kLNVTm3Z90\n",
      "Found video that doesn't belong to any splits: 9kLNVTm3Z90\n",
      "Found video that doesn't belong to any splits: 9kLNVTm3Z90\n",
      "Found video that doesn't belong to any splits: AHXwnFvqYDk\n",
      "Found video that doesn't belong to any splits: AHXwnFvqYDk\n",
      "Found video that doesn't belong to any splits: AHXwnFvqYDk\n",
      "Found video that doesn't belong to any splits: AHXwnFvqYDk\n",
      "Found video that doesn't belong to any splits: AHXwnFvqYDk\n",
      "Found video that doesn't belong to any splits: AHXwnFvqYDk\n",
      "Found video that doesn't belong to any splits: AHXwnFvqYDk\n",
      "Found video that doesn't belong to any splits: AHXwnFvqYDk\n",
      "Found video that doesn't belong to any splits: AcoRjVPIVmQ\n",
      "Found video that doesn't belong to any splits: AcoRjVPIVmQ\n",
      "Found video that doesn't belong to any splits: BgXqrxum5G4\n",
      "Found video that doesn't belong to any splits: BgXqrxum5G4\n",
      "Found video that doesn't belong to any splits: BgXqrxum5G4\n",
      "Found video that doesn't belong to any splits: BgXqrxum5G4\n",
      "Found video that doesn't belong to any splits: BgXqrxum5G4\n",
      "Found video that doesn't belong to any splits: BgXqrxum5G4\n",
      "Found video that doesn't belong to any splits: BgXqrxum5G4\n",
      "Found video that doesn't belong to any splits: BgXqrxum5G4\n",
      "Found video that doesn't belong to any splits: CXvUdCdKTJY\n",
      "Found video that doesn't belong to any splits: CXvUdCdKTJY\n",
      "Found video that doesn't belong to any splits: CXvUdCdKTJY\n",
      "Found video that doesn't belong to any splits: CXvUdCdKTJY\n",
      "Found video that doesn't belong to any splits: EWYivXUavOY\n",
      "Found video that doesn't belong to any splits: EWYivXUavOY\n",
      "Found video that doesn't belong to any splits: EWYivXUavOY\n",
      "Found video that doesn't belong to any splits: EWYivXUavOY\n",
      "Found video that doesn't belong to any splits: EWYivXUavOY\n",
      "Found video that doesn't belong to any splits: EuSp1pkX9i8\n",
      "Found video that doesn't belong to any splits: EuSp1pkX9i8\n",
      "Found video that doesn't belong to any splits: FzxmeVRTjwU\n",
      "Found video that doesn't belong to any splits: FzxmeVRTjwU\n",
      "Found video that doesn't belong to any splits: FzxmeVRTjwU\n",
      "Found video that doesn't belong to any splits: FzxmeVRTjwU\n",
      "Found video that doesn't belong to any splits: FzxmeVRTjwU\n",
      "Found video that doesn't belong to any splits: FzxmeVRTjwU\n",
      "Found video that doesn't belong to any splits: FzxmeVRTjwU\n",
      "Found video that doesn't belong to any splits: FzxmeVRTjwU\n",
      "Found video that doesn't belong to any splits: FzxmeVRTjwU\n"
     ]
    },
    {
     "ename": "KeyError",
     "evalue": "'HuIKyKkEL0Q[0]'",
     "output_type": "error",
     "traceback": [
      "\u001b[1;31m---------------------------------------------------------------------------\u001b[0m",
      "\u001b[1;31mKeyError\u001b[0m                                  Traceback (most recent call last)",
      "Cell \u001b[1;32mIn[21], line 24\u001b[0m\n\u001b[0;32m     22\u001b[0m label \u001b[38;5;241m=\u001b[39m dataset[label_field][segment][\u001b[38;5;124m'\u001b[39m\u001b[38;5;124mfeatures\u001b[39m\u001b[38;5;124m'\u001b[39m]\n\u001b[0;32m     23\u001b[0m _words \u001b[38;5;241m=\u001b[39m dataset[text_field][segment][\u001b[38;5;124m'\u001b[39m\u001b[38;5;124mfeatures\u001b[39m\u001b[38;5;124m'\u001b[39m]\n\u001b[1;32m---> 24\u001b[0m _visual \u001b[38;5;241m=\u001b[39m \u001b[43mdataset\u001b[49m\u001b[43m[\u001b[49m\u001b[43mvisual_field\u001b[49m\u001b[43m]\u001b[49m\u001b[43m[\u001b[49m\u001b[43msegment\u001b[49m\u001b[43m]\u001b[49m[\u001b[38;5;124m'\u001b[39m\u001b[38;5;124mfeatures\u001b[39m\u001b[38;5;124m'\u001b[39m]\n\u001b[0;32m     25\u001b[0m _acoustic \u001b[38;5;241m=\u001b[39m dataset[acoustic_field][segment][\u001b[38;5;124m'\u001b[39m\u001b[38;5;124mfeatures\u001b[39m\u001b[38;5;124m'\u001b[39m]\n\u001b[0;32m     27\u001b[0m \u001b[38;5;66;03m# if the sequences are not same length after alignment, there must be some problem with some modalities\u001b[39;00m\n\u001b[0;32m     28\u001b[0m \u001b[38;5;66;03m# we should drop it or inspect the data again\u001b[39;00m\n",
      "File \u001b[1;32mC:\\Users/Reeha Parkar/OneDrive/Desktop/Workspace/KCL/Semester 2/Project/Experiments/CMU-MultimodalSDK\\mmsdk\\mmdatasdk\\computational_sequence\\computational_sequence.py:42\u001b[0m, in \u001b[0;36mcomputational_sequence.__getitem__\u001b[1;34m(self, key)\u001b[0m\n\u001b[0;32m     41\u001b[0m \u001b[38;5;28;01mdef\u001b[39;00m \u001b[38;5;21m__getitem__\u001b[39m(\u001b[38;5;28mself\u001b[39m, key):\n\u001b[1;32m---> 42\u001b[0m \t\u001b[38;5;28;01mreturn\u001b[39;00m \u001b[38;5;28;43mself\u001b[39;49m\u001b[38;5;241;43m.\u001b[39;49m\u001b[43mdata\u001b[49m\u001b[43m[\u001b[49m\u001b[43mkey\u001b[49m\u001b[43m]\u001b[49m\n",
      "\u001b[1;31mKeyError\u001b[0m: 'HuIKyKkEL0Q[0]'"
     ]
    }
   ],
   "source": [
    "# a sentinel epsilon for safe division, without it we will replace illegal values with a constant\n",
    "EPS = 0\n",
    "\n",
    "# construct a word2id mapping that automatically takes increment when new words are encountered\n",
    "word2id = defaultdict(lambda: len(word2id))\n",
    "UNK = word2id['<unk>']\n",
    "PAD = word2id['<pad>']\n",
    "\n",
    "# place holders for the final train/dev/test dataset\n",
    "train = []\n",
    "dev = []\n",
    "test = []\n",
    "\n",
    "# define a regular expression to extract the video ID out of the keys\n",
    "pattern = re.compile('(.*)\\[.*\\]')\n",
    "num_drop = 0 # a counter to count how many data points went into some processing issues\n",
    "\n",
    "for segment in dataset[label_field].keys():\n",
    "    if (segment in dataset[acoustic_field][\"features\"] and segment in dataset[visual_field][\"features\"]):\n",
    "    # get the video ID and the features out of the aligned dataset\n",
    "        vid = re.search(pattern, segment).group(1)\n",
    "        label = dataset[label_field][segment]['features']\n",
    "        _words = dataset[text_field][segment]['features']\n",
    "        _visual = dataset[visual_field][segment]['features']\n",
    "        _acoustic = dataset[acoustic_field][segment]['features']\n",
    "\n",
    "    # if the sequences are not same length after alignment, there must be some problem with some modalities\n",
    "    # we should drop it or inspect the data again\n",
    "    if not _words.shape[0] == _visual.shape[0] == _acoustic.shape[0]:\n",
    "        print(f\"Encountered datapoint {vid} with text shape {_words.shape}, visual shape {_visual.shape}, acoustic shape {_acoustic.shape}\")\n",
    "        num_drop += 1\n",
    "        continue\n",
    "\n",
    "    # remove nan values\n",
    "    label = np.nan_to_num(label)\n",
    "    _visual = np.nan_to_num(_visual)\n",
    "    _acoustic = np.nan_to_num(_acoustic)\n",
    "\n",
    "    # remove speech pause tokens - this is in general helpful\n",
    "    # we should remove speech pauses and corresponding visual/acoustic features together\n",
    "    # otherwise modalities would no longer be aligned\n",
    "    words = []\n",
    "    visual = []\n",
    "    acoustic = []\n",
    "    for i, word in enumerate(_words):\n",
    "        if word[0] != b'sp':\n",
    "            words.append(word2id[word[0].decode('utf-8')]) # SDK stores strings as bytes, decode into strings here\n",
    "            visual.append(_visual[i, :])\n",
    "            acoustic.append(_acoustic[i, :])\n",
    "\n",
    "    words = np.asarray(words)\n",
    "    visual = np.asarray(visual)\n",
    "    acoustic = np.asarray(acoustic)\n",
    "\n",
    "    # z-normalization per instance and remove nan/infs\n",
    "    visual = np.nan_to_num((visual - visual.mean(0, keepdims=True)) / (EPS + np.std(visual, axis=0, keepdims=True)))\n",
    "    acoustic = np.nan_to_num((acoustic - acoustic.mean(0, keepdims=True)) / (EPS + np.std(acoustic, axis=0, keepdims=True)))\n",
    "\n",
    "    if vid in train_split:\n",
    "        train.append(((words, visual, acoustic), label, segment))\n",
    "    elif vid in dev_split:\n",
    "        dev.append(((words, visual, acoustic), label, segment))\n",
    "    elif vid in test_split:\n",
    "        test.append(((words, visual, acoustic), label, segment))\n",
    "    else:\n",
    "        print(f\"Found video that doesn't belong to any splits: {vid}\")\n",
    "\n",
    "print(f\"Total number of {num_drop} datapoints have been dropped.\")\n",
    "\n",
    "# turn off the word2id - define a named function here to allow for pickling\n",
    "def return_unk():\n",
    "    return UNK\n",
    "word2id.default_factory = return_unk"
   ]
  },
  {
   "cell_type": "markdown",
   "metadata": {},
   "source": [
    "## Inspect the dataset\n",
    "\n",
    "Now that we have loaded the data, we can check the sizes of each split, data point shapes, vocabulary size, etc."
   ]
  },
  {
   "cell_type": "code",
   "execution_count": 22,
   "metadata": {
    "scrolled": true
   },
   "outputs": [
    {
     "name": "stdout",
     "output_type": "stream",
     "text": [
      "1281\n",
      "229\n",
      "685\n",
      "(5, 47)\n",
      "(1, 1)\n",
      "[[2.4]]\n",
      "Total vocab size: 3117\n"
     ]
    }
   ],
   "source": [
    "# let's see the size of each set and shape of data\n",
    "print(len(train))\n",
    "print(len(dev))\n",
    "print(len(test))\n",
    "\n",
    "print(train[0][0][1].shape)\n",
    "print(train[0][1].shape)\n",
    "print(train[0][1])\n",
    "\n",
    "print(f\"Total vocab size: {len(word2id)}\")"
   ]
  },
  {
   "cell_type": "markdown",
   "metadata": {},
   "source": [
    "## Collate function in PyTorch\n",
    "\n",
    "Collate functions are functions used by PyTorch dataloader to gather batched data from dataset. It loads multiple data points from an iterable dataset object and put them in a certain format. Here we just use the lists we've constructed as the dataset and assume PyTorch dataloader will operate on that."
   ]
  },
  {
   "cell_type": "code",
   "execution_count": 29,
   "metadata": {},
   "outputs": [
    {
     "name": "stdout",
     "output_type": "stream",
     "text": [
      "torch.Size([28, 8])\n",
      "torch.Size([28, 8, 47])\n",
      "torch.Size([28, 8, 74])\n",
      "tensor([[ 1.4000],\n",
      "        [ 0.2000],\n",
      "        [ 0.4000],\n",
      "        [-0.8000],\n",
      "        [-2.0000],\n",
      "        [-2.0000],\n",
      "        [-1.0000],\n",
      "        [-0.6000]])\n",
      "tensor([28, 19, 14, 13, 10,  6,  6,  6])\n"
     ]
    }
   ],
   "source": [
    "def multi_collate(batch):\n",
    "    '''\n",
    "    Collate functions assume batch = [Dataset[i] for i in index_set]\n",
    "    '''\n",
    "    # for later use we sort the batch in descending order of length\n",
    "    batch = sorted(batch, key=lambda x: x[0][0].shape[0], reverse=True)\n",
    "    \n",
    "    # get the data out of the batch - use pad sequence util functions from PyTorch to pad things\n",
    "    labels = torch.cat([torch.from_numpy(sample[1]) for sample in batch], dim=0)\n",
    "    sentences = pad_sequence([torch.LongTensor(sample[0][0]) for sample in batch], padding_value=PAD)\n",
    "    visual = pad_sequence([torch.FloatTensor(sample[0][1]) for sample in batch])\n",
    "    acoustic = pad_sequence([torch.FloatTensor(sample[0][2]) for sample in batch])\n",
    "    \n",
    "    # lengths are useful later in using RNNs\n",
    "    lengths = torch.LongTensor([sample[0][0].shape[0] for sample in batch])\n",
    "    return sentences, visual, acoustic, labels, lengths\n",
    "\n",
    "# construct dataloaders, dev and test could use around ~X3 times batch size since no_grad is used during eval\n",
    "batch_sz = 56\n",
    "train_loader = DataLoader(train, shuffle=True, batch_size=batch_sz, collate_fn=multi_collate)\n",
    "dev_loader = DataLoader(dev, shuffle=False, batch_size=batch_sz*3, collate_fn=multi_collate)\n",
    "test_loader = DataLoader(test, shuffle=False, batch_size=batch_sz*3, collate_fn=multi_collate)\n",
    "\n",
    "# let's create a temporary dataloader just to see how the batch looks like\n",
    "temp_loader = iter(DataLoader(test, shuffle=True, batch_size=8, collate_fn=multi_collate))\n",
    "batch = next(temp_loader)\n",
    "\n",
    "print(batch[0].shape) # word vectors, padded to maxlen\n",
    "print(batch[1].shape) # visual features\n",
    "print(batch[2].shape) # acoustic features\n",
    "print(batch[3]) # labels\n",
    "print(batch[4]) # lengths"
   ]
  },
  {
   "cell_type": "code",
   "execution_count": 30,
   "metadata": {},
   "outputs": [
    {
     "name": "stdout",
     "output_type": "stream",
     "text": [
      "hes funny\n",
      "[[2.]]\n",
      "7JsX8y1ysxY[9]\n"
     ]
    }
   ],
   "source": [
    "# Let's actually inspect the transcripts to ensure it's correct\n",
    "id2word = {v:k for k, v in word2id.items()}\n",
    "examine_target = train\n",
    "idx = np.random.randint(0, len(examine_target))\n",
    "print(' '.join(list(map(lambda x: id2word[x], examine_target[idx][0][0].tolist()))))\n",
    "# print(' '.join(examine_target[idx][0]))\n",
    "print(examine_target[idx][1])\n",
    "print(examine_target[idx][2])"
   ]
  },
  {
   "cell_type": "markdown",
   "metadata": {},
   "source": [
    "## Define a multimodal model\n",
    "\n",
    "Here we show a simple example of late-fusion LSTM. Late-fusion refers to combining the features from different modalities at the final prediction stage, without introducing any interactions between them before that."
   ]
  },
  {
   "cell_type": "code",
   "execution_count": 31,
   "metadata": {},
   "outputs": [],
   "source": [
    "# let's define a simple model that can deal with multimodal variable length sequence\n",
    "class LFLSTM(nn.Module):\n",
    "    def __init__(self, input_sizes, hidden_sizes, fc1_size, output_size, dropout_rate):\n",
    "        super(LFLSTM, self).__init__()\n",
    "        self.input_size = input_sizes\n",
    "        self.hidden_size = hidden_sizes\n",
    "        self.fc1_size = fc1_size\n",
    "        self.output_size = output_size\n",
    "        self.dropout_rate = dropout_rate\n",
    "        \n",
    "        # defining modules - two layer bidirectional LSTM with layer norm in between\n",
    "        self.embed = nn.Embedding(len(word2id), input_sizes[0])\n",
    "        self.trnn1 = nn.LSTM(input_sizes[0], hidden_sizes[0], bidirectional=True)\n",
    "        self.trnn2 = nn.LSTM(2*hidden_sizes[0], hidden_sizes[0], bidirectional=True)\n",
    "        \n",
    "        self.vrnn1 = nn.LSTM(input_sizes[1], hidden_sizes[1], bidirectional=True)\n",
    "        self.vrnn2 = nn.LSTM(2*hidden_sizes[1], hidden_sizes[1], bidirectional=True)\n",
    "        \n",
    "        self.arnn1 = nn.LSTM(input_sizes[2], hidden_sizes[2], bidirectional=True)\n",
    "        self.arnn2 = nn.LSTM(2*hidden_sizes[2], hidden_sizes[2], bidirectional=True)\n",
    "\n",
    "        self.fc1 = nn.Linear(sum(hidden_sizes)*4, fc1_size)\n",
    "        self.fc2 = nn.Linear(fc1_size, output_size)\n",
    "        self.relu = nn.ReLU()\n",
    "        self.dropout = nn.Dropout(dropout_rate)\n",
    "        self.tlayer_norm = nn.LayerNorm((hidden_sizes[0]*2,))\n",
    "        self.vlayer_norm = nn.LayerNorm((hidden_sizes[1]*2,))\n",
    "        self.alayer_norm = nn.LayerNorm((hidden_sizes[2]*2,))\n",
    "        self.bn = nn.BatchNorm1d(sum(hidden_sizes)*4)\n",
    "\n",
    "        \n",
    "    def extract_features(self, sequence, lengths, rnn1, rnn2, layer_norm):\n",
    "        packed_sequence = pack_padded_sequence(sequence, lengths)\n",
    "        packed_h1, (final_h1, _) = rnn1(packed_sequence)\n",
    "        padded_h1, _ = pad_packed_sequence(packed_h1)\n",
    "        normed_h1 = layer_norm(padded_h1)\n",
    "        packed_normed_h1 = pack_padded_sequence(normed_h1, lengths)\n",
    "        _, (final_h2, _) = rnn2(packed_normed_h1)\n",
    "        return final_h1, final_h2\n",
    "\n",
    "        \n",
    "    def fusion(self, sentences, visual, acoustic, lengths):\n",
    "        batch_size = lengths.size(0)\n",
    "        sentences = self.embed(sentences)\n",
    "        \n",
    "        # extract features from text modality\n",
    "        final_h1t, final_h2t = self.extract_features(sentences, lengths, self.trnn1, self.trnn2, self.tlayer_norm)\n",
    "        \n",
    "        # extract features from visual modality\n",
    "        final_h1v, final_h2v = self.extract_features(visual, lengths, self.vrnn1, self.vrnn2, self.vlayer_norm)\n",
    "        \n",
    "        # extract features from acoustic modality\n",
    "        final_h1a, final_h2a = self.extract_features(acoustic, lengths, self.arnn1, self.arnn2, self.alayer_norm)\n",
    "\n",
    "        \n",
    "        # simple late fusion -- concatenation + normalization\n",
    "        h = torch.cat((final_h1t, final_h2t, final_h1v, final_h2v, final_h1a, final_h2a),\n",
    "                       dim=2).permute(1, 0, 2).contiguous().view(batch_size, -1)\n",
    "        return self.bn(h)\n",
    "\n",
    "    def forward(self, sentences, visual, acoustic, lengths):\n",
    "        batch_size = lengths.size(0)\n",
    "        h = self.fusion(sentences, visual, acoustic, lengths)\n",
    "        h = self.fc1(h)\n",
    "        h = self.dropout(h)\n",
    "        h = self.relu(h)\n",
    "        o = self.fc2(h)\n",
    "        return o"
   ]
  },
  {
   "cell_type": "markdown",
   "metadata": {},
   "source": [
    "## Load pretrained embeddings\n",
    "\n",
    "We define a function for loading pretrained word embeddings stored in GloVe-style file. Contextualized embeddings obviously cannot be stored and loaded this way, though."
   ]
  },
  {
   "cell_type": "code",
   "execution_count": 32,
   "metadata": {},
   "outputs": [],
   "source": [
    "# define a function that loads data from GloVe-like embedding files\n",
    "# we will add tutorials for loading contextualized embeddings later\n",
    "# 2196017 is the vocab size of GloVe here.\n",
    "\n",
    "def load_emb(w2i, path_to_embedding, embedding_size=300, embedding_vocab=2196017, init_emb=None):\n",
    "    if init_emb is None:\n",
    "        emb_mat = np.random.randn(len(w2i), embedding_size)\n",
    "    else:\n",
    "        emb_mat = init_emb\n",
    "    f = open(path_to_embedding, 'r')\n",
    "    found = 0\n",
    "    for line in tqdm_notebook(f, total=embedding_vocab):\n",
    "        content = line.strip().split()\n",
    "        vector = np.asarray(list(map(lambda x: float(x), content[-300:])))\n",
    "        word = ' '.join(content[:-300])\n",
    "        if word in w2i:\n",
    "            idx = w2i[word]\n",
    "            emb_mat[idx, :] = vector\n",
    "            found += 1\n",
    "    print(f\"Found {found} words in the embedding file.\")\n",
    "    return torch.tensor(emb_mat).float()"
   ]
  },
  {
   "cell_type": "markdown",
   "metadata": {},
   "source": [
    "## Training a model\n",
    "\n",
    "Next we train a model. We use Adam with gradient clipping and weight decay for training, and our loss here is Mean Absolute Error (MOSI is a regression dataset). We exclude the embeddings from trainable computation graph to prevent overfitting. We also apply a early-stopping scheme with learning rate annealing based on validation loss."
   ]
  },
  {
   "cell_type": "code",
   "execution_count": 34,
   "metadata": {
    "scrolled": true
   },
   "outputs": [
    {
     "data": {
      "application/vnd.jupyter.widget-view+json": {
       "model_id": "1776dd6725104aee8d69a3a51bc1f125",
       "version_major": 2,
       "version_minor": 0
      },
      "text/plain": [
       "HBox(children=(IntProgress(value=0, max=23), HTML(value='')))"
      ]
     },
     "metadata": {},
     "output_type": "display_data"
    },
    {
     "name": "stdout",
     "output_type": "stream",
     "text": [
      "Training loss: 1.1386\n",
      "Validation loss: 1.371\n",
      "Current patience: 8, current trial: 3.\n",
      "Found new best model on dev set!\n"
     ]
    },
    {
     "data": {
      "application/vnd.jupyter.widget-view+json": {
       "model_id": "006124110b404defa70fba36dc69e107",
       "version_major": 2,
       "version_minor": 0
      },
      "text/plain": [
       "HBox(children=(IntProgress(value=0, max=23), HTML(value='')))"
      ]
     },
     "metadata": {},
     "output_type": "display_data"
    },
    {
     "name": "stdout",
     "output_type": "stream",
     "text": [
      "Training loss: 0.8447\n",
      "Validation loss: 1.2764\n",
      "Current patience: 8, current trial: 3.\n",
      "Found new best model on dev set!\n"
     ]
    },
    {
     "data": {
      "application/vnd.jupyter.widget-view+json": {
       "model_id": "6d83b5d754de485b8600d79e0391bfea",
       "version_major": 2,
       "version_minor": 0
      },
      "text/plain": [
       "HBox(children=(IntProgress(value=0, max=23), HTML(value='')))"
      ]
     },
     "metadata": {},
     "output_type": "display_data"
    },
    {
     "name": "stdout",
     "output_type": "stream",
     "text": [
      "Training loss: 0.7315\n",
      "Validation loss: 1.1768\n",
      "Current patience: 8, current trial: 3.\n",
      "Found new best model on dev set!\n"
     ]
    },
    {
     "data": {
      "application/vnd.jupyter.widget-view+json": {
       "model_id": "b5c4b111b648449f96fb73e5cdae9117",
       "version_major": 2,
       "version_minor": 0
      },
      "text/plain": [
       "HBox(children=(IntProgress(value=0, max=23), HTML(value='')))"
      ]
     },
     "metadata": {},
     "output_type": "display_data"
    },
    {
     "name": "stdout",
     "output_type": "stream",
     "text": [
      "Training loss: 0.6246\n",
      "Validation loss: 1.2723\n",
      "Current patience: 8, current trial: 3.\n"
     ]
    },
    {
     "data": {
      "application/vnd.jupyter.widget-view+json": {
       "model_id": "0a8e8456352c4da3a665978d3a425709",
       "version_major": 2,
       "version_minor": 0
      },
      "text/plain": [
       "HBox(children=(IntProgress(value=0, max=23), HTML(value='')))"
      ]
     },
     "metadata": {},
     "output_type": "display_data"
    },
    {
     "name": "stdout",
     "output_type": "stream",
     "text": [
      "Training loss: 0.5839\n",
      "Validation loss: 1.1591\n",
      "Current patience: 7, current trial: 3.\n",
      "Found new best model on dev set!\n"
     ]
    },
    {
     "data": {
      "application/vnd.jupyter.widget-view+json": {
       "model_id": "390ef9e360204aada617d4710b490170",
       "version_major": 2,
       "version_minor": 0
      },
      "text/plain": [
       "HBox(children=(IntProgress(value=0, max=23), HTML(value='')))"
      ]
     },
     "metadata": {},
     "output_type": "display_data"
    },
    {
     "name": "stdout",
     "output_type": "stream",
     "text": [
      "Training loss: 0.5475\n",
      "Validation loss: 1.0939\n",
      "Current patience: 8, current trial: 3.\n",
      "Found new best model on dev set!\n"
     ]
    },
    {
     "data": {
      "application/vnd.jupyter.widget-view+json": {
       "model_id": "de6b61e9a66a488096107d8c9380b2e2",
       "version_major": 2,
       "version_minor": 0
      },
      "text/plain": [
       "HBox(children=(IntProgress(value=0, max=23), HTML(value='')))"
      ]
     },
     "metadata": {},
     "output_type": "display_data"
    },
    {
     "name": "stdout",
     "output_type": "stream",
     "text": [
      "Training loss: 0.4957\n",
      "Validation loss: 1.115\n",
      "Current patience: 8, current trial: 3.\n"
     ]
    },
    {
     "data": {
      "application/vnd.jupyter.widget-view+json": {
       "model_id": "8e95171ce2c147d18aaef064f7c498a8",
       "version_major": 2,
       "version_minor": 0
      },
      "text/plain": [
       "HBox(children=(IntProgress(value=0, max=23), HTML(value='')))"
      ]
     },
     "metadata": {},
     "output_type": "display_data"
    },
    {
     "name": "stdout",
     "output_type": "stream",
     "text": [
      "Training loss: 0.4584\n",
      "Validation loss: 1.0815\n",
      "Current patience: 7, current trial: 3.\n",
      "Found new best model on dev set!\n"
     ]
    },
    {
     "data": {
      "application/vnd.jupyter.widget-view+json": {
       "model_id": "86670ce55198413e8d70152dcb67ee53",
       "version_major": 2,
       "version_minor": 0
      },
      "text/plain": [
       "HBox(children=(IntProgress(value=0, max=23), HTML(value='')))"
      ]
     },
     "metadata": {},
     "output_type": "display_data"
    },
    {
     "name": "stdout",
     "output_type": "stream",
     "text": [
      "Training loss: 0.427\n",
      "Validation loss: 1.0937\n",
      "Current patience: 8, current trial: 3.\n"
     ]
    },
    {
     "data": {
      "application/vnd.jupyter.widget-view+json": {
       "model_id": "ea97e40e4bf544fbbc2ec69a72b2084e",
       "version_major": 2,
       "version_minor": 0
      },
      "text/plain": [
       "HBox(children=(IntProgress(value=0, max=23), HTML(value='')))"
      ]
     },
     "metadata": {},
     "output_type": "display_data"
    },
    {
     "name": "stdout",
     "output_type": "stream",
     "text": [
      "Training loss: 0.4032\n",
      "Validation loss: 1.1297\n",
      "Current patience: 7, current trial: 3.\n"
     ]
    },
    {
     "data": {
      "application/vnd.jupyter.widget-view+json": {
       "model_id": "7375a34b178c44f2a5bdeb95c05e09a5",
       "version_major": 2,
       "version_minor": 0
      },
      "text/plain": [
       "HBox(children=(IntProgress(value=0, max=23), HTML(value='')))"
      ]
     },
     "metadata": {},
     "output_type": "display_data"
    },
    {
     "name": "stdout",
     "output_type": "stream",
     "text": [
      "Training loss: 0.4028\n",
      "Validation loss: 1.0685\n",
      "Current patience: 6, current trial: 3.\n",
      "Found new best model on dev set!\n"
     ]
    },
    {
     "data": {
      "application/vnd.jupyter.widget-view+json": {
       "model_id": "a832076cf24c4cf6a0bb7c7425bae2ef",
       "version_major": 2,
       "version_minor": 0
      },
      "text/plain": [
       "HBox(children=(IntProgress(value=0, max=23), HTML(value='')))"
      ]
     },
     "metadata": {},
     "output_type": "display_data"
    },
    {
     "name": "stdout",
     "output_type": "stream",
     "text": [
      "Training loss: 0.4014\n",
      "Validation loss: 1.0524\n",
      "Current patience: 8, current trial: 3.\n",
      "Found new best model on dev set!\n"
     ]
    },
    {
     "data": {
      "application/vnd.jupyter.widget-view+json": {
       "model_id": "93e58ace9166489081c560fc20f7813b",
       "version_major": 2,
       "version_minor": 0
      },
      "text/plain": [
       "HBox(children=(IntProgress(value=0, max=23), HTML(value='')))"
      ]
     },
     "metadata": {},
     "output_type": "display_data"
    },
    {
     "name": "stdout",
     "output_type": "stream",
     "text": [
      "Training loss: 0.4073\n",
      "Validation loss: 1.0986\n",
      "Current patience: 8, current trial: 3.\n"
     ]
    },
    {
     "data": {
      "application/vnd.jupyter.widget-view+json": {
       "model_id": "5fffd1094b534ac487a51baad9181d99",
       "version_major": 2,
       "version_minor": 0
      },
      "text/plain": [
       "HBox(children=(IntProgress(value=0, max=23), HTML(value='')))"
      ]
     },
     "metadata": {},
     "output_type": "display_data"
    },
    {
     "name": "stdout",
     "output_type": "stream",
     "text": [
      "Training loss: 0.3845\n",
      "Validation loss: 1.1033\n",
      "Current patience: 7, current trial: 3.\n"
     ]
    },
    {
     "data": {
      "application/vnd.jupyter.widget-view+json": {
       "model_id": "73d8cd06000a4154b0cbc37419d0634b",
       "version_major": 2,
       "version_minor": 0
      },
      "text/plain": [
       "HBox(children=(IntProgress(value=0, max=23), HTML(value='')))"
      ]
     },
     "metadata": {},
     "output_type": "display_data"
    },
    {
     "name": "stdout",
     "output_type": "stream",
     "text": [
      "Training loss: 0.3848\n",
      "Validation loss: 1.0728\n",
      "Current patience: 6, current trial: 3.\n"
     ]
    },
    {
     "data": {
      "application/vnd.jupyter.widget-view+json": {
       "model_id": "1bc3e1051b6c4afd80b9da493d662ccf",
       "version_major": 2,
       "version_minor": 0
      },
      "text/plain": [
       "HBox(children=(IntProgress(value=0, max=23), HTML(value='')))"
      ]
     },
     "metadata": {},
     "output_type": "display_data"
    },
    {
     "name": "stdout",
     "output_type": "stream",
     "text": [
      "Training loss: 0.3926\n",
      "Validation loss: 1.1008\n",
      "Current patience: 5, current trial: 3.\n"
     ]
    },
    {
     "data": {
      "application/vnd.jupyter.widget-view+json": {
       "model_id": "32bad5e20455433baae057f85fcc5297",
       "version_major": 2,
       "version_minor": 0
      },
      "text/plain": [
       "HBox(children=(IntProgress(value=0, max=23), HTML(value='')))"
      ]
     },
     "metadata": {},
     "output_type": "display_data"
    },
    {
     "name": "stdout",
     "output_type": "stream",
     "text": [
      "Training loss: 0.3858\n",
      "Validation loss: 1.094\n",
      "Current patience: 4, current trial: 3.\n"
     ]
    },
    {
     "data": {
      "application/vnd.jupyter.widget-view+json": {
       "model_id": "272b85fae6e14cd7bb3f6ec701d9d3da",
       "version_major": 2,
       "version_minor": 0
      },
      "text/plain": [
       "HBox(children=(IntProgress(value=0, max=23), HTML(value='')))"
      ]
     },
     "metadata": {},
     "output_type": "display_data"
    },
    {
     "name": "stdout",
     "output_type": "stream",
     "text": [
      "Training loss: 0.3794\n",
      "Validation loss: 1.1458\n",
      "Current patience: 3, current trial: 3.\n"
     ]
    },
    {
     "data": {
      "application/vnd.jupyter.widget-view+json": {
       "model_id": "2fc8fd82384f4a098908715cf3b8f700",
       "version_major": 2,
       "version_minor": 0
      },
      "text/plain": [
       "HBox(children=(IntProgress(value=0, max=23), HTML(value='')))"
      ]
     },
     "metadata": {},
     "output_type": "display_data"
    },
    {
     "name": "stdout",
     "output_type": "stream",
     "text": [
      "Training loss: 0.3848\n",
      "Validation loss: 1.0925\n",
      "Current patience: 2, current trial: 3.\n"
     ]
    },
    {
     "data": {
      "application/vnd.jupyter.widget-view+json": {
       "model_id": "8ecf71919604473eb0979c33492c32ce",
       "version_major": 2,
       "version_minor": 0
      },
      "text/plain": [
       "HBox(children=(IntProgress(value=0, max=23), HTML(value='')))"
      ]
     },
     "metadata": {},
     "output_type": "display_data"
    },
    {
     "name": "stdout",
     "output_type": "stream",
     "text": [
      "Training loss: 0.3872\n",
      "Validation loss: 1.1394\n",
      "Current patience: 1, current trial: 3.\n"
     ]
    },
    {
     "data": {
      "application/vnd.jupyter.widget-view+json": {
       "model_id": "a2d2b2a289d54467b2fcc67e0df8d188",
       "version_major": 2,
       "version_minor": 0
      },
      "text/plain": [
       "HBox(children=(IntProgress(value=0, max=23), HTML(value='')))"
      ]
     },
     "metadata": {},
     "output_type": "display_data"
    },
    {
     "name": "stdout",
     "output_type": "stream",
     "text": [
      "Training loss: 0.3716\n",
      "Validation loss: 1.1504\n",
      "Current patience: 0, current trial: 3.\n",
      "Running out of patience, loading previous best model.\n",
      "Current learning rate: 0.0001\n"
     ]
    },
    {
     "data": {
      "application/vnd.jupyter.widget-view+json": {
       "model_id": "8a1c4114b8a444bbbbec42ba28227455",
       "version_major": 2,
       "version_minor": 0
      },
      "text/plain": [
       "HBox(children=(IntProgress(value=0, max=23), HTML(value='')))"
      ]
     },
     "metadata": {},
     "output_type": "display_data"
    },
    {
     "name": "stdout",
     "output_type": "stream",
     "text": [
      "Training loss: 0.3474\n",
      "Validation loss: 1.0385\n",
      "Current patience: 8, current trial: 2.\n",
      "Found new best model on dev set!\n"
     ]
    },
    {
     "data": {
      "application/vnd.jupyter.widget-view+json": {
       "model_id": "77618b96991543febe93129e36650e92",
       "version_major": 2,
       "version_minor": 0
      },
      "text/plain": [
       "HBox(children=(IntProgress(value=0, max=23), HTML(value='')))"
      ]
     },
     "metadata": {},
     "output_type": "display_data"
    },
    {
     "name": "stdout",
     "output_type": "stream",
     "text": [
      "Training loss: 0.2987\n",
      "Validation loss: 1.037\n",
      "Current patience: 8, current trial: 2.\n",
      "Found new best model on dev set!\n"
     ]
    },
    {
     "data": {
      "application/vnd.jupyter.widget-view+json": {
       "model_id": "fc71bb04b33e40fcaab2b80a2dba13fa",
       "version_major": 2,
       "version_minor": 0
      },
      "text/plain": [
       "HBox(children=(IntProgress(value=0, max=23), HTML(value='')))"
      ]
     },
     "metadata": {},
     "output_type": "display_data"
    },
    {
     "name": "stdout",
     "output_type": "stream",
     "text": [
      "Training loss: 0.2694\n",
      "Validation loss: 1.0471\n",
      "Current patience: 8, current trial: 2.\n"
     ]
    },
    {
     "data": {
      "application/vnd.jupyter.widget-view+json": {
       "model_id": "67b06c93355b4d2b935f6360cbe9a9a7",
       "version_major": 2,
       "version_minor": 0
      },
      "text/plain": [
       "HBox(children=(IntProgress(value=0, max=23), HTML(value='')))"
      ]
     },
     "metadata": {},
     "output_type": "display_data"
    },
    {
     "name": "stdout",
     "output_type": "stream",
     "text": [
      "Training loss: 0.2567\n",
      "Validation loss: 1.0351\n",
      "Current patience: 7, current trial: 2.\n",
      "Found new best model on dev set!\n"
     ]
    },
    {
     "data": {
      "application/vnd.jupyter.widget-view+json": {
       "model_id": "2e690223607148bdaf3f9a5abb057b32",
       "version_major": 2,
       "version_minor": 0
      },
      "text/plain": [
       "HBox(children=(IntProgress(value=0, max=23), HTML(value='')))"
      ]
     },
     "metadata": {},
     "output_type": "display_data"
    },
    {
     "name": "stdout",
     "output_type": "stream",
     "text": [
      "Training loss: 0.2306\n",
      "Validation loss: 1.0464\n",
      "Current patience: 8, current trial: 2.\n"
     ]
    },
    {
     "data": {
      "application/vnd.jupyter.widget-view+json": {
       "model_id": "3aedf3a77ccc4346bf2d3244b5ef6b7b",
       "version_major": 2,
       "version_minor": 0
      },
      "text/plain": [
       "HBox(children=(IntProgress(value=0, max=23), HTML(value='')))"
      ]
     },
     "metadata": {},
     "output_type": "display_data"
    },
    {
     "name": "stdout",
     "output_type": "stream",
     "text": [
      "Training loss: 0.2383\n",
      "Validation loss: 1.0647\n",
      "Current patience: 7, current trial: 2.\n"
     ]
    },
    {
     "data": {
      "application/vnd.jupyter.widget-view+json": {
       "model_id": "4b505d7f8cf84ca88697386769181d50",
       "version_major": 2,
       "version_minor": 0
      },
      "text/plain": [
       "HBox(children=(IntProgress(value=0, max=23), HTML(value='')))"
      ]
     },
     "metadata": {},
     "output_type": "display_data"
    },
    {
     "name": "stdout",
     "output_type": "stream",
     "text": [
      "Training loss: 0.2395\n",
      "Validation loss: 1.0512\n",
      "Current patience: 6, current trial: 2.\n"
     ]
    },
    {
     "data": {
      "application/vnd.jupyter.widget-view+json": {
       "model_id": "32e5b4e8fbe8439ea27aa8e668df08fd",
       "version_major": 2,
       "version_minor": 0
      },
      "text/plain": [
       "HBox(children=(IntProgress(value=0, max=23), HTML(value='')))"
      ]
     },
     "metadata": {},
     "output_type": "display_data"
    },
    {
     "name": "stdout",
     "output_type": "stream",
     "text": [
      "Training loss: 0.224\n",
      "Validation loss: 1.0518\n",
      "Current patience: 5, current trial: 2.\n"
     ]
    },
    {
     "data": {
      "application/vnd.jupyter.widget-view+json": {
       "model_id": "a0780ec753db4db083a5bceaa91c9f82",
       "version_major": 2,
       "version_minor": 0
      },
      "text/plain": [
       "HBox(children=(IntProgress(value=0, max=23), HTML(value='')))"
      ]
     },
     "metadata": {},
     "output_type": "display_data"
    },
    {
     "name": "stdout",
     "output_type": "stream",
     "text": [
      "Training loss: 0.2209\n",
      "Validation loss: 1.0604\n",
      "Current patience: 4, current trial: 2.\n"
     ]
    },
    {
     "data": {
      "application/vnd.jupyter.widget-view+json": {
       "model_id": "04deceb4c37246429538b469f4e6d6bc",
       "version_major": 2,
       "version_minor": 0
      },
      "text/plain": [
       "HBox(children=(IntProgress(value=0, max=23), HTML(value='')))"
      ]
     },
     "metadata": {},
     "output_type": "display_data"
    },
    {
     "name": "stdout",
     "output_type": "stream",
     "text": [
      "Training loss: 0.2029\n",
      "Validation loss: 1.0552\n",
      "Current patience: 3, current trial: 2.\n"
     ]
    },
    {
     "data": {
      "application/vnd.jupyter.widget-view+json": {
       "model_id": "a0e10873f5744dada6e0824b06960466",
       "version_major": 2,
       "version_minor": 0
      },
      "text/plain": [
       "HBox(children=(IntProgress(value=0, max=23), HTML(value='')))"
      ]
     },
     "metadata": {},
     "output_type": "display_data"
    },
    {
     "name": "stdout",
     "output_type": "stream",
     "text": [
      "Training loss: 0.2093\n",
      "Validation loss: 1.0569\n",
      "Current patience: 2, current trial: 2.\n"
     ]
    },
    {
     "data": {
      "application/vnd.jupyter.widget-view+json": {
       "model_id": "07aa9d339def4e5388a716a30b0f7050",
       "version_major": 2,
       "version_minor": 0
      },
      "text/plain": [
       "HBox(children=(IntProgress(value=0, max=23), HTML(value='')))"
      ]
     },
     "metadata": {},
     "output_type": "display_data"
    },
    {
     "name": "stdout",
     "output_type": "stream",
     "text": [
      "Training loss: 0.2015\n",
      "Validation loss: 1.0552\n",
      "Current patience: 1, current trial: 2.\n"
     ]
    },
    {
     "data": {
      "application/vnd.jupyter.widget-view+json": {
       "model_id": "59bf26bd5827411e812d8b0e2cfd3ec0",
       "version_major": 2,
       "version_minor": 0
      },
      "text/plain": [
       "HBox(children=(IntProgress(value=0, max=23), HTML(value='')))"
      ]
     },
     "metadata": {},
     "output_type": "display_data"
    },
    {
     "name": "stdout",
     "output_type": "stream",
     "text": [
      "Training loss: 0.2096\n",
      "Validation loss: 1.0622\n",
      "Current patience: 0, current trial: 2.\n",
      "Running out of patience, loading previous best model.\n",
      "Current learning rate: 1.0000000000000003e-05\n"
     ]
    },
    {
     "data": {
      "application/vnd.jupyter.widget-view+json": {
       "model_id": "2485a53aa74e4e2db0ba56ad95b87fbe",
       "version_major": 2,
       "version_minor": 0
      },
      "text/plain": [
       "HBox(children=(IntProgress(value=0, max=23), HTML(value='')))"
      ]
     },
     "metadata": {},
     "output_type": "display_data"
    },
    {
     "name": "stdout",
     "output_type": "stream",
     "text": [
      "Training loss: 0.2436\n",
      "Validation loss: 1.0393\n",
      "Current patience: 8, current trial: 1.\n"
     ]
    },
    {
     "data": {
      "application/vnd.jupyter.widget-view+json": {
       "model_id": "7003eb39dfb24e279945e2626c959a52",
       "version_major": 2,
       "version_minor": 0
      },
      "text/plain": [
       "HBox(children=(IntProgress(value=0, max=23), HTML(value='')))"
      ]
     },
     "metadata": {},
     "output_type": "display_data"
    },
    {
     "name": "stdout",
     "output_type": "stream",
     "text": [
      "Training loss: 0.2258\n",
      "Validation loss: 1.0402\n",
      "Current patience: 7, current trial: 1.\n"
     ]
    },
    {
     "data": {
      "application/vnd.jupyter.widget-view+json": {
       "model_id": "b333b96e403d4e5d91656643cdc8642d",
       "version_major": 2,
       "version_minor": 0
      },
      "text/plain": [
       "HBox(children=(IntProgress(value=0, max=23), HTML(value='')))"
      ]
     },
     "metadata": {},
     "output_type": "display_data"
    },
    {
     "name": "stdout",
     "output_type": "stream",
     "text": [
      "Training loss: 0.2464\n",
      "Validation loss: 1.0353\n",
      "Current patience: 6, current trial: 1.\n"
     ]
    },
    {
     "data": {
      "application/vnd.jupyter.widget-view+json": {
       "model_id": "1c940ab618644e8e843fe613ec66ac99",
       "version_major": 2,
       "version_minor": 0
      },
      "text/plain": [
       "HBox(children=(IntProgress(value=0, max=23), HTML(value='')))"
      ]
     },
     "metadata": {},
     "output_type": "display_data"
    },
    {
     "name": "stdout",
     "output_type": "stream",
     "text": [
      "Training loss: 0.2323\n",
      "Validation loss: 1.0411\n",
      "Current patience: 5, current trial: 1.\n"
     ]
    },
    {
     "data": {
      "application/vnd.jupyter.widget-view+json": {
       "model_id": "0088b4a26d6c4d15a83daceff5cf7cb3",
       "version_major": 2,
       "version_minor": 0
      },
      "text/plain": [
       "HBox(children=(IntProgress(value=0, max=23), HTML(value='')))"
      ]
     },
     "metadata": {},
     "output_type": "display_data"
    },
    {
     "name": "stdout",
     "output_type": "stream",
     "text": [
      "Training loss: 0.2406\n",
      "Validation loss: 1.0407\n",
      "Current patience: 4, current trial: 1.\n"
     ]
    },
    {
     "data": {
      "application/vnd.jupyter.widget-view+json": {
       "model_id": "b3529d31911343dd9a3205db81a6949d",
       "version_major": 2,
       "version_minor": 0
      },
      "text/plain": [
       "HBox(children=(IntProgress(value=0, max=23), HTML(value='')))"
      ]
     },
     "metadata": {},
     "output_type": "display_data"
    },
    {
     "name": "stdout",
     "output_type": "stream",
     "text": [
      "Training loss: 0.2243\n",
      "Validation loss: 1.0435\n",
      "Current patience: 3, current trial: 1.\n"
     ]
    },
    {
     "data": {
      "application/vnd.jupyter.widget-view+json": {
       "model_id": "d7e6536dfc154d1a85fd62af7d4f569d",
       "version_major": 2,
       "version_minor": 0
      },
      "text/plain": [
       "HBox(children=(IntProgress(value=0, max=23), HTML(value='')))"
      ]
     },
     "metadata": {},
     "output_type": "display_data"
    },
    {
     "name": "stdout",
     "output_type": "stream",
     "text": [
      "Training loss: 0.2372\n",
      "Validation loss: 1.0399\n",
      "Current patience: 2, current trial: 1.\n"
     ]
    },
    {
     "data": {
      "application/vnd.jupyter.widget-view+json": {
       "model_id": "320c2a946d344e259065b8262637522d",
       "version_major": 2,
       "version_minor": 0
      },
      "text/plain": [
       "HBox(children=(IntProgress(value=0, max=23), HTML(value='')))"
      ]
     },
     "metadata": {},
     "output_type": "display_data"
    },
    {
     "name": "stdout",
     "output_type": "stream",
     "text": [
      "Training loss: 0.2314\n",
      "Validation loss: 1.0417\n",
      "Current patience: 1, current trial: 1.\n"
     ]
    },
    {
     "data": {
      "application/vnd.jupyter.widget-view+json": {
       "model_id": "7fbc1a08a63c40b08c71706913ff6a6e",
       "version_major": 2,
       "version_minor": 0
      },
      "text/plain": [
       "HBox(children=(IntProgress(value=0, max=23), HTML(value='')))"
      ]
     },
     "metadata": {},
     "output_type": "display_data"
    },
    {
     "name": "stdout",
     "output_type": "stream",
     "text": [
      "Training loss: 0.2231\n",
      "Validation loss: 1.0375\n",
      "Current patience: 0, current trial: 1.\n",
      "Running out of patience, loading previous best model.\n",
      "Current learning rate: 1.0000000000000002e-06\n",
      "Running out of patience, early stopping.\n",
      "Test set performance: 1.0627462150406664\n",
      "Test set accuracy is 0.7167883211678832\n"
     ]
    }
   ],
   "source": [
    "from tqdm import tqdm_notebook\n",
    "from torch.optim import Adam, SGD\n",
    "from sklearn.metrics import accuracy_score\n",
    "\n",
    "torch.manual_seed(123)\n",
    "torch.cuda.manual_seed_all(123)\n",
    "\n",
    "CUDA = torch.cuda.is_available()\n",
    "MAX_EPOCH = 1000\n",
    "\n",
    "text_size = 300\n",
    "visual_size = 47\n",
    "acoustic_size = 74\n",
    "\n",
    "# define some model settings and hyper-parameters\n",
    "input_sizes = [text_size, visual_size, acoustic_size]\n",
    "hidden_sizes = [int(text_size * 1.5), int(visual_size * 1.5), int(acoustic_size * 1.5)]\n",
    "fc1_size = sum(hidden_sizes) // 2\n",
    "dropout = 0.25\n",
    "output_size = 1\n",
    "curr_patience = patience = 8\n",
    "num_trials = 3\n",
    "grad_clip_value = 1.0\n",
    "weight_decay = 0.1\n",
    "\n",
    "if os.path.exists(CACHE_PATH):\n",
    "    pretrained_emb, word2id = torch.load(CACHE_PATH)\n",
    "elif WORD_EMB_PATH is not None:\n",
    "    pretrained_emb = load_emb(word2id, WORD_EMB_PATH)\n",
    "    torch.save((pretrained_emb, word2id), CACHE_PATH)\n",
    "else:\n",
    "    pretrained_emb = None\n",
    "\n",
    "model = LFLSTM(input_sizes, hidden_sizes, fc1_size, output_size, dropout)\n",
    "if pretrained_emb is not None:\n",
    "    model.embed.weight.data = pretrained_emb\n",
    "model.embed.requires_grad = False\n",
    "optimizer = Adam([param for param in model.parameters() if param.requires_grad], weight_decay=weight_decay)\n",
    "\n",
    "if CUDA:\n",
    "    model.cuda()\n",
    "criterion = nn.L1Loss(reduction='sum')\n",
    "criterion_test = nn.L1Loss(reduction='sum')\n",
    "best_valid_loss = float('inf')\n",
    "lr_scheduler = torch.optim.lr_scheduler.StepLR(optimizer, step_size=1, gamma=0.1)\n",
    "lr_scheduler.step() # for some reason it seems the StepLR needs to be stepped once first\n",
    "train_losses = []\n",
    "valid_losses = []\n",
    "for e in range(MAX_EPOCH):\n",
    "    model.train()\n",
    "    train_iter = tqdm_notebook(train_loader)\n",
    "    train_loss = 0.0\n",
    "    for batch in train_iter:\n",
    "        model.zero_grad()\n",
    "        t, v, a, y, l = batch\n",
    "        batch_size = t.size(0)\n",
    "        if CUDA:\n",
    "            t = t.cuda()\n",
    "            v = v.cuda()\n",
    "            a = a.cuda()\n",
    "            y = y.cuda()\n",
    "            l = l.cuda()\n",
    "        y_tilde = model(t, v, a, l)\n",
    "        loss = criterion(y_tilde, y)\n",
    "        loss.backward()\n",
    "        torch.nn.utils.clip_grad_value_([param for param in model.parameters() if param.requires_grad], grad_clip_value)\n",
    "        optimizer.step()\n",
    "        train_iter.set_description(f\"Epoch {e}/{MAX_EPOCH}, current batch loss: {round(loss.item()/batch_size, 4)}\")\n",
    "        train_loss += loss.item()\n",
    "    train_loss = train_loss / len(train)\n",
    "    train_losses.append(train_loss)\n",
    "    print(f\"Training loss: {round(train_loss, 4)}\")\n",
    "\n",
    "    model.eval()\n",
    "    with torch.no_grad():\n",
    "        valid_loss = 0.0\n",
    "        for batch in dev_loader:\n",
    "            model.zero_grad()\n",
    "            t, v, a, y, l = batch\n",
    "            if CUDA:\n",
    "                t = t.cuda()\n",
    "                v = v.cuda()\n",
    "                a = a.cuda()\n",
    "                y = y.cuda()\n",
    "                l = l.cuda()\n",
    "            y_tilde = model(t, v, a, l)\n",
    "            loss = criterion(y_tilde, y)\n",
    "            valid_loss += loss.item()\n",
    "    \n",
    "    valid_loss = valid_loss/len(dev)\n",
    "    valid_losses.append(valid_loss)\n",
    "    print(f\"Validation loss: {round(valid_loss, 4)}\")\n",
    "    print(f\"Current patience: {curr_patience}, current trial: {num_trials}.\")\n",
    "    if valid_loss <= best_valid_loss:\n",
    "        best_valid_loss = valid_loss\n",
    "        print(\"Found new best model on dev set!\")\n",
    "        torch.save(model.state_dict(), 'model.std')\n",
    "        torch.save(optimizer.state_dict(), 'optim.std')\n",
    "        curr_patience = patience\n",
    "    else:\n",
    "        curr_patience -= 1\n",
    "        if curr_patience <= -1:\n",
    "            print(\"Running out of patience, loading previous best model.\")\n",
    "            num_trials -= 1\n",
    "            curr_patience = patience\n",
    "            model.load_state_dict(torch.load('model.std'))\n",
    "            optimizer.load_state_dict(torch.load('optim.std'))\n",
    "            lr_scheduler.step()\n",
    "            print(f\"Current learning rate: {optimizer.state_dict()['param_groups'][0]['lr']}\")\n",
    "    \n",
    "    if num_trials <= 0:\n",
    "        print(\"Running out of patience, early stopping.\")\n",
    "        break\n",
    "\n",
    "model.load_state_dict(torch.load('model.std'))\n",
    "y_true = []\n",
    "y_pred = []\n",
    "model.eval()\n",
    "with torch.no_grad():\n",
    "    test_loss = 0.0\n",
    "    for batch in test_loader:\n",
    "        model.zero_grad()\n",
    "        t, v, a, y, l = batch\n",
    "        if CUDA:\n",
    "            t = t.cuda()\n",
    "            v = v.cuda()\n",
    "            a = a.cuda()\n",
    "            y = y.cuda()\n",
    "            l = l.cuda()\n",
    "        y_tilde = model(t, v, a, l)\n",
    "        loss = criterion_test(y_tilde, y)\n",
    "        y_true.append(y_tilde.detach().cpu().numpy())\n",
    "        y_pred.append(y.detach().cpu().numpy())\n",
    "        test_loss += loss.item()\n",
    "print(f\"Test set performance: {test_loss/len(test)}\")\n",
    "y_true = np.concatenate(y_true, axis=0)\n",
    "y_pred = np.concatenate(y_pred, axis=0)\n",
    "                  \n",
    "y_true_bin = y_true >= 0\n",
    "y_pred_bin = y_pred >= 0\n",
    "bin_acc = accuracy_score(y_true_bin, y_pred_bin)\n",
    "print(f\"Test set accuracy is {bin_acc}\")"
   ]
  },
  {
   "cell_type": "code",
   "execution_count": null,
   "metadata": {},
   "outputs": [],
   "source": []
  }
 ],
 "metadata": {
  "kernelspec": {
   "display_name": "dm-cw",
   "language": "python",
   "name": "python3"
  },
  "language_info": {
   "codemirror_mode": {
    "name": "ipython",
    "version": 3
   },
   "file_extension": ".py",
   "mimetype": "text/x-python",
   "name": "python",
   "nbconvert_exporter": "python",
   "pygments_lexer": "ipython3",
   "version": "3.8.20"
  }
 },
 "nbformat": 4,
 "nbformat_minor": 2
}
